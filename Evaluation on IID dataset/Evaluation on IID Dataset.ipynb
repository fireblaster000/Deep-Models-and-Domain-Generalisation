{
  "cells": [
    {
      "cell_type": "markdown",
      "metadata": {
        "id": "5c0jiVo5eOZI"
      },
      "source": [
        "# Evaluation on IID Dataset"
      ]
    },
    {
      "cell_type": "markdown",
      "metadata": {
        "id": "KiR82BFAeOZK"
      },
      "source": [
        "Installing missing packages"
      ]
    },
    {
      "cell_type": "code",
      "execution_count": 15,
      "metadata": {
        "colab": {
          "base_uri": "https://localhost:8080/"
        },
        "execution": {
          "iopub.execute_input": "2024-09-29T17:37:00.520497Z",
          "iopub.status.busy": "2024-09-29T17:37:00.520158Z",
          "iopub.status.idle": "2024-09-29T17:37:24.861957Z",
          "shell.execute_reply": "2024-09-29T17:37:24.860861Z",
          "shell.execute_reply.started": "2024-09-29T17:37:00.520460Z"
        },
        "id": "nLenr5Pieqcv",
        "outputId": "0721fb58-867a-4121-cda3-2e60e0f7cf3b",
        "trusted": true
      },
      "outputs": [
        {
          "name": "stdout",
          "output_type": "stream",
          "text": [
            "Requirement already satisfied: timm in /usr/local/lib/python3.10/dist-packages (1.0.9)\n",
            "Requirement already satisfied: transformers in /usr/local/lib/python3.10/dist-packages (4.44.2)\n",
            "Requirement already satisfied: torch in /usr/local/lib/python3.10/dist-packages (from timm) (2.4.1+cu121)\n",
            "Requirement already satisfied: torchvision in /usr/local/lib/python3.10/dist-packages (from timm) (0.19.1+cu121)\n",
            "Requirement already satisfied: pyyaml in /usr/local/lib/python3.10/dist-packages (from timm) (6.0.2)\n",
            "Requirement already satisfied: huggingface_hub in /usr/local/lib/python3.10/dist-packages (from timm) (0.24.7)\n",
            "Requirement already satisfied: safetensors in /usr/local/lib/python3.10/dist-packages (from timm) (0.4.5)\n",
            "Requirement already satisfied: filelock in /usr/local/lib/python3.10/dist-packages (from transformers) (3.16.1)\n",
            "Requirement already satisfied: numpy>=1.17 in /usr/local/lib/python3.10/dist-packages (from transformers) (1.26.4)\n",
            "Requirement already satisfied: packaging>=20.0 in /usr/local/lib/python3.10/dist-packages (from transformers) (24.1)\n",
            "Requirement already satisfied: regex!=2019.12.17 in /usr/local/lib/python3.10/dist-packages (from transformers) (2024.9.11)\n",
            "Requirement already satisfied: requests in /usr/local/lib/python3.10/dist-packages (from transformers) (2.32.3)\n",
            "Requirement already satisfied: tokenizers<0.20,>=0.19 in /usr/local/lib/python3.10/dist-packages (from transformers) (0.19.1)\n",
            "Requirement already satisfied: tqdm>=4.27 in /usr/local/lib/python3.10/dist-packages (from transformers) (4.66.5)\n",
            "Requirement already satisfied: fsspec>=2023.5.0 in /usr/local/lib/python3.10/dist-packages (from huggingface_hub->timm) (2024.6.1)\n",
            "Requirement already satisfied: typing-extensions>=3.7.4.3 in /usr/local/lib/python3.10/dist-packages (from huggingface_hub->timm) (4.12.2)\n",
            "Requirement already satisfied: charset-normalizer<4,>=2 in /usr/local/lib/python3.10/dist-packages (from requests->transformers) (3.3.2)\n",
            "Requirement already satisfied: idna<4,>=2.5 in /usr/local/lib/python3.10/dist-packages (from requests->transformers) (3.10)\n",
            "Requirement already satisfied: urllib3<3,>=1.21.1 in /usr/local/lib/python3.10/dist-packages (from requests->transformers) (2.2.3)\n",
            "Requirement already satisfied: certifi>=2017.4.17 in /usr/local/lib/python3.10/dist-packages (from requests->transformers) (2024.8.30)\n",
            "Requirement already satisfied: sympy in /usr/local/lib/python3.10/dist-packages (from torch->timm) (1.13.3)\n",
            "Requirement already satisfied: networkx in /usr/local/lib/python3.10/dist-packages (from torch->timm) (3.3)\n",
            "Requirement already satisfied: jinja2 in /usr/local/lib/python3.10/dist-packages (from torch->timm) (3.1.4)\n",
            "Requirement already satisfied: pillow!=8.3.*,>=5.3.0 in /usr/local/lib/python3.10/dist-packages (from torchvision->timm) (10.4.0)\n",
            "Requirement already satisfied: MarkupSafe>=2.0 in /usr/local/lib/python3.10/dist-packages (from jinja2->torch->timm) (2.1.5)\n",
            "Requirement already satisfied: mpmath<1.4,>=1.1.0 in /usr/local/lib/python3.10/dist-packages (from sympy->torch->timm) (1.3.0)\n",
            "Requirement already satisfied: torchsummary in /usr/local/lib/python3.10/dist-packages (1.5.1)\n"
          ]
        }
      ],
      "source": [
        "!pip install timm transformers\n",
        "!pip install torchsummary"
      ]
    },
    {
      "cell_type": "markdown",
      "metadata": {
        "id": "dTeTnOExJLSU"
      },
      "source": [
        "Importing necessary libraries\n"
      ]
    },
    {
      "cell_type": "code",
      "execution_count": 16,
      "metadata": {
        "execution": {
          "iopub.execute_input": "2024-09-29T17:37:30.751228Z",
          "iopub.status.busy": "2024-09-29T17:37:30.750855Z",
          "iopub.status.idle": "2024-09-29T17:37:37.302432Z",
          "shell.execute_reply": "2024-09-29T17:37:37.301626Z",
          "shell.execute_reply.started": "2024-09-29T17:37:30.751192Z"
        },
        "id": "TeN-dNsFeOZK",
        "trusted": true
      },
      "outputs": [],
      "source": [
        "import torch\n",
        "import torch.nn as nn\n",
        "import torch.optim as optim\n",
        "import torchvision.transforms as transforms\n",
        "import torchvision.datasets as datasets\n",
        "from torch.utils.data import DataLoader\n",
        "import timm\n",
        "from torchsummary import summary\n",
        "from tqdm import tqdm\n",
        "import matplotlib.pyplot as plt\n",
        "\n",
        "# import clip\n",
        "from transformers import CLIPProcessor, CLIPModel\n",
        "from PIL import Image\n"
      ]
    },
    {
      "cell_type": "markdown",
      "metadata": {
        "id": "jgfiAcB2eOZM"
      },
      "source": [
        "Making the code device agnostic\n"
      ]
    },
    {
      "cell_type": "code",
      "execution_count": 17,
      "metadata": {
        "colab": {
          "base_uri": "https://localhost:8080/"
        },
        "execution": {
          "iopub.execute_input": "2024-09-29T17:37:37.304870Z",
          "iopub.status.busy": "2024-09-29T17:37:37.304017Z",
          "iopub.status.idle": "2024-09-29T17:37:37.354241Z",
          "shell.execute_reply": "2024-09-29T17:37:37.353292Z",
          "shell.execute_reply.started": "2024-09-29T17:37:37.304825Z"
        },
        "id": "fYT7aE_keOZM",
        "outputId": "7e2a4793-a027-4734-cd16-e5a497657c89",
        "trusted": true
      },
      "outputs": [
        {
          "data": {
            "text/plain": [
              "device(type='cuda')"
            ]
          },
          "execution_count": 17,
          "metadata": {},
          "output_type": "execute_result"
        }
      ],
      "source": [
        "# Device configuration\n",
        "device = torch.device(\"cuda\" if torch.cuda.is_available() else \"cpu\")\n",
        "device"
      ]
    },
    {
      "cell_type": "markdown",
      "metadata": {
        "id": "vz3VZ8UmeOZM"
      },
      "source": [
        "Loading CIFAR-10 dataset from torchvision\n"
      ]
    },
    {
      "cell_type": "code",
      "execution_count": 18,
      "metadata": {
        "colab": {
          "base_uri": "https://localhost:8080/"
        },
        "id": "cWUQC8XkeOZM",
        "outputId": "214464e8-95dc-477b-a263-7db3dad8e39f"
      },
      "outputs": [
        {
          "name": "stdout",
          "output_type": "stream",
          "text": [
            "Files already downloaded and verified\n",
            "Files already downloaded and verified\n"
          ]
        }
      ],
      "source": [
        "# CIFAR-10 dataset loading and transformation\n",
        "transform = transforms.Compose([\n",
        "    transforms.Resize((224, 224)),\n",
        "    transforms.ToTensor(),\n",
        "    # transforms.Normalize((0.5, 0.5, 0.5), (0.5, 0.5, 0.5))\n",
        "])\n",
        "\n",
        "train_dataset = datasets.CIFAR10(root='./data', train=True, transform=transform, download=True)\n",
        "test_dataset = datasets.CIFAR10(root='./data', train=False, transform=transform, download=True)\n",
        "\n",
        "train_loader = DataLoader(dataset=train_dataset, batch_size=64, shuffle=True, num_workers=4)\n",
        "test_loader = DataLoader(dataset=test_dataset, batch_size=64, shuffle=False, num_workers=4)\n"
      ]
    },
    {
      "cell_type": "markdown",
      "metadata": {
        "id": "qQXhXe9QeOZN"
      },
      "source": [
        "## Vision Transformer ViT"
      ]
    },
    {
      "cell_type": "code",
      "execution_count": 19,
      "metadata": {
        "colab": {
          "base_uri": "https://localhost:8080/",
          "height": 49,
          "referenced_widgets": [
            "eea265d614294369be3e193789f84f36",
            "446543b54cd3499782f5534d8bf9a6ba",
            "c1d3bc6a9fc743f393cd3084e180b05c",
            "3cd09c5e3a214d8c9637a0f10ecb73dd",
            "8a84f25c3bcd44738e8543aea8e489b1",
            "617457b460ae42bebbc68d6b5aecb19e",
            "96bb1529ccc044e8b8b88d0fa6ad7ade",
            "f70c1e0d16f54d2bb3829c9993646706",
            "e735ec2e9eeb4f53b838f9e6c97fb310",
            "c92f07771499435a8f303b00ae9df8e6",
            "85a06e6e7f9244308e279bacd48df93b"
          ]
        },
        "id": "Hf6BEpXxeOZN",
        "outputId": "47215729-7337-4194-be22-986f4c13406f"
      },
      "outputs": [
        {
          "data": {
            "application/vnd.jupyter.widget-view+json": {
              "model_id": "eea265d614294369be3e193789f84f36",
              "version_major": 2,
              "version_minor": 0
            },
            "text/plain": [
              "model.safetensors:   0%|          | 0.00/346M [00:00<?, ?B/s]"
            ]
          },
          "metadata": {},
          "output_type": "display_data"
        }
      ],
      "source": [
        "vit_model = timm.create_model('vit_base_patch16_224', pretrained=True)\n",
        "\n",
        "# Freeze the feature extractor backbone\n",
        "for param in vit_model.parameters():\n",
        "    param.requires_grad = False\n",
        "\n",
        "# Replace the classifier head with a new head for CIFAR-10 (10 classes)\n",
        "vit_model.head = nn.Linear(vit_model.head.in_features, 10)\n",
        "vit_model = vit_model.to(device)\n",
        "\n",
        "criterion = nn.CrossEntropyLoss()\n",
        "optimizer = optim.Adam(vit_model.parameters(), lr=0.0001)"
      ]
    },
    {
      "cell_type": "code",
      "execution_count": 20,
      "metadata": {
        "colab": {
          "base_uri": "https://localhost:8080/"
        },
        "id": "kLzMStOUlUsi",
        "outputId": "6cc837a4-d086-4e2f-bc89-3e0bcb16388e"
      },
      "outputs": [
        {
          "name": "stdout",
          "output_type": "stream",
          "text": [
            "----------------------------------------------------------------\n",
            "        Layer (type)               Output Shape         Param #\n",
            "================================================================\n",
            "            Conv2d-1          [-1, 768, 14, 14]         590,592\n",
            "          Identity-2             [-1, 196, 768]               0\n",
            "        PatchEmbed-3             [-1, 196, 768]               0\n",
            "           Dropout-4             [-1, 197, 768]               0\n",
            "          Identity-5             [-1, 197, 768]               0\n",
            "          Identity-6             [-1, 197, 768]               0\n",
            "         LayerNorm-7             [-1, 197, 768]           1,536\n",
            "            Linear-8            [-1, 197, 2304]       1,771,776\n",
            "          Identity-9          [-1, 12, 197, 64]               0\n",
            "         Identity-10          [-1, 12, 197, 64]               0\n",
            "           Linear-11             [-1, 197, 768]         590,592\n",
            "          Dropout-12             [-1, 197, 768]               0\n",
            "        Attention-13             [-1, 197, 768]               0\n",
            "         Identity-14             [-1, 197, 768]               0\n",
            "         Identity-15             [-1, 197, 768]               0\n",
            "        LayerNorm-16             [-1, 197, 768]           1,536\n",
            "           Linear-17            [-1, 197, 3072]       2,362,368\n",
            "             GELU-18            [-1, 197, 3072]               0\n",
            "          Dropout-19            [-1, 197, 3072]               0\n",
            "         Identity-20            [-1, 197, 3072]               0\n",
            "           Linear-21             [-1, 197, 768]       2,360,064\n",
            "          Dropout-22             [-1, 197, 768]               0\n",
            "              Mlp-23             [-1, 197, 768]               0\n",
            "         Identity-24             [-1, 197, 768]               0\n",
            "         Identity-25             [-1, 197, 768]               0\n",
            "            Block-26             [-1, 197, 768]               0\n",
            "        LayerNorm-27             [-1, 197, 768]           1,536\n",
            "           Linear-28            [-1, 197, 2304]       1,771,776\n",
            "         Identity-29          [-1, 12, 197, 64]               0\n",
            "         Identity-30          [-1, 12, 197, 64]               0\n",
            "           Linear-31             [-1, 197, 768]         590,592\n",
            "          Dropout-32             [-1, 197, 768]               0\n",
            "        Attention-33             [-1, 197, 768]               0\n",
            "         Identity-34             [-1, 197, 768]               0\n",
            "         Identity-35             [-1, 197, 768]               0\n",
            "        LayerNorm-36             [-1, 197, 768]           1,536\n",
            "           Linear-37            [-1, 197, 3072]       2,362,368\n",
            "             GELU-38            [-1, 197, 3072]               0\n",
            "          Dropout-39            [-1, 197, 3072]               0\n",
            "         Identity-40            [-1, 197, 3072]               0\n",
            "           Linear-41             [-1, 197, 768]       2,360,064\n",
            "          Dropout-42             [-1, 197, 768]               0\n",
            "              Mlp-43             [-1, 197, 768]               0\n",
            "         Identity-44             [-1, 197, 768]               0\n",
            "         Identity-45             [-1, 197, 768]               0\n",
            "            Block-46             [-1, 197, 768]               0\n",
            "        LayerNorm-47             [-1, 197, 768]           1,536\n",
            "           Linear-48            [-1, 197, 2304]       1,771,776\n",
            "         Identity-49          [-1, 12, 197, 64]               0\n",
            "         Identity-50          [-1, 12, 197, 64]               0\n",
            "           Linear-51             [-1, 197, 768]         590,592\n",
            "          Dropout-52             [-1, 197, 768]               0\n",
            "        Attention-53             [-1, 197, 768]               0\n",
            "         Identity-54             [-1, 197, 768]               0\n",
            "         Identity-55             [-1, 197, 768]               0\n",
            "        LayerNorm-56             [-1, 197, 768]           1,536\n",
            "           Linear-57            [-1, 197, 3072]       2,362,368\n",
            "             GELU-58            [-1, 197, 3072]               0\n",
            "          Dropout-59            [-1, 197, 3072]               0\n",
            "         Identity-60            [-1, 197, 3072]               0\n",
            "           Linear-61             [-1, 197, 768]       2,360,064\n",
            "          Dropout-62             [-1, 197, 768]               0\n",
            "              Mlp-63             [-1, 197, 768]               0\n",
            "         Identity-64             [-1, 197, 768]               0\n",
            "         Identity-65             [-1, 197, 768]               0\n",
            "            Block-66             [-1, 197, 768]               0\n",
            "        LayerNorm-67             [-1, 197, 768]           1,536\n",
            "           Linear-68            [-1, 197, 2304]       1,771,776\n",
            "         Identity-69          [-1, 12, 197, 64]               0\n",
            "         Identity-70          [-1, 12, 197, 64]               0\n",
            "           Linear-71             [-1, 197, 768]         590,592\n",
            "          Dropout-72             [-1, 197, 768]               0\n",
            "        Attention-73             [-1, 197, 768]               0\n",
            "         Identity-74             [-1, 197, 768]               0\n",
            "         Identity-75             [-1, 197, 768]               0\n",
            "        LayerNorm-76             [-1, 197, 768]           1,536\n",
            "           Linear-77            [-1, 197, 3072]       2,362,368\n",
            "             GELU-78            [-1, 197, 3072]               0\n",
            "          Dropout-79            [-1, 197, 3072]               0\n",
            "         Identity-80            [-1, 197, 3072]               0\n",
            "           Linear-81             [-1, 197, 768]       2,360,064\n",
            "          Dropout-82             [-1, 197, 768]               0\n",
            "              Mlp-83             [-1, 197, 768]               0\n",
            "         Identity-84             [-1, 197, 768]               0\n",
            "         Identity-85             [-1, 197, 768]               0\n",
            "            Block-86             [-1, 197, 768]               0\n",
            "        LayerNorm-87             [-1, 197, 768]           1,536\n",
            "           Linear-88            [-1, 197, 2304]       1,771,776\n",
            "         Identity-89          [-1, 12, 197, 64]               0\n",
            "         Identity-90          [-1, 12, 197, 64]               0\n",
            "           Linear-91             [-1, 197, 768]         590,592\n",
            "          Dropout-92             [-1, 197, 768]               0\n",
            "        Attention-93             [-1, 197, 768]               0\n",
            "         Identity-94             [-1, 197, 768]               0\n",
            "         Identity-95             [-1, 197, 768]               0\n",
            "        LayerNorm-96             [-1, 197, 768]           1,536\n",
            "           Linear-97            [-1, 197, 3072]       2,362,368\n",
            "             GELU-98            [-1, 197, 3072]               0\n",
            "          Dropout-99            [-1, 197, 3072]               0\n",
            "        Identity-100            [-1, 197, 3072]               0\n",
            "          Linear-101             [-1, 197, 768]       2,360,064\n",
            "         Dropout-102             [-1, 197, 768]               0\n",
            "             Mlp-103             [-1, 197, 768]               0\n",
            "        Identity-104             [-1, 197, 768]               0\n",
            "        Identity-105             [-1, 197, 768]               0\n",
            "           Block-106             [-1, 197, 768]               0\n",
            "       LayerNorm-107             [-1, 197, 768]           1,536\n",
            "          Linear-108            [-1, 197, 2304]       1,771,776\n",
            "        Identity-109          [-1, 12, 197, 64]               0\n",
            "        Identity-110          [-1, 12, 197, 64]               0\n",
            "          Linear-111             [-1, 197, 768]         590,592\n",
            "         Dropout-112             [-1, 197, 768]               0\n",
            "       Attention-113             [-1, 197, 768]               0\n",
            "        Identity-114             [-1, 197, 768]               0\n",
            "        Identity-115             [-1, 197, 768]               0\n",
            "       LayerNorm-116             [-1, 197, 768]           1,536\n",
            "          Linear-117            [-1, 197, 3072]       2,362,368\n",
            "            GELU-118            [-1, 197, 3072]               0\n",
            "         Dropout-119            [-1, 197, 3072]               0\n",
            "        Identity-120            [-1, 197, 3072]               0\n",
            "          Linear-121             [-1, 197, 768]       2,360,064\n",
            "         Dropout-122             [-1, 197, 768]               0\n",
            "             Mlp-123             [-1, 197, 768]               0\n",
            "        Identity-124             [-1, 197, 768]               0\n",
            "        Identity-125             [-1, 197, 768]               0\n",
            "           Block-126             [-1, 197, 768]               0\n",
            "       LayerNorm-127             [-1, 197, 768]           1,536\n",
            "          Linear-128            [-1, 197, 2304]       1,771,776\n",
            "        Identity-129          [-1, 12, 197, 64]               0\n",
            "        Identity-130          [-1, 12, 197, 64]               0\n",
            "          Linear-131             [-1, 197, 768]         590,592\n",
            "         Dropout-132             [-1, 197, 768]               0\n",
            "       Attention-133             [-1, 197, 768]               0\n",
            "        Identity-134             [-1, 197, 768]               0\n",
            "        Identity-135             [-1, 197, 768]               0\n",
            "       LayerNorm-136             [-1, 197, 768]           1,536\n",
            "          Linear-137            [-1, 197, 3072]       2,362,368\n",
            "            GELU-138            [-1, 197, 3072]               0\n",
            "         Dropout-139            [-1, 197, 3072]               0\n",
            "        Identity-140            [-1, 197, 3072]               0\n",
            "          Linear-141             [-1, 197, 768]       2,360,064\n",
            "         Dropout-142             [-1, 197, 768]               0\n",
            "             Mlp-143             [-1, 197, 768]               0\n",
            "        Identity-144             [-1, 197, 768]               0\n",
            "        Identity-145             [-1, 197, 768]               0\n",
            "           Block-146             [-1, 197, 768]               0\n",
            "       LayerNorm-147             [-1, 197, 768]           1,536\n",
            "          Linear-148            [-1, 197, 2304]       1,771,776\n",
            "        Identity-149          [-1, 12, 197, 64]               0\n",
            "        Identity-150          [-1, 12, 197, 64]               0\n",
            "          Linear-151             [-1, 197, 768]         590,592\n",
            "         Dropout-152             [-1, 197, 768]               0\n",
            "       Attention-153             [-1, 197, 768]               0\n",
            "        Identity-154             [-1, 197, 768]               0\n",
            "        Identity-155             [-1, 197, 768]               0\n",
            "       LayerNorm-156             [-1, 197, 768]           1,536\n",
            "          Linear-157            [-1, 197, 3072]       2,362,368\n",
            "            GELU-158            [-1, 197, 3072]               0\n",
            "         Dropout-159            [-1, 197, 3072]               0\n",
            "        Identity-160            [-1, 197, 3072]               0\n",
            "          Linear-161             [-1, 197, 768]       2,360,064\n",
            "         Dropout-162             [-1, 197, 768]               0\n",
            "             Mlp-163             [-1, 197, 768]               0\n",
            "        Identity-164             [-1, 197, 768]               0\n",
            "        Identity-165             [-1, 197, 768]               0\n",
            "           Block-166             [-1, 197, 768]               0\n",
            "       LayerNorm-167             [-1, 197, 768]           1,536\n",
            "          Linear-168            [-1, 197, 2304]       1,771,776\n",
            "        Identity-169          [-1, 12, 197, 64]               0\n",
            "        Identity-170          [-1, 12, 197, 64]               0\n",
            "          Linear-171             [-1, 197, 768]         590,592\n",
            "         Dropout-172             [-1, 197, 768]               0\n",
            "       Attention-173             [-1, 197, 768]               0\n",
            "        Identity-174             [-1, 197, 768]               0\n",
            "        Identity-175             [-1, 197, 768]               0\n",
            "       LayerNorm-176             [-1, 197, 768]           1,536\n",
            "          Linear-177            [-1, 197, 3072]       2,362,368\n",
            "            GELU-178            [-1, 197, 3072]               0\n",
            "         Dropout-179            [-1, 197, 3072]               0\n",
            "        Identity-180            [-1, 197, 3072]               0\n",
            "          Linear-181             [-1, 197, 768]       2,360,064\n",
            "         Dropout-182             [-1, 197, 768]               0\n",
            "             Mlp-183             [-1, 197, 768]               0\n",
            "        Identity-184             [-1, 197, 768]               0\n",
            "        Identity-185             [-1, 197, 768]               0\n",
            "           Block-186             [-1, 197, 768]               0\n",
            "       LayerNorm-187             [-1, 197, 768]           1,536\n",
            "          Linear-188            [-1, 197, 2304]       1,771,776\n",
            "        Identity-189          [-1, 12, 197, 64]               0\n",
            "        Identity-190          [-1, 12, 197, 64]               0\n",
            "          Linear-191             [-1, 197, 768]         590,592\n",
            "         Dropout-192             [-1, 197, 768]               0\n",
            "       Attention-193             [-1, 197, 768]               0\n",
            "        Identity-194             [-1, 197, 768]               0\n",
            "        Identity-195             [-1, 197, 768]               0\n",
            "       LayerNorm-196             [-1, 197, 768]           1,536\n",
            "          Linear-197            [-1, 197, 3072]       2,362,368\n",
            "            GELU-198            [-1, 197, 3072]               0\n",
            "         Dropout-199            [-1, 197, 3072]               0\n",
            "        Identity-200            [-1, 197, 3072]               0\n",
            "          Linear-201             [-1, 197, 768]       2,360,064\n",
            "         Dropout-202             [-1, 197, 768]               0\n",
            "             Mlp-203             [-1, 197, 768]               0\n",
            "        Identity-204             [-1, 197, 768]               0\n",
            "        Identity-205             [-1, 197, 768]               0\n",
            "           Block-206             [-1, 197, 768]               0\n",
            "       LayerNorm-207             [-1, 197, 768]           1,536\n",
            "          Linear-208            [-1, 197, 2304]       1,771,776\n",
            "        Identity-209          [-1, 12, 197, 64]               0\n",
            "        Identity-210          [-1, 12, 197, 64]               0\n",
            "          Linear-211             [-1, 197, 768]         590,592\n",
            "         Dropout-212             [-1, 197, 768]               0\n",
            "       Attention-213             [-1, 197, 768]               0\n",
            "        Identity-214             [-1, 197, 768]               0\n",
            "        Identity-215             [-1, 197, 768]               0\n",
            "       LayerNorm-216             [-1, 197, 768]           1,536\n",
            "          Linear-217            [-1, 197, 3072]       2,362,368\n",
            "            GELU-218            [-1, 197, 3072]               0\n",
            "         Dropout-219            [-1, 197, 3072]               0\n",
            "        Identity-220            [-1, 197, 3072]               0\n",
            "          Linear-221             [-1, 197, 768]       2,360,064\n",
            "         Dropout-222             [-1, 197, 768]               0\n",
            "             Mlp-223             [-1, 197, 768]               0\n",
            "        Identity-224             [-1, 197, 768]               0\n",
            "        Identity-225             [-1, 197, 768]               0\n",
            "           Block-226             [-1, 197, 768]               0\n",
            "       LayerNorm-227             [-1, 197, 768]           1,536\n",
            "          Linear-228            [-1, 197, 2304]       1,771,776\n",
            "        Identity-229          [-1, 12, 197, 64]               0\n",
            "        Identity-230          [-1, 12, 197, 64]               0\n",
            "          Linear-231             [-1, 197, 768]         590,592\n",
            "         Dropout-232             [-1, 197, 768]               0\n",
            "       Attention-233             [-1, 197, 768]               0\n",
            "        Identity-234             [-1, 197, 768]               0\n",
            "        Identity-235             [-1, 197, 768]               0\n",
            "       LayerNorm-236             [-1, 197, 768]           1,536\n",
            "          Linear-237            [-1, 197, 3072]       2,362,368\n",
            "            GELU-238            [-1, 197, 3072]               0\n",
            "         Dropout-239            [-1, 197, 3072]               0\n",
            "        Identity-240            [-1, 197, 3072]               0\n",
            "          Linear-241             [-1, 197, 768]       2,360,064\n",
            "         Dropout-242             [-1, 197, 768]               0\n",
            "             Mlp-243             [-1, 197, 768]               0\n",
            "        Identity-244             [-1, 197, 768]               0\n",
            "        Identity-245             [-1, 197, 768]               0\n",
            "           Block-246             [-1, 197, 768]               0\n",
            "       LayerNorm-247             [-1, 197, 768]           1,536\n",
            "        Identity-248                  [-1, 768]               0\n",
            "         Dropout-249                  [-1, 768]               0\n",
            "          Linear-250                   [-1, 10]           7,690\n",
            "================================================================\n",
            "Total params: 85,654,282\n",
            "Trainable params: 7,690\n",
            "Non-trainable params: 85,646,592\n",
            "----------------------------------------------------------------\n",
            "Input size (MB): 0.57\n",
            "Forward/backward pass size (MB): 479.03\n",
            "Params size (MB): 326.75\n",
            "Estimated Total Size (MB): 806.35\n",
            "----------------------------------------------------------------\n"
          ]
        }
      ],
      "source": [
        "summary(vit_model, (3, 224, 224))"
      ]
    },
    {
      "cell_type": "markdown",
      "metadata": {
        "id": "RnYt8fpNj-y3"
      },
      "source": [
        "Finetunining ViT on training data"
      ]
    },
    {
      "cell_type": "code",
      "execution_count": 21,
      "metadata": {
        "colab": {
          "base_uri": "https://localhost:8080/"
        },
        "id": "4fsMKeO_j72o",
        "outputId": "dba187e0-1551-45a9-b109-c8fe020388ff"
      },
      "outputs": [
        {
          "name": "stderr",
          "output_type": "stream",
          "text": [
            "100%|██████████| 782/782 [09:27<00:00,  1.38it/s]\n"
          ]
        },
        {
          "name": "stdout",
          "output_type": "stream",
          "text": [
            "\n",
            "Epoch [1/3], Loss: 0.4361, Accuracy: 90.11%\n"
          ]
        },
        {
          "name": "stderr",
          "output_type": "stream",
          "text": [
            "100%|██████████| 782/782 [09:25<00:00,  1.38it/s]\n"
          ]
        },
        {
          "name": "stdout",
          "output_type": "stream",
          "text": [
            "\n",
            "Epoch [2/3], Loss: 0.1240, Accuracy: 96.64%\n"
          ]
        },
        {
          "name": "stderr",
          "output_type": "stream",
          "text": [
            "100%|██████████| 782/782 [09:25<00:00,  1.38it/s]"
          ]
        },
        {
          "name": "stdout",
          "output_type": "stream",
          "text": [
            "\n",
            "Epoch [3/3], Loss: 0.0983, Accuracy: 97.07%\n"
          ]
        },
        {
          "name": "stderr",
          "output_type": "stream",
          "text": [
            "\n"
          ]
        }
      ],
      "source": [
        "epochs = 3\n",
        "train_losses = []\n",
        "\n",
        "vit_model.train()\n",
        "for epoch in range(epochs):\n",
        "    running_loss = 0.0\n",
        "    correct = 0\n",
        "    total = 0\n",
        "    for images, labels in tqdm(train_loader):\n",
        "        images, labels = images.to(device), labels.to(device)\n",
        "\n",
        "        # Zero the parameter gradients\n",
        "        optimizer.zero_grad()\n",
        "\n",
        "        # Forward pass\n",
        "        outputs = vit_model(images)\n",
        "        loss = criterion(outputs, labels)\n",
        "\n",
        "        # Backward pass and optimization\n",
        "        loss.backward()\n",
        "        optimizer.step()\n",
        "\n",
        "        # Track statistics\n",
        "        running_loss += loss.item()\n",
        "        _, predicted = outputs.max(1)\n",
        "        total += labels.size(0)\n",
        "        correct += predicted.eq(labels).sum().item()\n",
        "\n",
        "    epoch_loss = running_loss / len(train_loader)\n",
        "    train_losses.append(epoch_loss)\n",
        "    accuracy = 100 * correct / total\n",
        "    print(f'\\nEpoch [{epoch + 1}/{epochs}], Loss: {epoch_loss:.4f}, Accuracy: {accuracy:.2f}%')\n"
      ]
    },
    {
      "cell_type": "markdown",
      "metadata": {
        "id": "j7lcufCwkUmC"
      },
      "source": [
        "### Evaluating the model on test data"
      ]
    },
    {
      "cell_type": "code",
      "execution_count": 22,
      "metadata": {
        "colab": {
          "base_uri": "https://localhost:8080/",
          "height": 472
        },
        "id": "Kh7DNpMAKhB9",
        "outputId": "0b7c66f6-a1db-4a29-cf22-a22a320b8f01"
      },
      "outputs": [
        {
          "data": {
            "image/png": "[encoded data removed]",
            "text/plain": [
              "<Figure size 640x480 with 1 Axes>"
            ]
          },
          "metadata": {},
          "output_type": "display_data"
        }
      ],
      "source": [
        "plt.plot(range(1, epochs + 1), train_losses, label=\"Training Loss\")\n",
        "plt.xlabel('Epochs')\n",
        "plt.ylabel('Loss')\n",
        "plt.title('Training Loss over Epochs')\n",
        "plt.legend()\n",
        "plt.show()"
      ]
    },
    {
      "cell_type": "code",
      "execution_count": 23,
      "metadata": {
        "colab": {
          "base_uri": "https://localhost:8080/"
        },
        "id": "x9wHlX_ekVgp",
        "outputId": "e5efa8d2-1af7-4937-db51-9e13138f2ce5"
      },
      "outputs": [
        {
          "name": "stderr",
          "output_type": "stream",
          "text": [
            "100%|██████████| 157/157 [01:53<00:00,  1.38it/s]"
          ]
        },
        {
          "name": "stdout",
          "output_type": "stream",
          "text": [
            "\n",
            "Vision Transformer - Accuracy: 96.71% Loss: 0.1041\n"
          ]
        },
        {
          "name": "stderr",
          "output_type": "stream",
          "text": [
            "\n"
          ]
        }
      ],
      "source": [
        "vit_model.eval()\n",
        "correct = 0\n",
        "total = 0\n",
        "loss_total = 0\n",
        "with torch.no_grad():\n",
        "    for images, labels in tqdm(test_loader):\n",
        "        images, labels = images.to(device), labels.to(device)\n",
        "        outputs = vit_model(images)\n",
        "        loss = criterion(outputs, labels)\n",
        "        loss_total += loss.item()\n",
        "        _, predicted = torch.max(outputs.data, 1)\n",
        "        total += labels.size(0)\n",
        "        correct += (predicted == labels).sum().item()\n",
        "\n",
        "vit_accuracy = 100 * correct / total\n",
        "avg_loss = loss_total / len(test_loader)\n",
        "print(f\"\\nVision Transformer - Accuracy: {vit_accuracy:.2f}% Loss: {avg_loss:.4f}\")"
      ]
    },
    {
      "cell_type": "markdown",
      "metadata": {
        "id": "s7tgMoIWeOZN"
      },
      "source": [
        "## ResNet"
      ]
    },
    {
      "cell_type": "code",
      "execution_count": 24,
      "metadata": {
        "colab": {
          "base_uri": "https://localhost:8080/",
          "height": 49,
          "referenced_widgets": [
            "5bea8291b22e47f2b525da7ca3722494",
            "96ff137e957b49779b9abe4c25f873f7",
            "946872d22910443d89dad962fd54e886",
            "53017f73a71d43eeabd94cb1417aae78",
            "130e5a4508754511aec9830fd3af36a5",
            "a784a7e76d274431a2613a15623f613e",
            "5567f4a770f04ce4b8ca684efd7d17f6",
            "2dfbee89caff4f119165533538080c6e",
            "306ceb0b405b4fbd8f91147bcfa97328",
            "f282abc800e749ad88387313642d776f",
            "9afae837f382490b8ec150554725dfbe"
          ]
        },
        "id": "fHIU1-DTeOZN",
        "outputId": "74c0b27d-1e90-4b5b-fd98-b50b9ef4a809"
      },
      "outputs": [
        {
          "data": {
            "application/vnd.jupyter.widget-view+json": {
              "model_id": "5bea8291b22e47f2b525da7ca3722494",
              "version_major": 2,
              "version_minor": 0
            },
            "text/plain": [
              "model.safetensors:   0%|          | 0.00/179M [00:00<?, ?B/s]"
            ]
          },
          "metadata": {},
          "output_type": "display_data"
        }
      ],
      "source": [
        "resnet_model = timm.create_model('resnet101', pretrained=True)\n",
        "\n",
        "# Freeze the feature extractor backbone\n",
        "for param in resnet_model.parameters():\n",
        "    param.requires_grad = False\n",
        "\n",
        "# Replace the classifier head with a new head for CIFAR-10 (10 classes)\n",
        "resnet_model.fc = nn.Linear(resnet_model.fc.in_features, 10)\n",
        "resnet_model = resnet_model.to(device)\n",
        "\n",
        "# Define loss function and optimizer\n",
        "criterion = nn.CrossEntropyLoss()\n",
        "optimizer = optim.Adam(resnet_model.parameters(), lr=0.001)"
      ]
    },
    {
      "cell_type": "code",
      "execution_count": 25,
      "metadata": {
        "colab": {
          "base_uri": "https://localhost:8080/"
        },
        "id": "dwPhjVoRNoVp",
        "outputId": "1cb442bc-2d92-4fb1-9779-361af152b3ca"
      },
      "outputs": [
        {
          "name": "stdout",
          "output_type": "stream",
          "text": [
            "----------------------------------------------------------------\n",
            "        Layer (type)               Output Shape         Param #\n",
            "================================================================\n",
            "            Conv2d-1         [-1, 64, 112, 112]           9,408\n",
            "       BatchNorm2d-2         [-1, 64, 112, 112]             128\n",
            "              ReLU-3         [-1, 64, 112, 112]               0\n",
            "         MaxPool2d-4           [-1, 64, 56, 56]               0\n",
            "            Conv2d-5           [-1, 64, 56, 56]           4,096\n",
            "       BatchNorm2d-6           [-1, 64, 56, 56]             128\n",
            "              ReLU-7           [-1, 64, 56, 56]               0\n",
            "            Conv2d-8           [-1, 64, 56, 56]          36,864\n",
            "       BatchNorm2d-9           [-1, 64, 56, 56]             128\n",
            "         Identity-10           [-1, 64, 56, 56]               0\n",
            "             ReLU-11           [-1, 64, 56, 56]               0\n",
            "         Identity-12           [-1, 64, 56, 56]               0\n",
            "           Conv2d-13          [-1, 256, 56, 56]          16,384\n",
            "      BatchNorm2d-14          [-1, 256, 56, 56]             512\n",
            "           Conv2d-15          [-1, 256, 56, 56]          16,384\n",
            "      BatchNorm2d-16          [-1, 256, 56, 56]             512\n",
            "             ReLU-17          [-1, 256, 56, 56]               0\n",
            "       Bottleneck-18          [-1, 256, 56, 56]               0\n",
            "           Conv2d-19           [-1, 64, 56, 56]          16,384\n",
            "      BatchNorm2d-20           [-1, 64, 56, 56]             128\n",
            "             ReLU-21           [-1, 64, 56, 56]               0\n",
            "           Conv2d-22           [-1, 64, 56, 56]          36,864\n",
            "      BatchNorm2d-23           [-1, 64, 56, 56]             128\n",
            "         Identity-24           [-1, 64, 56, 56]               0\n",
            "             ReLU-25           [-1, 64, 56, 56]               0\n",
            "         Identity-26           [-1, 64, 56, 56]               0\n",
            "           Conv2d-27          [-1, 256, 56, 56]          16,384\n",
            "      BatchNorm2d-28          [-1, 256, 56, 56]             512\n",
            "             ReLU-29          [-1, 256, 56, 56]               0\n",
            "       Bottleneck-30          [-1, 256, 56, 56]               0\n",
            "           Conv2d-31           [-1, 64, 56, 56]          16,384\n",
            "      BatchNorm2d-32           [-1, 64, 56, 56]             128\n",
            "             ReLU-33           [-1, 64, 56, 56]               0\n",
            "           Conv2d-34           [-1, 64, 56, 56]          36,864\n",
            "      BatchNorm2d-35           [-1, 64, 56, 56]             128\n",
            "         Identity-36           [-1, 64, 56, 56]               0\n",
            "             ReLU-37           [-1, 64, 56, 56]               0\n",
            "         Identity-38           [-1, 64, 56, 56]               0\n",
            "           Conv2d-39          [-1, 256, 56, 56]          16,384\n",
            "      BatchNorm2d-40          [-1, 256, 56, 56]             512\n",
            "             ReLU-41          [-1, 256, 56, 56]               0\n",
            "       Bottleneck-42          [-1, 256, 56, 56]               0\n",
            "           Conv2d-43          [-1, 128, 56, 56]          32,768\n",
            "      BatchNorm2d-44          [-1, 128, 56, 56]             256\n",
            "             ReLU-45          [-1, 128, 56, 56]               0\n",
            "           Conv2d-46          [-1, 128, 28, 28]         147,456\n",
            "      BatchNorm2d-47          [-1, 128, 28, 28]             256\n",
            "         Identity-48          [-1, 128, 28, 28]               0\n",
            "             ReLU-49          [-1, 128, 28, 28]               0\n",
            "         Identity-50          [-1, 128, 28, 28]               0\n",
            "           Conv2d-51          [-1, 512, 28, 28]          65,536\n",
            "      BatchNorm2d-52          [-1, 512, 28, 28]           1,024\n",
            "           Conv2d-53          [-1, 512, 28, 28]         131,072\n",
            "      BatchNorm2d-54          [-1, 512, 28, 28]           1,024\n",
            "             ReLU-55          [-1, 512, 28, 28]               0\n",
            "       Bottleneck-56          [-1, 512, 28, 28]               0\n",
            "           Conv2d-57          [-1, 128, 28, 28]          65,536\n",
            "      BatchNorm2d-58          [-1, 128, 28, 28]             256\n",
            "             ReLU-59          [-1, 128, 28, 28]               0\n",
            "           Conv2d-60          [-1, 128, 28, 28]         147,456\n",
            "      BatchNorm2d-61          [-1, 128, 28, 28]             256\n",
            "         Identity-62          [-1, 128, 28, 28]               0\n",
            "             ReLU-63          [-1, 128, 28, 28]               0\n",
            "         Identity-64          [-1, 128, 28, 28]               0\n",
            "           Conv2d-65          [-1, 512, 28, 28]          65,536\n",
            "      BatchNorm2d-66          [-1, 512, 28, 28]           1,024\n",
            "             ReLU-67          [-1, 512, 28, 28]               0\n",
            "       Bottleneck-68          [-1, 512, 28, 28]               0\n",
            "           Conv2d-69          [-1, 128, 28, 28]          65,536\n",
            "      BatchNorm2d-70          [-1, 128, 28, 28]             256\n",
            "             ReLU-71          [-1, 128, 28, 28]               0\n",
            "           Conv2d-72          [-1, 128, 28, 28]         147,456\n",
            "      BatchNorm2d-73          [-1, 128, 28, 28]             256\n",
            "         Identity-74          [-1, 128, 28, 28]               0\n",
            "             ReLU-75          [-1, 128, 28, 28]               0\n",
            "         Identity-76          [-1, 128, 28, 28]               0\n",
            "           Conv2d-77          [-1, 512, 28, 28]          65,536\n",
            "      BatchNorm2d-78          [-1, 512, 28, 28]           1,024\n",
            "             ReLU-79          [-1, 512, 28, 28]               0\n",
            "       Bottleneck-80          [-1, 512, 28, 28]               0\n",
            "           Conv2d-81          [-1, 128, 28, 28]          65,536\n",
            "      BatchNorm2d-82          [-1, 128, 28, 28]             256\n",
            "             ReLU-83          [-1, 128, 28, 28]               0\n",
            "           Conv2d-84          [-1, 128, 28, 28]         147,456\n",
            "      BatchNorm2d-85          [-1, 128, 28, 28]             256\n",
            "         Identity-86          [-1, 128, 28, 28]               0\n",
            "             ReLU-87          [-1, 128, 28, 28]               0\n",
            "         Identity-88          [-1, 128, 28, 28]               0\n",
            "           Conv2d-89          [-1, 512, 28, 28]          65,536\n",
            "      BatchNorm2d-90          [-1, 512, 28, 28]           1,024\n",
            "             ReLU-91          [-1, 512, 28, 28]               0\n",
            "       Bottleneck-92          [-1, 512, 28, 28]               0\n",
            "           Conv2d-93          [-1, 256, 28, 28]         131,072\n",
            "      BatchNorm2d-94          [-1, 256, 28, 28]             512\n",
            "             ReLU-95          [-1, 256, 28, 28]               0\n",
            "           Conv2d-96          [-1, 256, 14, 14]         589,824\n",
            "      BatchNorm2d-97          [-1, 256, 14, 14]             512\n",
            "         Identity-98          [-1, 256, 14, 14]               0\n",
            "             ReLU-99          [-1, 256, 14, 14]               0\n",
            "        Identity-100          [-1, 256, 14, 14]               0\n",
            "          Conv2d-101         [-1, 1024, 14, 14]         262,144\n",
            "     BatchNorm2d-102         [-1, 1024, 14, 14]           2,048\n",
            "          Conv2d-103         [-1, 1024, 14, 14]         524,288\n",
            "     BatchNorm2d-104         [-1, 1024, 14, 14]           2,048\n",
            "            ReLU-105         [-1, 1024, 14, 14]               0\n",
            "      Bottleneck-106         [-1, 1024, 14, 14]               0\n",
            "          Conv2d-107          [-1, 256, 14, 14]         262,144\n",
            "     BatchNorm2d-108          [-1, 256, 14, 14]             512\n",
            "            ReLU-109          [-1, 256, 14, 14]               0\n",
            "          Conv2d-110          [-1, 256, 14, 14]         589,824\n",
            "     BatchNorm2d-111          [-1, 256, 14, 14]             512\n",
            "        Identity-112          [-1, 256, 14, 14]               0\n",
            "            ReLU-113          [-1, 256, 14, 14]               0\n",
            "        Identity-114          [-1, 256, 14, 14]               0\n",
            "          Conv2d-115         [-1, 1024, 14, 14]         262,144\n",
            "     BatchNorm2d-116         [-1, 1024, 14, 14]           2,048\n",
            "            ReLU-117         [-1, 1024, 14, 14]               0\n",
            "      Bottleneck-118         [-1, 1024, 14, 14]               0\n",
            "          Conv2d-119          [-1, 256, 14, 14]         262,144\n",
            "     BatchNorm2d-120          [-1, 256, 14, 14]             512\n",
            "            ReLU-121          [-1, 256, 14, 14]               0\n",
            "          Conv2d-122          [-1, 256, 14, 14]         589,824\n",
            "     BatchNorm2d-123          [-1, 256, 14, 14]             512\n",
            "        Identity-124          [-1, 256, 14, 14]               0\n",
            "            ReLU-125          [-1, 256, 14, 14]               0\n",
            "        Identity-126          [-1, 256, 14, 14]               0\n",
            "          Conv2d-127         [-1, 1024, 14, 14]         262,144\n",
            "     BatchNorm2d-128         [-1, 1024, 14, 14]           2,048\n",
            "            ReLU-129         [-1, 1024, 14, 14]               0\n",
            "      Bottleneck-130         [-1, 1024, 14, 14]               0\n",
            "          Conv2d-131          [-1, 256, 14, 14]         262,144\n",
            "     BatchNorm2d-132          [-1, 256, 14, 14]             512\n",
            "            ReLU-133          [-1, 256, 14, 14]               0\n",
            "          Conv2d-134          [-1, 256, 14, 14]         589,824\n",
            "     BatchNorm2d-135          [-1, 256, 14, 14]             512\n",
            "        Identity-136          [-1, 256, 14, 14]               0\n",
            "            ReLU-137          [-1, 256, 14, 14]               0\n",
            "        Identity-138          [-1, 256, 14, 14]               0\n",
            "          Conv2d-139         [-1, 1024, 14, 14]         262,144\n",
            "     BatchNorm2d-140         [-1, 1024, 14, 14]           2,048\n",
            "            ReLU-141         [-1, 1024, 14, 14]               0\n",
            "      Bottleneck-142         [-1, 1024, 14, 14]               0\n",
            "          Conv2d-143          [-1, 256, 14, 14]         262,144\n",
            "     BatchNorm2d-144          [-1, 256, 14, 14]             512\n",
            "            ReLU-145          [-1, 256, 14, 14]               0\n",
            "          Conv2d-146          [-1, 256, 14, 14]         589,824\n",
            "     BatchNorm2d-147          [-1, 256, 14, 14]             512\n",
            "        Identity-148          [-1, 256, 14, 14]               0\n",
            "            ReLU-149          [-1, 256, 14, 14]               0\n",
            "        Identity-150          [-1, 256, 14, 14]               0\n",
            "          Conv2d-151         [-1, 1024, 14, 14]         262,144\n",
            "     BatchNorm2d-152         [-1, 1024, 14, 14]           2,048\n",
            "            ReLU-153         [-1, 1024, 14, 14]               0\n",
            "      Bottleneck-154         [-1, 1024, 14, 14]               0\n",
            "          Conv2d-155          [-1, 256, 14, 14]         262,144\n",
            "     BatchNorm2d-156          [-1, 256, 14, 14]             512\n",
            "            ReLU-157          [-1, 256, 14, 14]               0\n",
            "          Conv2d-158          [-1, 256, 14, 14]         589,824\n",
            "     BatchNorm2d-159          [-1, 256, 14, 14]             512\n",
            "        Identity-160          [-1, 256, 14, 14]               0\n",
            "            ReLU-161          [-1, 256, 14, 14]               0\n",
            "        Identity-162          [-1, 256, 14, 14]               0\n",
            "          Conv2d-163         [-1, 1024, 14, 14]         262,144\n",
            "     BatchNorm2d-164         [-1, 1024, 14, 14]           2,048\n",
            "            ReLU-165         [-1, 1024, 14, 14]               0\n",
            "      Bottleneck-166         [-1, 1024, 14, 14]               0\n",
            "          Conv2d-167          [-1, 256, 14, 14]         262,144\n",
            "     BatchNorm2d-168          [-1, 256, 14, 14]             512\n",
            "            ReLU-169          [-1, 256, 14, 14]               0\n",
            "          Conv2d-170          [-1, 256, 14, 14]         589,824\n",
            "     BatchNorm2d-171          [-1, 256, 14, 14]             512\n",
            "        Identity-172          [-1, 256, 14, 14]               0\n",
            "            ReLU-173          [-1, 256, 14, 14]               0\n",
            "        Identity-174          [-1, 256, 14, 14]               0\n",
            "          Conv2d-175         [-1, 1024, 14, 14]         262,144\n",
            "     BatchNorm2d-176         [-1, 1024, 14, 14]           2,048\n",
            "            ReLU-177         [-1, 1024, 14, 14]               0\n",
            "      Bottleneck-178         [-1, 1024, 14, 14]               0\n",
            "          Conv2d-179          [-1, 256, 14, 14]         262,144\n",
            "     BatchNorm2d-180          [-1, 256, 14, 14]             512\n",
            "            ReLU-181          [-1, 256, 14, 14]               0\n",
            "          Conv2d-182          [-1, 256, 14, 14]         589,824\n",
            "     BatchNorm2d-183          [-1, 256, 14, 14]             512\n",
            "        Identity-184          [-1, 256, 14, 14]               0\n",
            "            ReLU-185          [-1, 256, 14, 14]               0\n",
            "        Identity-186          [-1, 256, 14, 14]               0\n",
            "          Conv2d-187         [-1, 1024, 14, 14]         262,144\n",
            "     BatchNorm2d-188         [-1, 1024, 14, 14]           2,048\n",
            "            ReLU-189         [-1, 1024, 14, 14]               0\n",
            "      Bottleneck-190         [-1, 1024, 14, 14]               0\n",
            "          Conv2d-191          [-1, 256, 14, 14]         262,144\n",
            "     BatchNorm2d-192          [-1, 256, 14, 14]             512\n",
            "            ReLU-193          [-1, 256, 14, 14]               0\n",
            "          Conv2d-194          [-1, 256, 14, 14]         589,824\n",
            "     BatchNorm2d-195          [-1, 256, 14, 14]             512\n",
            "        Identity-196          [-1, 256, 14, 14]               0\n",
            "            ReLU-197          [-1, 256, 14, 14]               0\n",
            "        Identity-198          [-1, 256, 14, 14]               0\n",
            "          Conv2d-199         [-1, 1024, 14, 14]         262,144\n",
            "     BatchNorm2d-200         [-1, 1024, 14, 14]           2,048\n",
            "            ReLU-201         [-1, 1024, 14, 14]               0\n",
            "      Bottleneck-202         [-1, 1024, 14, 14]               0\n",
            "          Conv2d-203          [-1, 256, 14, 14]         262,144\n",
            "     BatchNorm2d-204          [-1, 256, 14, 14]             512\n",
            "            ReLU-205          [-1, 256, 14, 14]               0\n",
            "          Conv2d-206          [-1, 256, 14, 14]         589,824\n",
            "     BatchNorm2d-207          [-1, 256, 14, 14]             512\n",
            "        Identity-208          [-1, 256, 14, 14]               0\n",
            "            ReLU-209          [-1, 256, 14, 14]               0\n",
            "        Identity-210          [-1, 256, 14, 14]               0\n",
            "          Conv2d-211         [-1, 1024, 14, 14]         262,144\n",
            "     BatchNorm2d-212         [-1, 1024, 14, 14]           2,048\n",
            "            ReLU-213         [-1, 1024, 14, 14]               0\n",
            "      Bottleneck-214         [-1, 1024, 14, 14]               0\n",
            "          Conv2d-215          [-1, 256, 14, 14]         262,144\n",
            "     BatchNorm2d-216          [-1, 256, 14, 14]             512\n",
            "            ReLU-217          [-1, 256, 14, 14]               0\n",
            "          Conv2d-218          [-1, 256, 14, 14]         589,824\n",
            "     BatchNorm2d-219          [-1, 256, 14, 14]             512\n",
            "        Identity-220          [-1, 256, 14, 14]               0\n",
            "            ReLU-221          [-1, 256, 14, 14]               0\n",
            "        Identity-222          [-1, 256, 14, 14]               0\n",
            "          Conv2d-223         [-1, 1024, 14, 14]         262,144\n",
            "     BatchNorm2d-224         [-1, 1024, 14, 14]           2,048\n",
            "            ReLU-225         [-1, 1024, 14, 14]               0\n",
            "      Bottleneck-226         [-1, 1024, 14, 14]               0\n",
            "          Conv2d-227          [-1, 256, 14, 14]         262,144\n",
            "     BatchNorm2d-228          [-1, 256, 14, 14]             512\n",
            "            ReLU-229          [-1, 256, 14, 14]               0\n",
            "          Conv2d-230          [-1, 256, 14, 14]         589,824\n",
            "     BatchNorm2d-231          [-1, 256, 14, 14]             512\n",
            "        Identity-232          [-1, 256, 14, 14]               0\n",
            "            ReLU-233          [-1, 256, 14, 14]               0\n",
            "        Identity-234          [-1, 256, 14, 14]               0\n",
            "          Conv2d-235         [-1, 1024, 14, 14]         262,144\n",
            "     BatchNorm2d-236         [-1, 1024, 14, 14]           2,048\n",
            "            ReLU-237         [-1, 1024, 14, 14]               0\n",
            "      Bottleneck-238         [-1, 1024, 14, 14]               0\n",
            "          Conv2d-239          [-1, 256, 14, 14]         262,144\n",
            "     BatchNorm2d-240          [-1, 256, 14, 14]             512\n",
            "            ReLU-241          [-1, 256, 14, 14]               0\n",
            "          Conv2d-242          [-1, 256, 14, 14]         589,824\n",
            "     BatchNorm2d-243          [-1, 256, 14, 14]             512\n",
            "        Identity-244          [-1, 256, 14, 14]               0\n",
            "            ReLU-245          [-1, 256, 14, 14]               0\n",
            "        Identity-246          [-1, 256, 14, 14]               0\n",
            "          Conv2d-247         [-1, 1024, 14, 14]         262,144\n",
            "     BatchNorm2d-248         [-1, 1024, 14, 14]           2,048\n",
            "            ReLU-249         [-1, 1024, 14, 14]               0\n",
            "      Bottleneck-250         [-1, 1024, 14, 14]               0\n",
            "          Conv2d-251          [-1, 256, 14, 14]         262,144\n",
            "     BatchNorm2d-252          [-1, 256, 14, 14]             512\n",
            "            ReLU-253          [-1, 256, 14, 14]               0\n",
            "          Conv2d-254          [-1, 256, 14, 14]         589,824\n",
            "     BatchNorm2d-255          [-1, 256, 14, 14]             512\n",
            "        Identity-256          [-1, 256, 14, 14]               0\n",
            "            ReLU-257          [-1, 256, 14, 14]               0\n",
            "        Identity-258          [-1, 256, 14, 14]               0\n",
            "          Conv2d-259         [-1, 1024, 14, 14]         262,144\n",
            "     BatchNorm2d-260         [-1, 1024, 14, 14]           2,048\n",
            "            ReLU-261         [-1, 1024, 14, 14]               0\n",
            "      Bottleneck-262         [-1, 1024, 14, 14]               0\n",
            "          Conv2d-263          [-1, 256, 14, 14]         262,144\n",
            "     BatchNorm2d-264          [-1, 256, 14, 14]             512\n",
            "            ReLU-265          [-1, 256, 14, 14]               0\n",
            "          Conv2d-266          [-1, 256, 14, 14]         589,824\n",
            "     BatchNorm2d-267          [-1, 256, 14, 14]             512\n",
            "        Identity-268          [-1, 256, 14, 14]               0\n",
            "            ReLU-269          [-1, 256, 14, 14]               0\n",
            "        Identity-270          [-1, 256, 14, 14]               0\n",
            "          Conv2d-271         [-1, 1024, 14, 14]         262,144\n",
            "     BatchNorm2d-272         [-1, 1024, 14, 14]           2,048\n",
            "            ReLU-273         [-1, 1024, 14, 14]               0\n",
            "      Bottleneck-274         [-1, 1024, 14, 14]               0\n",
            "          Conv2d-275          [-1, 256, 14, 14]         262,144\n",
            "     BatchNorm2d-276          [-1, 256, 14, 14]             512\n",
            "            ReLU-277          [-1, 256, 14, 14]               0\n",
            "          Conv2d-278          [-1, 256, 14, 14]         589,824\n",
            "     BatchNorm2d-279          [-1, 256, 14, 14]             512\n",
            "        Identity-280          [-1, 256, 14, 14]               0\n",
            "            ReLU-281          [-1, 256, 14, 14]               0\n",
            "        Identity-282          [-1, 256, 14, 14]               0\n",
            "          Conv2d-283         [-1, 1024, 14, 14]         262,144\n",
            "     BatchNorm2d-284         [-1, 1024, 14, 14]           2,048\n",
            "            ReLU-285         [-1, 1024, 14, 14]               0\n",
            "      Bottleneck-286         [-1, 1024, 14, 14]               0\n",
            "          Conv2d-287          [-1, 256, 14, 14]         262,144\n",
            "     BatchNorm2d-288          [-1, 256, 14, 14]             512\n",
            "            ReLU-289          [-1, 256, 14, 14]               0\n",
            "          Conv2d-290          [-1, 256, 14, 14]         589,824\n",
            "     BatchNorm2d-291          [-1, 256, 14, 14]             512\n",
            "        Identity-292          [-1, 256, 14, 14]               0\n",
            "            ReLU-293          [-1, 256, 14, 14]               0\n",
            "        Identity-294          [-1, 256, 14, 14]               0\n",
            "          Conv2d-295         [-1, 1024, 14, 14]         262,144\n",
            "     BatchNorm2d-296         [-1, 1024, 14, 14]           2,048\n",
            "            ReLU-297         [-1, 1024, 14, 14]               0\n",
            "      Bottleneck-298         [-1, 1024, 14, 14]               0\n",
            "          Conv2d-299          [-1, 256, 14, 14]         262,144\n",
            "     BatchNorm2d-300          [-1, 256, 14, 14]             512\n",
            "            ReLU-301          [-1, 256, 14, 14]               0\n",
            "          Conv2d-302          [-1, 256, 14, 14]         589,824\n",
            "     BatchNorm2d-303          [-1, 256, 14, 14]             512\n",
            "        Identity-304          [-1, 256, 14, 14]               0\n",
            "            ReLU-305          [-1, 256, 14, 14]               0\n",
            "        Identity-306          [-1, 256, 14, 14]               0\n",
            "          Conv2d-307         [-1, 1024, 14, 14]         262,144\n",
            "     BatchNorm2d-308         [-1, 1024, 14, 14]           2,048\n",
            "            ReLU-309         [-1, 1024, 14, 14]               0\n",
            "      Bottleneck-310         [-1, 1024, 14, 14]               0\n",
            "          Conv2d-311          [-1, 256, 14, 14]         262,144\n",
            "     BatchNorm2d-312          [-1, 256, 14, 14]             512\n",
            "            ReLU-313          [-1, 256, 14, 14]               0\n",
            "          Conv2d-314          [-1, 256, 14, 14]         589,824\n",
            "     BatchNorm2d-315          [-1, 256, 14, 14]             512\n",
            "        Identity-316          [-1, 256, 14, 14]               0\n",
            "            ReLU-317          [-1, 256, 14, 14]               0\n",
            "        Identity-318          [-1, 256, 14, 14]               0\n",
            "          Conv2d-319         [-1, 1024, 14, 14]         262,144\n",
            "     BatchNorm2d-320         [-1, 1024, 14, 14]           2,048\n",
            "            ReLU-321         [-1, 1024, 14, 14]               0\n",
            "      Bottleneck-322         [-1, 1024, 14, 14]               0\n",
            "          Conv2d-323          [-1, 256, 14, 14]         262,144\n",
            "     BatchNorm2d-324          [-1, 256, 14, 14]             512\n",
            "            ReLU-325          [-1, 256, 14, 14]               0\n",
            "          Conv2d-326          [-1, 256, 14, 14]         589,824\n",
            "     BatchNorm2d-327          [-1, 256, 14, 14]             512\n",
            "        Identity-328          [-1, 256, 14, 14]               0\n",
            "            ReLU-329          [-1, 256, 14, 14]               0\n",
            "        Identity-330          [-1, 256, 14, 14]               0\n",
            "          Conv2d-331         [-1, 1024, 14, 14]         262,144\n",
            "     BatchNorm2d-332         [-1, 1024, 14, 14]           2,048\n",
            "            ReLU-333         [-1, 1024, 14, 14]               0\n",
            "      Bottleneck-334         [-1, 1024, 14, 14]               0\n",
            "          Conv2d-335          [-1, 256, 14, 14]         262,144\n",
            "     BatchNorm2d-336          [-1, 256, 14, 14]             512\n",
            "            ReLU-337          [-1, 256, 14, 14]               0\n",
            "          Conv2d-338          [-1, 256, 14, 14]         589,824\n",
            "     BatchNorm2d-339          [-1, 256, 14, 14]             512\n",
            "        Identity-340          [-1, 256, 14, 14]               0\n",
            "            ReLU-341          [-1, 256, 14, 14]               0\n",
            "        Identity-342          [-1, 256, 14, 14]               0\n",
            "          Conv2d-343         [-1, 1024, 14, 14]         262,144\n",
            "     BatchNorm2d-344         [-1, 1024, 14, 14]           2,048\n",
            "            ReLU-345         [-1, 1024, 14, 14]               0\n",
            "      Bottleneck-346         [-1, 1024, 14, 14]               0\n",
            "          Conv2d-347          [-1, 256, 14, 14]         262,144\n",
            "     BatchNorm2d-348          [-1, 256, 14, 14]             512\n",
            "            ReLU-349          [-1, 256, 14, 14]               0\n",
            "          Conv2d-350          [-1, 256, 14, 14]         589,824\n",
            "     BatchNorm2d-351          [-1, 256, 14, 14]             512\n",
            "        Identity-352          [-1, 256, 14, 14]               0\n",
            "            ReLU-353          [-1, 256, 14, 14]               0\n",
            "        Identity-354          [-1, 256, 14, 14]               0\n",
            "          Conv2d-355         [-1, 1024, 14, 14]         262,144\n",
            "     BatchNorm2d-356         [-1, 1024, 14, 14]           2,048\n",
            "            ReLU-357         [-1, 1024, 14, 14]               0\n",
            "      Bottleneck-358         [-1, 1024, 14, 14]               0\n",
            "          Conv2d-359          [-1, 256, 14, 14]         262,144\n",
            "     BatchNorm2d-360          [-1, 256, 14, 14]             512\n",
            "            ReLU-361          [-1, 256, 14, 14]               0\n",
            "          Conv2d-362          [-1, 256, 14, 14]         589,824\n",
            "     BatchNorm2d-363          [-1, 256, 14, 14]             512\n",
            "        Identity-364          [-1, 256, 14, 14]               0\n",
            "            ReLU-365          [-1, 256, 14, 14]               0\n",
            "        Identity-366          [-1, 256, 14, 14]               0\n",
            "          Conv2d-367         [-1, 1024, 14, 14]         262,144\n",
            "     BatchNorm2d-368         [-1, 1024, 14, 14]           2,048\n",
            "            ReLU-369         [-1, 1024, 14, 14]               0\n",
            "      Bottleneck-370         [-1, 1024, 14, 14]               0\n",
            "          Conv2d-371          [-1, 512, 14, 14]         524,288\n",
            "     BatchNorm2d-372          [-1, 512, 14, 14]           1,024\n",
            "            ReLU-373          [-1, 512, 14, 14]               0\n",
            "          Conv2d-374            [-1, 512, 7, 7]       2,359,296\n",
            "     BatchNorm2d-375            [-1, 512, 7, 7]           1,024\n",
            "        Identity-376            [-1, 512, 7, 7]               0\n",
            "            ReLU-377            [-1, 512, 7, 7]               0\n",
            "        Identity-378            [-1, 512, 7, 7]               0\n",
            "          Conv2d-379           [-1, 2048, 7, 7]       1,048,576\n",
            "     BatchNorm2d-380           [-1, 2048, 7, 7]           4,096\n",
            "          Conv2d-381           [-1, 2048, 7, 7]       2,097,152\n",
            "     BatchNorm2d-382           [-1, 2048, 7, 7]           4,096\n",
            "            ReLU-383           [-1, 2048, 7, 7]               0\n",
            "      Bottleneck-384           [-1, 2048, 7, 7]               0\n",
            "          Conv2d-385            [-1, 512, 7, 7]       1,048,576\n",
            "     BatchNorm2d-386            [-1, 512, 7, 7]           1,024\n",
            "            ReLU-387            [-1, 512, 7, 7]               0\n",
            "          Conv2d-388            [-1, 512, 7, 7]       2,359,296\n",
            "     BatchNorm2d-389            [-1, 512, 7, 7]           1,024\n",
            "        Identity-390            [-1, 512, 7, 7]               0\n",
            "            ReLU-391            [-1, 512, 7, 7]               0\n",
            "        Identity-392            [-1, 512, 7, 7]               0\n",
            "          Conv2d-393           [-1, 2048, 7, 7]       1,048,576\n",
            "     BatchNorm2d-394           [-1, 2048, 7, 7]           4,096\n",
            "            ReLU-395           [-1, 2048, 7, 7]               0\n",
            "      Bottleneck-396           [-1, 2048, 7, 7]               0\n",
            "          Conv2d-397            [-1, 512, 7, 7]       1,048,576\n",
            "     BatchNorm2d-398            [-1, 512, 7, 7]           1,024\n",
            "            ReLU-399            [-1, 512, 7, 7]               0\n",
            "          Conv2d-400            [-1, 512, 7, 7]       2,359,296\n",
            "     BatchNorm2d-401            [-1, 512, 7, 7]           1,024\n",
            "        Identity-402            [-1, 512, 7, 7]               0\n",
            "            ReLU-403            [-1, 512, 7, 7]               0\n",
            "        Identity-404            [-1, 512, 7, 7]               0\n",
            "          Conv2d-405           [-1, 2048, 7, 7]       1,048,576\n",
            "     BatchNorm2d-406           [-1, 2048, 7, 7]           4,096\n",
            "            ReLU-407           [-1, 2048, 7, 7]               0\n",
            "      Bottleneck-408           [-1, 2048, 7, 7]               0\n",
            "AdaptiveAvgPool2d-409           [-1, 2048, 1, 1]               0\n",
            "         Flatten-410                 [-1, 2048]               0\n",
            "SelectAdaptivePool2d-411                 [-1, 2048]               0\n",
            "          Linear-412                   [-1, 10]          20,490\n",
            "================================================================\n",
            "Total params: 42,520,650\n",
            "Trainable params: 20,490\n",
            "Non-trainable params: 42,500,160\n",
            "----------------------------------------------------------------\n",
            "Input size (MB): 0.57\n",
            "Forward/backward pass size (MB): 463.82\n",
            "Params size (MB): 162.20\n",
            "Estimated Total Size (MB): 626.60\n",
            "----------------------------------------------------------------\n"
          ]
        }
      ],
      "source": [
        "summary(resnet_model, (3, 224, 224))"
      ]
    },
    {
      "cell_type": "markdown",
      "metadata": {
        "id": "YkcK4FMUNt_q"
      },
      "source": [
        "Finetuning ResNet on training data"
      ]
    },
    {
      "cell_type": "code",
      "execution_count": 26,
      "metadata": {
        "colab": {
          "base_uri": "https://localhost:8080/"
        },
        "id": "miJ0ghUeNroT",
        "outputId": "46958930-955c-48d0-e927-16282d650392"
      },
      "outputs": [
        {
          "name": "stderr",
          "output_type": "stream",
          "text": [
            "100%|██████████| 782/782 [04:34<00:00,  2.85it/s]\n"
          ]
        },
        {
          "name": "stdout",
          "output_type": "stream",
          "text": [
            "\n",
            "Epoch [1/3], Loss: 1.2047, Accuracy: 69.71%\n"
          ]
        },
        {
          "name": "stderr",
          "output_type": "stream",
          "text": [
            "100%|██████████| 782/782 [04:31<00:00,  2.88it/s]\n"
          ]
        },
        {
          "name": "stdout",
          "output_type": "stream",
          "text": [
            "\n",
            "Epoch [2/3], Loss: 0.7951, Accuracy: 75.08%\n"
          ]
        },
        {
          "name": "stderr",
          "output_type": "stream",
          "text": [
            "100%|██████████| 782/782 [04:31<00:00,  2.88it/s]"
          ]
        },
        {
          "name": "stdout",
          "output_type": "stream",
          "text": [
            "\n",
            "Epoch [3/3], Loss: 0.7110, Accuracy: 77.05%\n"
          ]
        },
        {
          "name": "stderr",
          "output_type": "stream",
          "text": [
            "\n"
          ]
        }
      ],
      "source": [
        "epochs = 3\n",
        "train_losses = []\n",
        "\n",
        "resnet_model.train()\n",
        "for epoch in range(epochs):\n",
        "    running_loss = 0.0\n",
        "    correct = 0\n",
        "    total = 0\n",
        "    for images, labels in tqdm(train_loader):\n",
        "        images, labels = images.to(device), labels.to(device)\n",
        "\n",
        "        # Zero the parameter gradients\n",
        "        optimizer.zero_grad()\n",
        "\n",
        "        # Forward pass\n",
        "        outputs = resnet_model(images)\n",
        "        loss = criterion(outputs, labels)\n",
        "\n",
        "        # Backward pass and optimization\n",
        "        loss.backward()\n",
        "        optimizer.step()\n",
        "\n",
        "        # Track statistics\n",
        "        running_loss += loss.item()\n",
        "        _, predicted = outputs.max(1)\n",
        "        total += labels.size(0)\n",
        "        correct += predicted.eq(labels).sum().item()\n",
        "\n",
        "    epoch_loss = running_loss / len(train_loader)\n",
        "    train_losses.append(epoch_loss)\n",
        "    accuracy = 100 * correct / total\n",
        "    print(f'\\nEpoch [{epoch + 1}/{epochs}], Loss: {epoch_loss:.4f}, Accuracy: {accuracy:.2f}%')"
      ]
    },
    {
      "cell_type": "markdown",
      "metadata": {
        "id": "xzI9eEeAN7yA"
      },
      "source": [
        "### Evaluating the model on test data"
      ]
    },
    {
      "cell_type": "code",
      "execution_count": 27,
      "metadata": {
        "colab": {
          "base_uri": "https://localhost:8080/",
          "height": 472
        },
        "id": "lYOtGrJhN8xN",
        "outputId": "158df985-f038-411e-9137-020a2c7d53c3"
      },
      "outputs": [
        {
          "data": {
            "image/png": "[encoded data removed]",
            "text/plain": [
              "<Figure size 640x480 with 1 Axes>"
            ]
          },
          "metadata": {},
          "output_type": "display_data"
        }
      ],
      "source": [
        "# Plot training loss for ResNet\n",
        "plt.plot(range(1, epochs + 1), train_losses, label=\"Training Loss\")\n",
        "plt.xlabel('Epochs')\n",
        "plt.ylabel('Loss')\n",
        "plt.title('Training Loss over Epochs (ResNet)')\n",
        "plt.legend()\n",
        "plt.show()\n"
      ]
    },
    {
      "cell_type": "code",
      "execution_count": 28,
      "metadata": {
        "colab": {
          "base_uri": "https://localhost:8080/"
        },
        "id": "_f8QYhBMN9jx",
        "outputId": "cedd99f8-3025-4d2d-f63d-734cf23f090b"
      },
      "outputs": [
        {
          "name": "stderr",
          "output_type": "stream",
          "text": [
            "100%|██████████| 157/157 [00:50<00:00,  3.08it/s]"
          ]
        },
        {
          "name": "stdout",
          "output_type": "stream",
          "text": [
            "\n",
            "ResNet - Accuracy: 78.32% Loss: 0.6709\n"
          ]
        },
        {
          "name": "stderr",
          "output_type": "stream",
          "text": [
            "\n"
          ]
        }
      ],
      "source": [
        "# Set the model to evaluation mode\n",
        "resnet_model.eval()\n",
        "correct = 0\n",
        "total = 0\n",
        "loss_total = 0\n",
        "\n",
        "# Disable gradient computation for evaluation\n",
        "with torch.no_grad():\n",
        "    for images, labels in tqdm(test_loader):\n",
        "        images, labels = images.to(device), labels.to(device)\n",
        "\n",
        "        # Forward pass\n",
        "        outputs = resnet_model(images)\n",
        "\n",
        "        # Calculate the loss\n",
        "        loss = criterion(outputs, labels)\n",
        "        loss_total += loss.item()\n",
        "\n",
        "        # Get the predicted class with the maximum score\n",
        "        _, predicted = torch.max(outputs.data, 1)\n",
        "\n",
        "        # Update total and correct predictions\n",
        "        total += labels.size(0)\n",
        "        correct += (predicted == labels).sum().item()\n",
        "\n",
        "# Calculate accuracy and average loss\n",
        "resnet_accuracy = 100 * correct / total\n",
        "avg_loss = loss_total / len(test_loader)\n",
        "\n",
        "# Print evaluation results\n",
        "print(f\"\\nResNet - Accuracy: {resnet_accuracy:.2f}% Loss: {avg_loss:.4f}\")\n"
      ]
    },
    {
      "cell_type": "markdown",
      "metadata": {
        "id": "cYG6V-hHeOZN"
      },
      "source": [
        "## Clip-ViT-Large"
      ]
    },
    {
      "cell_type": "markdown",
      "metadata": {
        "id": "ZW9iMFUqJLSZ"
      },
      "source": [
        "Importing pretrained Clip-ViT-Large model"
      ]
    },
    {
      "cell_type": "code",
      "execution_count": 29,
      "metadata": {
        "colab": {
          "base_uri": "https://localhost:8080/"
        },
        "execution": {
          "iopub.execute_input": "2024-09-29T17:38:11.082175Z",
          "iopub.status.busy": "2024-09-29T17:38:11.081810Z",
          "iopub.status.idle": "2024-09-29T17:38:37.209590Z",
          "shell.execute_reply": "2024-09-29T17:38:37.208700Z",
          "shell.execute_reply.started": "2024-09-29T17:38:11.082139Z"
        },
        "id": "SUySjiM4JLSZ",
        "outputId": "dc911aab-b7a6-44c8-d7a5-9a95b2e4aa91",
        "trusted": true
      },
      "outputs": [
        {
          "name": "stderr",
          "output_type": "stream",
          "text": [
            "/usr/local/lib/python3.10/dist-packages/transformers/tokenization_utils_base.py:1601: FutureWarning: `clean_up_tokenization_spaces` was not set. It will be set to `True` by default. This behavior will be depracted in transformers v4.45, and will be then set to `False` by default. For more details check this issue: https://github.com/huggingface/transformers/issues/31884\n",
            "  warnings.warn(\n"
          ]
        },
        {
          "data": {
            "text/plain": [
              "CLIPModel(\n",
              "  (text_model): CLIPTextTransformer(\n",
              "    (embeddings): CLIPTextEmbeddings(\n",
              "      (token_embedding): Embedding(49408, 768)\n",
              "      (position_embedding): Embedding(77, 768)\n",
              "    )\n",
              "    (encoder): CLIPEncoder(\n",
              "      (layers): ModuleList(\n",
              "        (0-11): 12 x CLIPEncoderLayer(\n",
              "          (self_attn): CLIPSdpaAttention(\n",
              "            (k_proj): Linear(in_features=768, out_features=768, bias=True)\n",
              "            (v_proj): Linear(in_features=768, out_features=768, bias=True)\n",
              "            (q_proj): Linear(in_features=768, out_features=768, bias=True)\n",
              "            (out_proj): Linear(in_features=768, out_features=768, bias=True)\n",
              "          )\n",
              "          (layer_norm1): LayerNorm((768,), eps=1e-05, elementwise_affine=True)\n",
              "          (mlp): CLIPMLP(\n",
              "            (activation_fn): QuickGELUActivation()\n",
              "            (fc1): Linear(in_features=768, out_features=3072, bias=True)\n",
              "            (fc2): Linear(in_features=3072, out_features=768, bias=True)\n",
              "          )\n",
              "          (layer_norm2): LayerNorm((768,), eps=1e-05, elementwise_affine=True)\n",
              "        )\n",
              "      )\n",
              "    )\n",
              "    (final_layer_norm): LayerNorm((768,), eps=1e-05, elementwise_affine=True)\n",
              "  )\n",
              "  (vision_model): CLIPVisionTransformer(\n",
              "    (embeddings): CLIPVisionEmbeddings(\n",
              "      (patch_embedding): Conv2d(3, 1024, kernel_size=(14, 14), stride=(14, 14), bias=False)\n",
              "      (position_embedding): Embedding(257, 1024)\n",
              "    )\n",
              "    (pre_layrnorm): LayerNorm((1024,), eps=1e-05, elementwise_affine=True)\n",
              "    (encoder): CLIPEncoder(\n",
              "      (layers): ModuleList(\n",
              "        (0-23): 24 x CLIPEncoderLayer(\n",
              "          (self_attn): CLIPSdpaAttention(\n",
              "            (k_proj): Linear(in_features=1024, out_features=1024, bias=True)\n",
              "            (v_proj): Linear(in_features=1024, out_features=1024, bias=True)\n",
              "            (q_proj): Linear(in_features=1024, out_features=1024, bias=True)\n",
              "            (out_proj): Linear(in_features=1024, out_features=1024, bias=True)\n",
              "          )\n",
              "          (layer_norm1): LayerNorm((1024,), eps=1e-05, elementwise_affine=True)\n",
              "          (mlp): CLIPMLP(\n",
              "            (activation_fn): QuickGELUActivation()\n",
              "            (fc1): Linear(in_features=1024, out_features=4096, bias=True)\n",
              "            (fc2): Linear(in_features=4096, out_features=1024, bias=True)\n",
              "          )\n",
              "          (layer_norm2): LayerNorm((1024,), eps=1e-05, elementwise_affine=True)\n",
              "        )\n",
              "      )\n",
              "    )\n",
              "    (post_layernorm): LayerNorm((1024,), eps=1e-05, elementwise_affine=True)\n",
              "  )\n",
              "  (visual_projection): Linear(in_features=1024, out_features=768, bias=False)\n",
              "  (text_projection): Linear(in_features=768, out_features=768, bias=False)\n",
              ")"
            ]
          },
          "execution_count": 29,
          "metadata": {},
          "output_type": "execute_result"
        }
      ],
      "source": [
        "clip_model = CLIPModel.from_pretrained(\"openai/clip-vit-large-patch14\").to(device)\n",
        "cifar_processor = CLIPProcessor.from_pretrained(\"openai/clip-vit-large-patch14\")\n",
        "\n",
        "clip_model.eval()\n"
      ]
    },
    {
      "cell_type": "markdown",
      "metadata": {
        "id": "HnaVag2UJLSZ"
      },
      "source": [
        "Class labels for CIFAR-10 dataset"
      ]
    },
    {
      "cell_type": "code",
      "execution_count": 30,
      "metadata": {
        "execution": {
          "iopub.execute_input": "2024-09-29T17:38:52.386120Z",
          "iopub.status.busy": "2024-09-29T17:38:52.385742Z",
          "iopub.status.idle": "2024-09-29T17:38:52.391139Z",
          "shell.execute_reply": "2024-09-29T17:38:52.389784Z",
          "shell.execute_reply.started": "2024-09-29T17:38:52.386083Z"
        },
        "id": "dYtChK_KJLSZ",
        "trusted": true
      },
      "outputs": [],
      "source": [
        "class_names = ['airplane', 'automobile', 'bird', 'cat', 'deer', 'dog', 'frog', 'horse', 'ship', 'truck']\n",
        "\n",
        "labels = [f\"a photo of a {class_name}\" for class_name in class_names]"
      ]
    },
    {
      "cell_type": "markdown",
      "metadata": {
        "id": "Hc4CzLQyJLSZ"
      },
      "source": [
        "### Evaluating the model on test data"
      ]
    },
    {
      "cell_type": "code",
      "execution_count": 32,
      "metadata": {
        "colab": {
          "base_uri": "https://localhost:8080/"
        },
        "execution": {
          "iopub.execute_input": "2024-09-29T17:39:16.819749Z",
          "iopub.status.busy": "2024-09-29T17:39:16.819052Z",
          "iopub.status.idle": "2024-09-29T17:47:50.284468Z",
          "shell.execute_reply": "2024-09-29T17:47:50.283516Z",
          "shell.execute_reply.started": "2024-09-29T17:39:16.819707Z"
        },
        "id": "7-RNMeeeJLSa",
        "outputId": "09716c56-9921-4079-c6ab-6fa3d15b13a4",
        "trusted": true
      },
      "outputs": [
        {
          "name": "stderr",
          "output_type": "stream",
          "text": [
            "\rEvaluating:   0%|          | 0/157 [00:00<?, ?it/s]/usr/local/lib/python3.10/dist-packages/torch/utils/data/dataloader.py:557: UserWarning: This DataLoader will create 4 worker processes in total. Our suggested max number of worker in current system is 2, which is smaller than what this DataLoader is going to create. Please be aware that excessive worker creation might get DataLoader running slow or even freeze, lower the worker number to avoid potential slowness/freeze if necessary.\n",
            "  warnings.warn(_create_warning_msg(\n",
            "Evaluating: 100%|██████████| 157/157 [08:37<00:00,  3.29s/it]"
          ]
        },
        {
          "name": "stdout",
          "output_type": "stream",
          "text": [
            "\n",
            "Accuracy: 94.40%\n"
          ]
        },
        {
          "name": "stderr",
          "output_type": "stream",
          "text": [
            "\n"
          ]
        }
      ],
      "source": [
        "# Zero-shot evaluation on the test dataset with accuracy computation\n",
        "correct = 0\n",
        "total = 0\n",
        "\n",
        "with torch.no_grad():\n",
        "    for images, targets in tqdm(test_loader, desc=\"Evaluating\", leave=True):\n",
        "        images = [img.to(device) for img in images]\n",
        "        targets = targets.to(device)\n",
        "\n",
        "        # Process inputs for the CLIP model\n",
        "        inputs = cifar_processor(text=labels, images=images, return_tensors=\"pt\", padding=True, do_rescale=False).to(device)\n",
        "\n",
        "        # Forward pass\n",
        "        outputs = clip_model(**inputs)\n",
        "\n",
        "        # Get image-text similarity scores\n",
        "        logits_per_image = outputs.logits_per_image\n",
        "\n",
        "        # Compute probabilities using softmax\n",
        "        probs = logits_per_image.softmax(dim=1)\n",
        "\n",
        "        # Get predicted labels (as indices)\n",
        "        preds = torch.argmax(probs, dim=1)\n",
        "\n",
        "        # Calculate accuracy\n",
        "        correct += (preds == targets).sum().item()\n",
        "        total += targets.size(0)\n",
        "\n",
        "accuracy = correct / total * 100\n",
        "print(f\"\\nAccuracy: {accuracy:.2f}%\")"
      ]
    }
  ],
  "metadata": {
    "accelerator": "GPU",
    "colab": {
      "gpuType": "T4",
      "provenance": [],
      "toc_visible": true
    },
    "kaggle": {
      "accelerator": "nvidiaTeslaT4",
      "dataSources": [],
      "dockerImageVersionId": 30776,
      "isGpuEnabled": true,
      "isInternetEnabled": true,
      "language": "python",
      "sourceType": "notebook"
    },
    "kernelspec": {
      "display_name": "Python 3",
      "language": "python",
      "name": "python3"
    },
    "language_info": {
      "codemirror_mode": {
        "name": "ipython",
        "version": 3
      },
      "file_extension": ".py",
      "mimetype": "text/x-python",
      "name": "python",
      "nbconvert_exporter": "python",
      "pygments_lexer": "ipython3",
      "version": "3.10.14"
    },
    "widgets": {
      "application/vnd.jupyter.widget-state+json": {
        "130e5a4508754511aec9830fd3af36a5": {
          "model_module": "@jupyter-widgets/base",
          "model_module_version": "1.2.0",
          "model_name": "LayoutModel",
          "state": {
            "_model_module": "@jupyter-widgets/base",
            "_model_module_version": "1.2.0",
            "_model_name": "LayoutModel",
            "_view_count": null,
            "_view_module": "@jupyter-widgets/base",
            "_view_module_version": "1.2.0",
            "_view_name": "LayoutView",
            "align_content": null,
            "align_items": null,
            "align_self": null,
            "border": null,
            "bottom": null,
            "display": null,
            "flex": null,
            "flex_flow": null,
            "grid_area": null,
            "grid_auto_columns": null,
            "grid_auto_flow": null,
            "grid_auto_rows": null,
            "grid_column": null,
            "grid_gap": null,
            "grid_row": null,
            "grid_template_areas": null,
            "grid_template_columns": null,
            "grid_template_rows": null,
            "height": null,
            "justify_content": null,
            "justify_items": null,
            "left": null,
            "margin": null,
            "max_height": null,
            "max_width": null,
            "min_height": null,
            "min_width": null,
            "object_fit": null,
            "object_position": null,
            "order": null,
            "overflow": null,
            "overflow_x": null,
            "overflow_y": null,
            "padding": null,
            "right": null,
            "top": null,
            "visibility": null,
            "width": null
          }
        },
        "2dfbee89caff4f119165533538080c6e": {
          "model_module": "@jupyter-widgets/base",
          "model_module_version": "1.2.0",
          "model_name": "LayoutModel",
          "state": {
            "_model_module": "@jupyter-widgets/base",
            "_model_module_version": "1.2.0",
            "_model_name": "LayoutModel",
            "_view_count": null,
            "_view_module": "@jupyter-widgets/base",
            "_view_module_version": "1.2.0",
            "_view_name": "LayoutView",
            "align_content": null,
            "align_items": null,
            "align_self": null,
            "border": null,
            "bottom": null,
            "display": null,
            "flex": null,
            "flex_flow": null,
            "grid_area": null,
            "grid_auto_columns": null,
            "grid_auto_flow": null,
            "grid_auto_rows": null,
            "grid_column": null,
            "grid_gap": null,
            "grid_row": null,
            "grid_template_areas": null,
            "grid_template_columns": null,
            "grid_template_rows": null,
            "height": null,
            "justify_content": null,
            "justify_items": null,
            "left": null,
            "margin": null,
            "max_height": null,
            "max_width": null,
            "min_height": null,
            "min_width": null,
            "object_fit": null,
            "object_position": null,
            "order": null,
            "overflow": null,
            "overflow_x": null,
            "overflow_y": null,
            "padding": null,
            "right": null,
            "top": null,
            "visibility": null,
            "width": null
          }
        },
        "306ceb0b405b4fbd8f91147bcfa97328": {
          "model_module": "@jupyter-widgets/controls",
          "model_module_version": "1.5.0",
          "model_name": "ProgressStyleModel",
          "state": {
            "_model_module": "@jupyter-widgets/controls",
            "_model_module_version": "1.5.0",
            "_model_name": "ProgressStyleModel",
            "_view_count": null,
            "_view_module": "@jupyter-widgets/base",
            "_view_module_version": "1.2.0",
            "_view_name": "StyleView",
            "bar_color": null,
            "description_width": ""
          }
        },
        "3cd09c5e3a214d8c9637a0f10ecb73dd": {
          "model_module": "@jupyter-widgets/controls",
          "model_module_version": "1.5.0",
          "model_name": "HTMLModel",
          "state": {
            "_dom_classes": [],
            "_model_module": "@jupyter-widgets/controls",
            "_model_module_version": "1.5.0",
            "_model_name": "HTMLModel",
            "_view_count": null,
            "_view_module": "@jupyter-widgets/controls",
            "_view_module_version": "1.5.0",
            "_view_name": "HTMLView",
            "description": "",
            "description_tooltip": null,
            "layout": "IPY_MODEL_c92f07771499435a8f303b00ae9df8e6",
            "placeholder": "​",
            "style": "IPY_MODEL_85a06e6e7f9244308e279bacd48df93b",
            "value": " 346M/346M [00:05&lt;00:00, 41.8MB/s]"
          }
        },
        "446543b54cd3499782f5534d8bf9a6ba": {
          "model_module": "@jupyter-widgets/controls",
          "model_module_version": "1.5.0",
          "model_name": "HTMLModel",
          "state": {
            "_dom_classes": [],
            "_model_module": "@jupyter-widgets/controls",
            "_model_module_version": "1.5.0",
            "_model_name": "HTMLModel",
            "_view_count": null,
            "_view_module": "@jupyter-widgets/controls",
            "_view_module_version": "1.5.0",
            "_view_name": "HTMLView",
            "description": "",
            "description_tooltip": null,
            "layout": "IPY_MODEL_617457b460ae42bebbc68d6b5aecb19e",
            "placeholder": "​",
            "style": "IPY_MODEL_96bb1529ccc044e8b8b88d0fa6ad7ade",
            "value": "model.safetensors: 100%"
          }
        },
        "53017f73a71d43eeabd94cb1417aae78": {
          "model_module": "@jupyter-widgets/controls",
          "model_module_version": "1.5.0",
          "model_name": "HTMLModel",
          "state": {
            "_dom_classes": [],
            "_model_module": "@jupyter-widgets/controls",
            "_model_module_version": "1.5.0",
            "_model_name": "HTMLModel",
            "_view_count": null,
            "_view_module": "@jupyter-widgets/controls",
            "_view_module_version": "1.5.0",
            "_view_name": "HTMLView",
            "description": "",
            "description_tooltip": null,
            "layout": "IPY_MODEL_f282abc800e749ad88387313642d776f",
            "placeholder": "​",
            "style": "IPY_MODEL_9afae837f382490b8ec150554725dfbe",
            "value": " 179M/179M [00:09&lt;00:00, 22.1MB/s]"
          }
        },
        "5567f4a770f04ce4b8ca684efd7d17f6": {
          "model_module": "@jupyter-widgets/controls",
          "model_module_version": "1.5.0",
          "model_name": "DescriptionStyleModel",
          "state": {
            "_model_module": "@jupyter-widgets/controls",
            "_model_module_version": "1.5.0",
            "_model_name": "DescriptionStyleModel",
            "_view_count": null,
            "_view_module": "@jupyter-widgets/base",
            "_view_module_version": "1.2.0",
            "_view_name": "StyleView",
            "description_width": ""
          }
        },
        "5bea8291b22e47f2b525da7ca3722494": {
          "model_module": "@jupyter-widgets/controls",
          "model_module_version": "1.5.0",
          "model_name": "HBoxModel",
          "state": {
            "_dom_classes": [],
            "_model_module": "@jupyter-widgets/controls",
            "_model_module_version": "1.5.0",
            "_model_name": "HBoxModel",
            "_view_count": null,
            "_view_module": "@jupyter-widgets/controls",
            "_view_module_version": "1.5.0",
            "_view_name": "HBoxView",
            "box_style": "",
            "children": [
              "IPY_MODEL_96ff137e957b49779b9abe4c25f873f7",
              "IPY_MODEL_946872d22910443d89dad962fd54e886",
              "IPY_MODEL_53017f73a71d43eeabd94cb1417aae78"
            ],
            "layout": "IPY_MODEL_130e5a4508754511aec9830fd3af36a5"
          }
        },
        "617457b460ae42bebbc68d6b5aecb19e": {
          "model_module": "@jupyter-widgets/base",
          "model_module_version": "1.2.0",
          "model_name": "LayoutModel",
          "state": {
            "_model_module": "@jupyter-widgets/base",
            "_model_module_version": "1.2.0",
            "_model_name": "LayoutModel",
            "_view_count": null,
            "_view_module": "@jupyter-widgets/base",
            "_view_module_version": "1.2.0",
            "_view_name": "LayoutView",
            "align_content": null,
            "align_items": null,
            "align_self": null,
            "border": null,
            "bottom": null,
            "display": null,
            "flex": null,
            "flex_flow": null,
            "grid_area": null,
            "grid_auto_columns": null,
            "grid_auto_flow": null,
            "grid_auto_rows": null,
            "grid_column": null,
            "grid_gap": null,
            "grid_row": null,
            "grid_template_areas": null,
            "grid_template_columns": null,
            "grid_template_rows": null,
            "height": null,
            "justify_content": null,
            "justify_items": null,
            "left": null,
            "margin": null,
            "max_height": null,
            "max_width": null,
            "min_height": null,
            "min_width": null,
            "object_fit": null,
            "object_position": null,
            "order": null,
            "overflow": null,
            "overflow_x": null,
            "overflow_y": null,
            "padding": null,
            "right": null,
            "top": null,
            "visibility": null,
            "width": null
          }
        },
        "85a06e6e7f9244308e279bacd48df93b": {
          "model_module": "@jupyter-widgets/controls",
          "model_module_version": "1.5.0",
          "model_name": "DescriptionStyleModel",
          "state": {
            "_model_module": "@jupyter-widgets/controls",
            "_model_module_version": "1.5.0",
            "_model_name": "DescriptionStyleModel",
            "_view_count": null,
            "_view_module": "@jupyter-widgets/base",
            "_view_module_version": "1.2.0",
            "_view_name": "StyleView",
            "description_width": ""
          }
        },
        "8a84f25c3bcd44738e8543aea8e489b1": {
          "model_module": "@jupyter-widgets/base",
          "model_module_version": "1.2.0",
          "model_name": "LayoutModel",
          "state": {
            "_model_module": "@jupyter-widgets/base",
            "_model_module_version": "1.2.0",
            "_model_name": "LayoutModel",
            "_view_count": null,
            "_view_module": "@jupyter-widgets/base",
            "_view_module_version": "1.2.0",
            "_view_name": "LayoutView",
            "align_content": null,
            "align_items": null,
            "align_self": null,
            "border": null,
            "bottom": null,
            "display": null,
            "flex": null,
            "flex_flow": null,
            "grid_area": null,
            "grid_auto_columns": null,
            "grid_auto_flow": null,
            "grid_auto_rows": null,
            "grid_column": null,
            "grid_gap": null,
            "grid_row": null,
            "grid_template_areas": null,
            "grid_template_columns": null,
            "grid_template_rows": null,
            "height": null,
            "justify_content": null,
            "justify_items": null,
            "left": null,
            "margin": null,
            "max_height": null,
            "max_width": null,
            "min_height": null,
            "min_width": null,
            "object_fit": null,
            "object_position": null,
            "order": null,
            "overflow": null,
            "overflow_x": null,
            "overflow_y": null,
            "padding": null,
            "right": null,
            "top": null,
            "visibility": null,
            "width": null
          }
        },
        "946872d22910443d89dad962fd54e886": {
          "model_module": "@jupyter-widgets/controls",
          "model_module_version": "1.5.0",
          "model_name": "FloatProgressModel",
          "state": {
            "_dom_classes": [],
            "_model_module": "@jupyter-widgets/controls",
            "_model_module_version": "1.5.0",
            "_model_name": "FloatProgressModel",
            "_view_count": null,
            "_view_module": "@jupyter-widgets/controls",
            "_view_module_version": "1.5.0",
            "_view_name": "ProgressView",
            "bar_style": "success",
            "description": "",
            "description_tooltip": null,
            "layout": "IPY_MODEL_2dfbee89caff4f119165533538080c6e",
            "max": 178675806,
            "min": 0,
            "orientation": "horizontal",
            "style": "IPY_MODEL_306ceb0b405b4fbd8f91147bcfa97328",
            "value": 178675806
          }
        },
        "96bb1529ccc044e8b8b88d0fa6ad7ade": {
          "model_module": "@jupyter-widgets/controls",
          "model_module_version": "1.5.0",
          "model_name": "DescriptionStyleModel",
          "state": {
            "_model_module": "@jupyter-widgets/controls",
            "_model_module_version": "1.5.0",
            "_model_name": "DescriptionStyleModel",
            "_view_count": null,
            "_view_module": "@jupyter-widgets/base",
            "_view_module_version": "1.2.0",
            "_view_name": "StyleView",
            "description_width": ""
          }
        },
        "96ff137e957b49779b9abe4c25f873f7": {
          "model_module": "@jupyter-widgets/controls",
          "model_module_version": "1.5.0",
          "model_name": "HTMLModel",
          "state": {
            "_dom_classes": [],
            "_model_module": "@jupyter-widgets/controls",
            "_model_module_version": "1.5.0",
            "_model_name": "HTMLModel",
            "_view_count": null,
            "_view_module": "@jupyter-widgets/controls",
            "_view_module_version": "1.5.0",
            "_view_name": "HTMLView",
            "description": "",
            "description_tooltip": null,
            "layout": "IPY_MODEL_a784a7e76d274431a2613a15623f613e",
            "placeholder": "​",
            "style": "IPY_MODEL_5567f4a770f04ce4b8ca684efd7d17f6",
            "value": "model.safetensors: 100%"
          }
        },
        "9afae837f382490b8ec150554725dfbe": {
          "model_module": "@jupyter-widgets/controls",
          "model_module_version": "1.5.0",
          "model_name": "DescriptionStyleModel",
          "state": {
            "_model_module": "@jupyter-widgets/controls",
            "_model_module_version": "1.5.0",
            "_model_name": "DescriptionStyleModel",
            "_view_count": null,
            "_view_module": "@jupyter-widgets/base",
            "_view_module_version": "1.2.0",
            "_view_name": "StyleView",
            "description_width": ""
          }
        },
        "a784a7e76d274431a2613a15623f613e": {
          "model_module": "@jupyter-widgets/base",
          "model_module_version": "1.2.0",
          "model_name": "LayoutModel",
          "state": {
            "_model_module": "@jupyter-widgets/base",
            "_model_module_version": "1.2.0",
            "_model_name": "LayoutModel",
            "_view_count": null,
            "_view_module": "@jupyter-widgets/base",
            "_view_module_version": "1.2.0",
            "_view_name": "LayoutView",
            "align_content": null,
            "align_items": null,
            "align_self": null,
            "border": null,
            "bottom": null,
            "display": null,
            "flex": null,
            "flex_flow": null,
            "grid_area": null,
            "grid_auto_columns": null,
            "grid_auto_flow": null,
            "grid_auto_rows": null,
            "grid_column": null,
            "grid_gap": null,
            "grid_row": null,
            "grid_template_areas": null,
            "grid_template_columns": null,
            "grid_template_rows": null,
            "height": null,
            "justify_content": null,
            "justify_items": null,
            "left": null,
            "margin": null,
            "max_height": null,
            "max_width": null,
            "min_height": null,
            "min_width": null,
            "object_fit": null,
            "object_position": null,
            "order": null,
            "overflow": null,
            "overflow_x": null,
            "overflow_y": null,
            "padding": null,
            "right": null,
            "top": null,
            "visibility": null,
            "width": null
          }
        },
        "c1d3bc6a9fc743f393cd3084e180b05c": {
          "model_module": "@jupyter-widgets/controls",
          "model_module_version": "1.5.0",
          "model_name": "FloatProgressModel",
          "state": {
            "_dom_classes": [],
            "_model_module": "@jupyter-widgets/controls",
            "_model_module_version": "1.5.0",
            "_model_name": "FloatProgressModel",
            "_view_count": null,
            "_view_module": "@jupyter-widgets/controls",
            "_view_module_version": "1.5.0",
            "_view_name": "ProgressView",
            "bar_style": "success",
            "description": "",
            "description_tooltip": null,
            "layout": "IPY_MODEL_f70c1e0d16f54d2bb3829c9993646706",
            "max": 346284714,
            "min": 0,
            "orientation": "horizontal",
            "style": "IPY_MODEL_e735ec2e9eeb4f53b838f9e6c97fb310",
            "value": 346284714
          }
        },
        "c92f07771499435a8f303b00ae9df8e6": {
          "model_module": "@jupyter-widgets/base",
          "model_module_version": "1.2.0",
          "model_name": "LayoutModel",
          "state": {
            "_model_module": "@jupyter-widgets/base",
            "_model_module_version": "1.2.0",
            "_model_name": "LayoutModel",
            "_view_count": null,
            "_view_module": "@jupyter-widgets/base",
            "_view_module_version": "1.2.0",
            "_view_name": "LayoutView",
            "align_content": null,
            "align_items": null,
            "align_self": null,
            "border": null,
            "bottom": null,
            "display": null,
            "flex": null,
            "flex_flow": null,
            "grid_area": null,
            "grid_auto_columns": null,
            "grid_auto_flow": null,
            "grid_auto_rows": null,
            "grid_column": null,
            "grid_gap": null,
            "grid_row": null,
            "grid_template_areas": null,
            "grid_template_columns": null,
            "grid_template_rows": null,
            "height": null,
            "justify_content": null,
            "justify_items": null,
            "left": null,
            "margin": null,
            "max_height": null,
            "max_width": null,
            "min_height": null,
            "min_width": null,
            "object_fit": null,
            "object_position": null,
            "order": null,
            "overflow": null,
            "overflow_x": null,
            "overflow_y": null,
            "padding": null,
            "right": null,
            "top": null,
            "visibility": null,
            "width": null
          }
        },
        "e735ec2e9eeb4f53b838f9e6c97fb310": {
          "model_module": "@jupyter-widgets/controls",
          "model_module_version": "1.5.0",
          "model_name": "ProgressStyleModel",
          "state": {
            "_model_module": "@jupyter-widgets/controls",
            "_model_module_version": "1.5.0",
            "_model_name": "ProgressStyleModel",
            "_view_count": null,
            "_view_module": "@jupyter-widgets/base",
            "_view_module_version": "1.2.0",
            "_view_name": "StyleView",
            "bar_color": null,
            "description_width": ""
          }
        },
        "eea265d614294369be3e193789f84f36": {
          "model_module": "@jupyter-widgets/controls",
          "model_module_version": "1.5.0",
          "model_name": "HBoxModel",
          "state": {
            "_dom_classes": [],
            "_model_module": "@jupyter-widgets/controls",
            "_model_module_version": "1.5.0",
            "_model_name": "HBoxModel",
            "_view_count": null,
            "_view_module": "@jupyter-widgets/controls",
            "_view_module_version": "1.5.0",
            "_view_name": "HBoxView",
            "box_style": "",
            "children": [
              "IPY_MODEL_446543b54cd3499782f5534d8bf9a6ba",
              "IPY_MODEL_c1d3bc6a9fc743f393cd3084e180b05c",
              "IPY_MODEL_3cd09c5e3a214d8c9637a0f10ecb73dd"
            ],
            "layout": "IPY_MODEL_8a84f25c3bcd44738e8543aea8e489b1"
          }
        },
        "f282abc800e749ad88387313642d776f": {
          "model_module": "@jupyter-widgets/base",
          "model_module_version": "1.2.0",
          "model_name": "LayoutModel",
          "state": {
            "_model_module": "@jupyter-widgets/base",
            "_model_module_version": "1.2.0",
            "_model_name": "LayoutModel",
            "_view_count": null,
            "_view_module": "@jupyter-widgets/base",
            "_view_module_version": "1.2.0",
            "_view_name": "LayoutView",
            "align_content": null,
            "align_items": null,
            "align_self": null,
            "border": null,
            "bottom": null,
            "display": null,
            "flex": null,
            "flex_flow": null,
            "grid_area": null,
            "grid_auto_columns": null,
            "grid_auto_flow": null,
            "grid_auto_rows": null,
            "grid_column": null,
            "grid_gap": null,
            "grid_row": null,
            "grid_template_areas": null,
            "grid_template_columns": null,
            "grid_template_rows": null,
            "height": null,
            "justify_content": null,
            "justify_items": null,
            "left": null,
            "margin": null,
            "max_height": null,
            "max_width": null,
            "min_height": null,
            "min_width": null,
            "object_fit": null,
            "object_position": null,
            "order": null,
            "overflow": null,
            "overflow_x": null,
            "overflow_y": null,
            "padding": null,
            "right": null,
            "top": null,
            "visibility": null,
            "width": null
          }
        },
        "f70c1e0d16f54d2bb3829c9993646706": {
          "model_module": "@jupyter-widgets/base",
          "model_module_version": "1.2.0",
          "model_name": "LayoutModel",
          "state": {
            "_model_module": "@jupyter-widgets/base",
            "_model_module_version": "1.2.0",
            "_model_name": "LayoutModel",
            "_view_count": null,
            "_view_module": "@jupyter-widgets/base",
            "_view_module_version": "1.2.0",
            "_view_name": "LayoutView",
            "align_content": null,
            "align_items": null,
            "align_self": null,
            "border": null,
            "bottom": null,
            "display": null,
            "flex": null,
            "flex_flow": null,
            "grid_area": null,
            "grid_auto_columns": null,
            "grid_auto_flow": null,
            "grid_auto_rows": null,
            "grid_column": null,
            "grid_gap": null,
            "grid_row": null,
            "grid_template_areas": null,
            "grid_template_columns": null,
            "grid_template_rows": null,
            "height": null,
            "justify_content": null,
            "justify_items": null,
            "left": null,
            "margin": null,
            "max_height": null,
            "max_width": null,
            "min_height": null,
            "min_width": null,
            "object_fit": null,
            "object_position": null,
            "order": null,
            "overflow": null,
            "overflow_x": null,
            "overflow_y": null,
            "padding": null,
            "right": null,
            "top": null,
            "visibility": null,
            "width": null
          }
        }
      }
    }
  },
  "nbformat": 4,
  "nbformat_minor": 0
}
