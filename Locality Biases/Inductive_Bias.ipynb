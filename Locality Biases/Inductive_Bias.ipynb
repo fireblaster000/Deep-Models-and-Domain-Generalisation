{
  "cells": [
    {
      "cell_type": "markdown",
      "metadata": {
        "id": "E2ddYS0FQEYp"
      },
      "source": [
        "# PART 5: Inductive Biases of Models: Locality Biases"
      ]
    },
    {
      "cell_type": "markdown",
      "metadata": {
        "id": "I58y8ocqzLP4"
      },
      "source": [
        "### Imports"
      ]
    },
    {
      "cell_type": "code",
      "execution_count": 1,
      "metadata": {
        "colab": {
          "base_uri": "https://localhost:8080/"
        },
        "id": "1zuSgJolPn0e",
        "outputId": "86d78d9f-542f-4773-bc6c-c835205b38e3"
      },
      "outputs": [
        {
          "output_type": "stream",
          "name": "stdout",
          "text": [
            "Collecting timm\n",
            "  Downloading timm-1.0.9-py3-none-any.whl.metadata (42 kB)\n",
            "\u001b[?25l     \u001b[90m━━━━━━━━━━━━━━━━━━━━━━━━━━━━━━━━━━━━━━━━\u001b[0m \u001b[32m0.0/42.4 kB\u001b[0m \u001b[31m?\u001b[0m eta \u001b[36m-:--:--\u001b[0m\r\u001b[2K     \u001b[90m━━━━━━━━━━━━━━━━━━━━━━━━━━━━━━━━━━━━━━━━\u001b[0m \u001b[32m42.4/42.4 kB\u001b[0m \u001b[31m2.0 MB/s\u001b[0m eta \u001b[36m0:00:00\u001b[0m\n",
            "\u001b[?25hRequirement already satisfied: transformers in /usr/local/lib/python3.10/dist-packages (4.44.2)\n",
            "Requirement already satisfied: torch in /usr/local/lib/python3.10/dist-packages (from timm) (2.4.1+cu121)\n",
            "Requirement already satisfied: torchvision in /usr/local/lib/python3.10/dist-packages (from timm) (0.19.1+cu121)\n",
            "Requirement already satisfied: pyyaml in /usr/local/lib/python3.10/dist-packages (from timm) (6.0.2)\n",
            "Requirement already satisfied: huggingface_hub in /usr/local/lib/python3.10/dist-packages (from timm) (0.24.7)\n",
            "Requirement already satisfied: safetensors in /usr/local/lib/python3.10/dist-packages (from timm) (0.4.5)\n",
            "Requirement already satisfied: filelock in /usr/local/lib/python3.10/dist-packages (from transformers) (3.16.1)\n",
            "Requirement already satisfied: numpy>=1.17 in /usr/local/lib/python3.10/dist-packages (from transformers) (1.26.4)\n",
            "Requirement already satisfied: packaging>=20.0 in /usr/local/lib/python3.10/dist-packages (from transformers) (24.1)\n",
            "Requirement already satisfied: regex!=2019.12.17 in /usr/local/lib/python3.10/dist-packages (from transformers) (2024.9.11)\n",
            "Requirement already satisfied: requests in /usr/local/lib/python3.10/dist-packages (from transformers) (2.32.3)\n",
            "Requirement already satisfied: tokenizers<0.20,>=0.19 in /usr/local/lib/python3.10/dist-packages (from transformers) (0.19.1)\n",
            "Requirement already satisfied: tqdm>=4.27 in /usr/local/lib/python3.10/dist-packages (from transformers) (4.66.5)\n",
            "Requirement already satisfied: fsspec>=2023.5.0 in /usr/local/lib/python3.10/dist-packages (from huggingface_hub->timm) (2024.6.1)\n",
            "Requirement already satisfied: typing-extensions>=3.7.4.3 in /usr/local/lib/python3.10/dist-packages (from huggingface_hub->timm) (4.12.2)\n",
            "Requirement already satisfied: charset-normalizer<4,>=2 in /usr/local/lib/python3.10/dist-packages (from requests->transformers) (3.3.2)\n",
            "Requirement already satisfied: idna<4,>=2.5 in /usr/local/lib/python3.10/dist-packages (from requests->transformers) (3.10)\n",
            "Requirement already satisfied: urllib3<3,>=1.21.1 in /usr/local/lib/python3.10/dist-packages (from requests->transformers) (2.2.3)\n",
            "Requirement already satisfied: certifi>=2017.4.17 in /usr/local/lib/python3.10/dist-packages (from requests->transformers) (2024.8.30)\n",
            "Requirement already satisfied: sympy in /usr/local/lib/python3.10/dist-packages (from torch->timm) (1.13.3)\n",
            "Requirement already satisfied: networkx in /usr/local/lib/python3.10/dist-packages (from torch->timm) (3.3)\n",
            "Requirement already satisfied: jinja2 in /usr/local/lib/python3.10/dist-packages (from torch->timm) (3.1.4)\n",
            "Requirement already satisfied: pillow!=8.3.*,>=5.3.0 in /usr/local/lib/python3.10/dist-packages (from torchvision->timm) (10.4.0)\n",
            "Requirement already satisfied: MarkupSafe>=2.0 in /usr/local/lib/python3.10/dist-packages (from jinja2->torch->timm) (2.1.5)\n",
            "Requirement already satisfied: mpmath<1.4,>=1.1.0 in /usr/local/lib/python3.10/dist-packages (from sympy->torch->timm) (1.3.0)\n",
            "Downloading timm-1.0.9-py3-none-any.whl (2.3 MB)\n",
            "\u001b[2K   \u001b[90m━━━━━━━━━━━━━━━━━━━━━━━━━━━━━━━━━━━━━━━━\u001b[0m \u001b[32m2.3/2.3 MB\u001b[0m \u001b[31m24.4 MB/s\u001b[0m eta \u001b[36m0:00:00\u001b[0m\n",
            "\u001b[?25hInstalling collected packages: timm\n",
            "Successfully installed timm-1.0.9\n",
            "Requirement already satisfied: torchsummary in /usr/local/lib/python3.10/dist-packages (1.5.1)\n"
          ]
        },
        {
          "output_type": "execute_result",
          "data": {
            "text/plain": [
              "device(type='cuda')"
            ]
          },
          "metadata": {},
          "execution_count": 1
        }
      ],
      "source": [
        "!pip install timm transformers\n",
        "!pip install torchsummary\n",
        "\n",
        "import torch\n",
        "import torch.nn as nn\n",
        "import torch.optim as optim\n",
        "import torchvision.transforms as transforms\n",
        "import torchvision.datasets as datasets\n",
        "from torchvision import datasets, transforms, models\n",
        "from torch.utils.data import Dataset, DataLoader,Subset\n",
        "import timm\n",
        "from torchsummary import summary\n",
        "from tqdm import tqdm\n",
        "import matplotlib.pyplot as plt\n",
        "import numpy as np\n",
        "import cv2\n",
        "\n",
        "\n",
        "# import clip\n",
        "from transformers import CLIPProcessor, CLIPModel\n",
        "from PIL import Image\n",
        "\n",
        "# Device configuration\n",
        "device = torch.device(\"cuda\" if torch.cuda.is_available() else \"cpu\")\n",
        "device"
      ]
    },
    {
      "cell_type": "code",
      "execution_count": 11,
      "metadata": {
        "colab": {
          "base_uri": "https://localhost:8080/"
        },
        "id": "1bWkvMbIP0vH",
        "outputId": "3e689c1d-a5e8-471e-8946-a2980a1f4645"
      },
      "outputs": [
        {
          "output_type": "stream",
          "name": "stdout",
          "text": [
            "Files already downloaded and verified\n",
            "Files already downloaded and verified\n"
          ]
        }
      ],
      "source": [
        "# CIFAR-10 dataset loading and transformation\n",
        "transform = transforms.Compose([\n",
        "    transforms.Resize((224, 224)),  # Resize to 224x224 for models like ViT and CLIP\n",
        "    transforms.ToTensor(),\n",
        "    # transforms.Normalize((0.5, 0.5, 0.5), (0.5, 0.5, 0.5))  # Normalize CIFAR-10\n",
        "])\n",
        "\n",
        "train_dataset_CIFAR10 = datasets.CIFAR10(root='./data', train=True, transform=transform, download=True)\n",
        "test_dataset_CIFAR10  = datasets.CIFAR10(root='./data', train=False, transform=transform, download=True)\n",
        "\n",
        "train_loader_CIFAR10 = DataLoader(dataset=train_dataset_CIFAR10, batch_size=128, shuffle=True, num_workers=4)\n",
        "test_loader_CIFAR10  = DataLoader(dataset=test_dataset_CIFAR10, batch_size=128, shuffle=False, num_workers=4)"
      ]
    },
    {
      "cell_type": "markdown",
      "metadata": {
        "id": "UsjcYKBSgTUA"
      },
      "source": [
        "### Creating a Subset Dataset of CIFAR 10 test set\n",
        "Total Images 1000 with\n",
        "100 images of each class"
      ]
    },
    {
      "cell_type": "code",
      "execution_count": 12,
      "metadata": {
        "id": "NWKJp2QhgSqm"
      },
      "outputs": [],
      "source": [
        "class_counts = {i: 0 for i in range(10)}  # Dictionary to keep track of the count of images per class\n",
        "selected_indices = []\n",
        "\n",
        "# Iterate through the dataset to select 100 images per class\n",
        "for idx, (image, label) in enumerate(test_dataset_CIFAR10):\n",
        "    if class_counts[label] < 100:  # If we haven't selected 100 images for this class yet\n",
        "        selected_indices.append(idx)\n",
        "        class_counts[label] += 1\n",
        "\n",
        "    if len(selected_indices) >= 1000:\n",
        "        break\n",
        "\n",
        "# Create a subset of the CIFAR-10 test set using the selected indices\n",
        "subset_test_CIFAR10 = Subset(test_dataset_CIFAR10, selected_indices)\n",
        "\n",
        "# Create a DataLoader for the subset\n",
        "subset_test_loader_CIFAR10 = DataLoader(dataset=subset_test_CIFAR10, batch_size=128, shuffle=False, num_workers=4)\n",
        "\n",
        "test_dataset_CIFAR10 = subset_test_CIFAR10\n",
        "test_loader_CIFAR10  = subset_test_loader_CIFAR10"
      ]
    },
    {
      "cell_type": "code",
      "execution_count": 13,
      "metadata": {
        "colab": {
          "base_uri": "https://localhost:8080/"
        },
        "id": "NMTdGImygtF-",
        "outputId": "fd3cde60-a941-4402-c6a9-8c7276fa08b7"
      },
      "outputs": [
        {
          "output_type": "stream",
          "name": "stdout",
          "text": [
            "Total number of images in subset: 1000\n",
            "Batch 1:\n",
            "  - Images size: torch.Size([128, 3, 224, 224])\n",
            "  - Labels size: torch.Size([128])\n"
          ]
        }
      ],
      "source": [
        "total_images = len(subset_test_loader_CIFAR10.dataset)\n",
        "\n",
        "print(f\"Total number of images in subset: {total_images}\")\n",
        "\n",
        "for batch_idx, (images, labels) in enumerate(subset_test_loader_CIFAR10):\n",
        "    print(f\"Batch {batch_idx + 1}:\")\n",
        "    print(f\"  - Images size: {images.size()}\")\n",
        "    print(f\"  - Labels size: {labels.size()}\")\n",
        "    if batch_idx == 0:\n",
        "        break\n"
      ]
    },
    {
      "cell_type": "code",
      "execution_count": 14,
      "metadata": {
        "id": "9egZw7FvC8pC"
      },
      "outputs": [],
      "source": [
        "# Load CIFAR-10\n",
        "# transform = transforms.Compose([transforms.ToTensor()])\n",
        "# cifar10_data = datasets.CIFAR10(root='./data', train=True, download=True, transform=transform)\n",
        "# cifar10_loader = torch.utils.data.DataLoader(cifar10_data, batch_size=64, shuffle=True)\n",
        "\n",
        "# Display function using matplotlib\n",
        "def show_image(image, title=''):\n",
        "    plt.figure(figsize=(3, 3))\n",
        "    image = image.detach().permute(1, 2, 0).numpy()  # Detach and convert tensor to numpy format (H, W, C)\n",
        "    image = np.clip(image, 0, 1)  # Ensure pixel values are in the range [0, 1]\n",
        "    plt.imshow(image)\n",
        "    plt.title(title)\n",
        "    plt.axis('off')\n",
        "    plt.show()"
      ]
    },
    {
      "cell_type": "markdown",
      "metadata": {
        "id": "jJGpCvr_iYgX"
      },
      "source": [
        "### Training Loop And Testing Loop"
      ]
    },
    {
      "cell_type": "code",
      "execution_count": 15,
      "metadata": {
        "id": "sxJLnkYAqMgf"
      },
      "outputs": [],
      "source": [
        "def train_model(model, train_loader, criterion, optimizer, device, epochs=3):\n",
        "    model = model.to(device)\n",
        "    model.train()\n",
        "\n",
        "    train_losses = []\n",
        "\n",
        "    for epoch in range(epochs):\n",
        "        running_loss = 0.0\n",
        "        correct = 0\n",
        "        total = 0\n",
        "\n",
        "        for images, labels in tqdm(train_loader):\n",
        "            images, labels = images.to(device), labels.to(device)\n",
        "\n",
        "            optimizer.zero_grad()\n",
        "\n",
        "            outputs = model(images)\n",
        "            loss = criterion(outputs, labels)\n",
        "\n",
        "            loss.backward()\n",
        "            optimizer.step()\n",
        "\n",
        "            running_loss += loss.item()\n",
        "            _, predicted = outputs.max(1)\n",
        "            total += labels.size(0)\n",
        "            correct += predicted.eq(labels).sum().item()\n",
        "\n",
        "        epoch_loss = running_loss / len(train_loader)\n",
        "        train_losses.append(epoch_loss)\n",
        "\n",
        "        accuracy = 100 * correct / total\n",
        "\n",
        "        print(f'Epoch [{epoch + 1}/{epochs}], Loss: {epoch_loss:.4f}, Accuracy: {accuracy:.2f}%')\n",
        "\n",
        "    return train_losses, model\n",
        "\n",
        "def evaluate_model(model, test_loader, criterion, device):\n",
        "\n",
        "    model = model.to(device)\n",
        "    model.eval()\n",
        "    correct = 0\n",
        "    total = 0\n",
        "    loss_total = 0.0\n",
        "\n",
        "    with torch.no_grad():\n",
        "        for images, labels in tqdm(test_loader):\n",
        "            images, labels = images.to(device), labels.to(device)\n",
        "\n",
        "            outputs = model(images)\n",
        "            loss = criterion(outputs, labels)\n",
        "            loss_total += loss.item()\n",
        "\n",
        "            _, predicted = torch.max(outputs.data, 1)\n",
        "            total += labels.size(0)\n",
        "            correct += (predicted == labels).sum().item()\n",
        "\n",
        "    accuracy = 100 * correct / total\n",
        "    avg_loss = loss_total / len(test_loader)\n",
        "\n",
        "    print(f\"\\nModel Evaluation - Accuracy: {accuracy:.2f}% | Loss: {avg_loss:.4f}\")\n",
        "\n",
        "    return accuracy, avg_loss"
      ]
    },
    {
      "cell_type": "markdown",
      "metadata": {
        "id": "axFYvMKLpjDD"
      },
      "source": [
        "### FineTuning the Models on Cifar 10"
      ]
    },
    {
      "cell_type": "code",
      "execution_count": 16,
      "metadata": {
        "id": "XdJFbAkDrjo-"
      },
      "outputs": [],
      "source": [
        "train_loader = train_loader_CIFAR10\n",
        "test_loader = test_loader_CIFAR10"
      ]
    },
    {
      "cell_type": "markdown",
      "metadata": {
        "id": "1ySFuf93qP7h"
      },
      "source": [
        "VIT"
      ]
    },
    {
      "cell_type": "code",
      "execution_count": null,
      "metadata": {
        "colab": {
          "background_save": true,
          "base_uri": "https://localhost:8080/",
          "height": 277,
          "referenced_widgets": [
            "1937528544c444c9bfc4e8ffde40d750",
            "5b22ab1e3c4040b5873f4959a6ade195",
            "48daf323824848f681192c6c4f728623",
            "75ceb7cd74e14096a8d80cfc0e87dabd",
            "b6fe2574b6724a28b54e266b91849ca0",
            "57cfa4f90e8e4733b96bcf29e99cad48",
            "3c4b2855615341f6b769bd3c98233788",
            "63848239e7694a6a9ec84df2fa3f6989",
            "20ff68366c464391a36b045a8764ce4e",
            "26d1801483f74c5b85df1607c64e0e60",
            "6917155a0336469aaaef7931a1c498cf"
          ]
        },
        "id": "MP1B6EwCqOPS",
        "outputId": "414e28d7-e445-44b1-f2a0-85c3588135ba"
      },
      "outputs": [
        {
          "name": "stderr",
          "output_type": "stream",
          "text": [
            "/usr/local/lib/python3.10/dist-packages/huggingface_hub/utils/_token.py:89: UserWarning: \n",
            "The secret `HF_TOKEN` does not exist in your Colab secrets.\n",
            "To authenticate with the Hugging Face Hub, create a token in your settings tab (https://huggingface.co/settings/tokens), set it as secret in your Google Colab and restart your session.\n",
            "You will be able to reuse this secret in all of your notebooks.\n",
            "Please note that authentication is recommended but still optional to access public models or datasets.\n",
            "  warnings.warn(\n"
          ]
        },
        {
          "data": {
            "application/vnd.jupyter.widget-view+json": {
              "model_id": "1937528544c444c9bfc4e8ffde40d750",
              "version_major": 2,
              "version_minor": 0
            },
            "text/plain": [
              "model.safetensors:   0%|          | 0.00/346M [00:00<?, ?B/s]"
            ]
          },
          "metadata": {},
          "output_type": "display_data"
        },
        {
          "name": "stderr",
          "output_type": "stream",
          "text": [
            "100%|██████████| 391/391 [09:28<00:00,  1.46s/it]\n"
          ]
        },
        {
          "name": "stdout",
          "output_type": "stream",
          "text": [
            "Epoch [1/3], Loss: 0.5314, Accuracy: 88.70%\n"
          ]
        },
        {
          "name": "stderr",
          "output_type": "stream",
          "text": [
            "100%|██████████| 391/391 [09:23<00:00,  1.44s/it]\n"
          ]
        },
        {
          "name": "stdout",
          "output_type": "stream",
          "text": [
            "Epoch [2/3], Loss: 0.1382, Accuracy: 96.71%\n"
          ]
        },
        {
          "name": "stderr",
          "output_type": "stream",
          "text": [
            "100%|██████████| 391/391 [09:23<00:00,  1.44s/it]"
          ]
        },
        {
          "name": "stdout",
          "output_type": "stream",
          "text": [
            "Epoch [3/3], Loss: 0.1020, Accuracy: 97.26%\n"
          ]
        },
        {
          "name": "stderr",
          "output_type": "stream",
          "text": [
            "\n"
          ]
        }
      ],
      "source": [
        "vit_model = timm.create_model('vit_base_patch16_224', pretrained=True)\n",
        "# Freeze parameters of the backbone\n",
        "for param in vit_model.parameters():\n",
        "    param.requires_grad = False\n",
        "\n",
        "# Replace the classifier head with a new head for CIFAR-10 (10 classes)\n",
        "vit_model.head = nn.Linear(vit_model.head.in_features, 10)\n",
        "\n",
        "criterion = nn.CrossEntropyLoss()\n",
        "optimizer = optim.Adam(vit_model.parameters(), lr=0.0001)\n",
        "\n",
        "#training\n",
        "train_losses, trained_model = train_model(vit_model , train_loader, criterion, optimizer, device, epochs=3)"
      ]
    },
    {
      "cell_type": "markdown",
      "metadata": {
        "id": "0uLSjNInqTgz"
      },
      "source": [
        "VGG -16"
      ]
    },
    {
      "cell_type": "code",
      "execution_count": null,
      "metadata": {
        "colab": {
          "background_save": true,
          "referenced_widgets": [
            "9ad63ea7564144d29aa50af6b9b3af7d"
          ]
        },
        "id": "MzBPmtyiqSC9",
        "outputId": "aaecef86-5213-4a24-c162-93814cb8f55d"
      },
      "outputs": [
        {
          "data": {
            "application/vnd.jupyter.widget-view+json": {
              "model_id": "9ad63ea7564144d29aa50af6b9b3af7d",
              "version_major": 2,
              "version_minor": 0
            },
            "text/plain": [
              "model.safetensors:   0%|          | 0.00/553M [00:00<?, ?B/s]"
            ]
          },
          "metadata": {},
          "output_type": "display_data"
        },
        {
          "name": "stderr",
          "output_type": "stream",
          "text": [
            "100%|██████████| 391/391 [05:27<00:00,  1.20it/s]\n"
          ]
        },
        {
          "name": "stdout",
          "output_type": "stream",
          "text": [
            "Epoch [1/3], Loss: 1.0912, Accuracy: 69.30%\n"
          ]
        },
        {
          "name": "stderr",
          "output_type": "stream",
          "text": [
            "100%|██████████| 391/391 [05:27<00:00,  1.20it/s]\n"
          ]
        },
        {
          "name": "stdout",
          "output_type": "stream",
          "text": [
            "Epoch [2/3], Loss: 0.7064, Accuracy: 76.90%\n"
          ]
        },
        {
          "name": "stderr",
          "output_type": "stream",
          "text": [
            "100%|██████████| 391/391 [05:27<00:00,  1.19it/s]"
          ]
        },
        {
          "name": "stdout",
          "output_type": "stream",
          "text": [
            "Epoch [3/3], Loss: 0.6334, Accuracy: 78.58%\n"
          ]
        },
        {
          "name": "stderr",
          "output_type": "stream",
          "text": [
            "\n"
          ]
        }
      ],
      "source": [
        "vgg_model = timm.create_model('vgg16', pretrained=True)\n",
        "\n",
        "# Freeze the feature extractor backbone\n",
        "for param in vgg_model.parameters():\n",
        "    param.requires_grad = False\n",
        "\n",
        "# Replace the classifier head with a new head for CIFAR-10 (10 classes)\n",
        "vgg_model.head.fc = nn.Linear(vgg_model.head.fc.in_features, 10)\n",
        "\n",
        "criterion = nn.CrossEntropyLoss()\n",
        "optimizer = optim.Adam(vgg_model.parameters(), lr=0.0001)\n",
        "\n",
        "#training\n",
        "train_losses, trained_model = train_model(vgg_model , train_loader, criterion, optimizer, device, epochs=3)"
      ]
    },
    {
      "cell_type": "markdown",
      "metadata": {
        "id": "xf9buSitqU-u"
      },
      "source": [
        "ResNet"
      ]
    },
    {
      "cell_type": "code",
      "execution_count": null,
      "metadata": {
        "colab": {
          "background_save": true,
          "base_uri": "https://localhost:8080/",
          "height": 139,
          "referenced_widgets": [
            "aac8446bac3541adbb6c409ca13bb842"
          ]
        },
        "id": "ss6Vg1QQqSw3",
        "outputId": "3aba7263-469a-4edd-b9f1-ab26ca0be7fc"
      },
      "outputs": [
        {
          "data": {
            "application/vnd.jupyter.widget-view+json": {
              "model_id": "aac8446bac3541adbb6c409ca13bb842",
              "version_major": 2,
              "version_minor": 0
            },
            "text/plain": [
              "model.safetensors:   0%|          | 0.00/179M [00:00<?, ?B/s]"
            ]
          },
          "metadata": {},
          "output_type": "display_data"
        },
        {
          "name": "stderr",
          "output_type": "stream",
          "text": [
            "100%|██████████| 391/391 [04:38<00:00,  1.40it/s]\n"
          ]
        },
        {
          "name": "stdout",
          "output_type": "stream",
          "text": [
            "Epoch [1/3], Loss: 1.3456, Accuracy: 68.80%\n"
          ]
        },
        {
          "name": "stderr",
          "output_type": "stream",
          "text": [
            "100%|██████████| 391/391 [04:39<00:00,  1.40it/s]\n"
          ]
        },
        {
          "name": "stdout",
          "output_type": "stream",
          "text": [
            "Epoch [2/3], Loss: 0.8481, Accuracy: 74.62%\n"
          ]
        },
        {
          "name": "stderr",
          "output_type": "stream",
          "text": [
            "100%|██████████| 391/391 [04:38<00:00,  1.40it/s]"
          ]
        },
        {
          "name": "stdout",
          "output_type": "stream",
          "text": [
            "Epoch [3/3], Loss: 0.7428, Accuracy: 76.59%\n"
          ]
        },
        {
          "name": "stderr",
          "output_type": "stream",
          "text": [
            "\n"
          ]
        }
      ],
      "source": [
        "resnet_model = timm.create_model('resnet101', pretrained=True)\n",
        "\n",
        "# Freeze the feature extractor backbone\n",
        "for param in resnet_model.parameters():\n",
        "    param.requires_grad = False\n",
        "\n",
        "# Replace the classifier head with a new head for CIFAR-10 (10 classes)\n",
        "resnet_model.fc = nn.Linear(resnet_model.fc.in_features, 10)\n",
        "\n",
        "# Define loss function and optimizer\n",
        "criterion = nn.CrossEntropyLoss()\n",
        "optimizer = optim.Adam(resnet_model.parameters(), lr=0.001)\n",
        "\n",
        "#training\n",
        "train_losses, trained_model = train_model(resnet_model , train_loader, criterion, optimizer, device, epochs=3)"
      ]
    },
    {
      "cell_type": "markdown",
      "metadata": {
        "id": "8mwAmVC2x4x4"
      },
      "source": [
        "CLIP"
      ]
    },
    {
      "cell_type": "code",
      "execution_count": 17,
      "metadata": {
        "colab": {
          "base_uri": "https://localhost:8080/"
        },
        "id": "nVRu3uu2x5cV",
        "outputId": "c354a1d2-f3cd-4950-9f4e-4a3da165f955"
      },
      "outputs": [
        {
          "output_type": "stream",
          "name": "stderr",
          "text": [
            "Evaluating: 100%|██████████| 8/8 [00:49<00:00,  6.20s/it]"
          ]
        },
        {
          "output_type": "stream",
          "name": "stdout",
          "text": [
            "\n",
            "Accuracy: 95.30%\n"
          ]
        },
        {
          "output_type": "stream",
          "name": "stderr",
          "text": [
            "\n"
          ]
        }
      ],
      "source": [
        "clip_model = CLIPModel.from_pretrained(\"openai/clip-vit-large-patch14\").to(device)\n",
        "cifar_processor = CLIPProcessor.from_pretrained(\"openai/clip-vit-large-patch14\")\n",
        "\n",
        "clip_model.eval()\n",
        "\n",
        "# Define class names for CIFAR-10\n",
        "class_names = ['airplane', 'automobile', 'bird', 'cat', 'deer', 'dog', 'frog', 'horse', 'ship', 'truck']\n",
        "labels = [f\"a photo of a {class_name}\" for class_name in class_names]\n",
        "\n",
        "# Zero-shot evaluation on the test dataset with accuracy computation\n",
        "correct = 0\n",
        "total = 0\n",
        "\n",
        "with torch.no_grad():\n",
        "    for images, targets in tqdm(test_loader, desc=\"Evaluating\", leave=True):\n",
        "        images = [img.to(device) for img in images]\n",
        "        targets = targets.to(device)\n",
        "\n",
        "        # Process inputs for the CLIP model\n",
        "        inputs = cifar_processor(text=labels, images=images, return_tensors=\"pt\", padding=True, do_rescale=False).to(device)\n",
        "\n",
        "        # Forward pass\n",
        "        outputs = clip_model(**inputs)\n",
        "\n",
        "        # Get image-text similarity scores\n",
        "        logits_per_image = outputs.logits_per_image\n",
        "\n",
        "        # Compute probabilities using softmax\n",
        "        probs = logits_per_image.softmax(dim=1)\n",
        "\n",
        "        # Get predicted labels (as indices)\n",
        "        preds = torch.argmax(probs, dim=1)\n",
        "\n",
        "        # Calculate accuracy\n",
        "        correct += (preds == targets).sum().item()\n",
        "        total += targets.size(0)\n",
        "\n",
        "accuracy = correct / total * 100\n",
        "print(f\"\\nAccuracy: {accuracy:.2f}%\")\n"
      ]
    },
    {
      "cell_type": "code",
      "source": [
        "CLIP_Accuracy = accuracy"
      ],
      "metadata": {
        "id": "jIhn2qNyrMCd"
      },
      "execution_count": 18,
      "outputs": []
    },
    {
      "cell_type": "markdown",
      "metadata": {
        "id": "5Kg-2Yl6EUdg"
      },
      "source": [
        "# 1 - Localized Noise Injection In Dataset"
      ]
    },
    {
      "cell_type": "code",
      "execution_count": 19,
      "metadata": {
        "id": "eqTLwSmJDdon"
      },
      "outputs": [],
      "source": [
        "def add_localized_noise(image, patch_size=10, mean=0, stddev=0.1):\n",
        "    noisy_image = image.clone().numpy()\n",
        "    # print(image.shape)  # Debugging line to see the shape\n",
        "    h, w = image.shape[1], image.shape[2]\n",
        "\n",
        "    # Add noise at the center\n",
        "    x_start = (h - patch_size) // 2\n",
        "    x_end = x_start + patch_size\n",
        "\n",
        "    y_start = (w - patch_size) // 2\n",
        "    y_end = y_start + patch_size\n",
        "\n",
        "    noise = np.random.normal(mean, stddev, (3, patch_size, patch_size))\n",
        "    noisy_image[:, x_start:x_end, y_start:y_end] = noisy_image[:, x_start:x_end, y_start:y_end] + noise\n",
        "    return torch.tensor(noisy_image)\n",
        "\n",
        "class NoisyCIFAR10(Dataset):\n",
        "    def __init__(self, original_dataset, patch_size=10, mean=0, stddev=0.1):\n",
        "        self.dataset = original_dataset\n",
        "        self.patch_size = patch_size\n",
        "        self.mean = mean\n",
        "        self.stddev = stddev\n",
        "\n",
        "    def __len__(self):\n",
        "        return len(self.dataset)\n",
        "\n",
        "    def __getitem__(self, idx):\n",
        "        image, label = self.dataset[idx]\n",
        "        noisy_image = add_localized_noise(image, patch_size=self.patch_size, mean=self.mean, stddev=self.stddev)\n",
        "        return noisy_image, label\n",
        "\n",
        "PATCH_SIZE = 100\n",
        "# Create the noisy CIFAR-10 dataset\n",
        "# noisy_cifar10_data_train = NoisyCIFAR10(train_dataset_CIFAR10, patch_size=PATCH_SIZE, mean=0, stddev=0.5)\n",
        "noisy_cifar10_data_test = NoisyCIFAR10(test_dataset_CIFAR10, patch_size=PATCH_SIZE, mean=0, stddev=0.5)\n",
        "\n",
        "# Create a DataLoader for the noisy dataset\n",
        "# noisy_cifar10_loader_train = DataLoader(noisy_cifar10_data_train, batch_size=128, shuffle=True)\n",
        "noisy_cifar10_loader_test = DataLoader(noisy_cifar10_data_test, batch_size=128, shuffle=True)\n"
      ]
    },
    {
      "cell_type": "code",
      "execution_count": 20,
      "metadata": {
        "colab": {
          "base_uri": "https://localhost:8080/",
          "height": 345
        },
        "id": "0W7R9u_wHQRz",
        "outputId": "00d5ee3c-a3f7-47ca-c881-095072b2b0a7"
      },
      "outputs": [
        {
          "output_type": "stream",
          "name": "stderr",
          "text": [
            "/usr/local/lib/python3.10/dist-packages/torch/utils/data/dataloader.py:557: UserWarning: This DataLoader will create 4 worker processes in total. Our suggested max number of worker in current system is 2, which is smaller than what this DataLoader is going to create. Please be aware that excessive worker creation might get DataLoader running slow or even freeze, lower the worker number to avoid potential slowness/freeze if necessary.\n",
            "  warnings.warn(_create_warning_msg(\n"
          ]
        },
        {
          "output_type": "display_data",
          "data": {
            "text/plain": [
              "<Figure size 300x300 with 1 Axes>"
            ],
            "image/png": "[encoded data removed]"
          },
          "metadata": {}
        }
      ],
      "source": [
        "for original_batch, labels in test_loader_CIFAR10:\n",
        "\n",
        "    noisy_images = torch.stack([add_localized_noise(img,patch_size=100,stddev=0.5) for img in original_batch])\n",
        "\n",
        "    for i in range(len(noisy_images)):\n",
        "        show_image(noisy_images[i], title=f'Noisy Image {i}')\n",
        "\n",
        "        original_image = original_batch[i]\n",
        "        # show_image(original_image, title=f'Original Image {i}')\n",
        "        break\n",
        "    break\n",
        "\n",
        "# To display noisy images created via class\n",
        "# for noisy_images, labels in noisy_cifar10_loader:\n",
        "#     for i in range(len(noisy_images)):\n",
        "#         show_image(noisy_images[i], title=f'Noisy Image {i}')\n",
        "#         break\n",
        "#     break"
      ]
    },
    {
      "cell_type": "markdown",
      "metadata": {
        "id": "SpYC7mh5H5Xf"
      },
      "source": []
    },
    {
      "cell_type": "markdown",
      "metadata": {
        "id": "-0eP47FPHYsg"
      },
      "source": [
        "### Testing on the Injected Noise Dataset"
      ]
    },
    {
      "cell_type": "code",
      "execution_count": 21,
      "metadata": {
        "colab": {
          "base_uri": "https://localhost:8080/"
        },
        "id": "UvGK8oavQ9YC",
        "outputId": "9cd209d6-569f-421f-c28e-3d20d8967824"
      },
      "outputs": [
        {
          "output_type": "stream",
          "name": "stdout",
          "text": [
            "Total number of images in subset: 1000\n"
          ]
        }
      ],
      "source": [
        "# train_loader = noisy_cifar10_loader_train\n",
        "test_loader = noisy_cifar10_loader_test\n",
        "test_dataset = noisy_cifar10_data_test #to be used in CLIP\n",
        "\n",
        "print(f\"Total number of images in subset: {len(test_loader.dataset)}\")"
      ]
    },
    {
      "cell_type": "markdown",
      "metadata": {
        "id": "pFLnDfJaQ_CA"
      },
      "source": [
        "Vit"
      ]
    },
    {
      "cell_type": "code",
      "execution_count": null,
      "metadata": {
        "colab": {
          "background_save": true
        },
        "id": "ZFBgyZMsHYOf",
        "outputId": "906ed8ed-6578-4dc3-c8e8-072fb784a2db"
      },
      "outputs": [
        {
          "name": "stdout",
          "output_type": "stream",
          "text": [
            "=====ON NORMAL TEST SET=====\n"
          ]
        },
        {
          "name": "stderr",
          "output_type": "stream",
          "text": [
            "100%|██████████| 8/8 [00:12<00:00,  1.53s/it]\n"
          ]
        },
        {
          "name": "stdout",
          "output_type": "stream",
          "text": [
            "\n",
            "Model Evaluation - Accuracy: 97.40% | Loss: 0.0835\n",
            "\n",
            "ViT - Accuracy: 97.40% Loss: 0.0835\n",
            "=====\n",
            "ON Modified TEST SET=====\n"
          ]
        },
        {
          "name": "stderr",
          "output_type": "stream",
          "text": [
            "100%|██████████| 8/8 [00:13<00:00,  1.72s/it]"
          ]
        },
        {
          "name": "stdout",
          "output_type": "stream",
          "text": [
            "\n",
            "Model Evaluation - Accuracy: 93.40% | Loss: 0.2134\n",
            "\n",
            "ViT - Accuracy: 93.40% Loss: 0.2134\n"
          ]
        },
        {
          "name": "stderr",
          "output_type": "stream",
          "text": [
            "\n"
          ]
        }
      ],
      "source": [
        "#testing\n",
        "criterion = nn.CrossEntropyLoss()\n",
        "\n",
        "print(\"=====ON NORMAL TEST SET=====\")\n",
        "vit_accuracy, vit_avg_loss = evaluate_model(vit_model, test_loader_CIFAR10, criterion, device)\n",
        "print(f\"\\nViT - Accuracy: {vit_accuracy:.2f}% Loss: {vit_avg_loss:.4f}\")\n",
        "\n",
        "print(\"=====\\nON Modified TEST SET=====\")\n",
        "vit_accuracy, vit_avg_loss = evaluate_model(vit_model, test_loader, criterion, device)\n",
        "print(f\"\\nViT - Accuracy: {vit_accuracy:.2f}% Loss: {vit_avg_loss:.4f}\")"
      ]
    },
    {
      "cell_type": "markdown",
      "metadata": {
        "id": "KuqoOXvOfihX"
      },
      "source": [
        "VGG 16"
      ]
    },
    {
      "cell_type": "code",
      "execution_count": null,
      "metadata": {
        "colab": {
          "background_save": true
        },
        "id": "WEZJnfjTfdyS",
        "outputId": "64886a06-4a18-4017-8148-0754915a9060"
      },
      "outputs": [
        {
          "name": "stdout",
          "output_type": "stream",
          "text": [
            "=====ON NORMAL TEST SET=====\n"
          ]
        },
        {
          "name": "stderr",
          "output_type": "stream",
          "text": [
            "100%|██████████| 8/8 [00:07<00:00,  1.02it/s]\n"
          ]
        },
        {
          "name": "stdout",
          "output_type": "stream",
          "text": [
            "\n",
            "Model Evaluation - Accuracy: 77.90% | Loss: 0.6605\n",
            "\n",
            "VGG - Accuracy: 77.90% Loss: 0.6605\n",
            "=====\n",
            "ON Modified TEST SET=====\n"
          ]
        },
        {
          "name": "stderr",
          "output_type": "stream",
          "text": [
            "100%|██████████| 8/8 [00:09<00:00,  1.13s/it]"
          ]
        },
        {
          "name": "stdout",
          "output_type": "stream",
          "text": [
            "\n",
            "Model Evaluation - Accuracy: 26.40% | Loss: 2.2863\n",
            "\n",
            "VGG - Accuracy: 26.40% Loss: 2.2863\n"
          ]
        },
        {
          "name": "stderr",
          "output_type": "stream",
          "text": [
            "\n"
          ]
        }
      ],
      "source": [
        "#testing\n",
        "criterion = nn.CrossEntropyLoss()\n",
        "print(\"=====ON NORMAL TEST SET=====\")\n",
        "vgg_accuracy, vgg_avg_loss = evaluate_model(vgg_model, test_loader_CIFAR10, criterion, device)\n",
        "print(f\"\\nVGG - Accuracy: {vgg_accuracy:.2f}% Loss: {vgg_avg_loss:.4f}\")\n",
        "\n",
        "print(\"=====\\nON Modified TEST SET=====\")\n",
        "vgg_accuracy, vgg_avg_loss = evaluate_model(vgg_model, test_loader, criterion, device)\n",
        "print(f\"\\nVGG - Accuracy: {vgg_accuracy:.2f}% Loss: {vgg_avg_loss:.4f}\")"
      ]
    },
    {
      "cell_type": "markdown",
      "metadata": {
        "id": "Kv9rz5aLfuTs"
      },
      "source": [
        "Resnet"
      ]
    },
    {
      "cell_type": "code",
      "execution_count": null,
      "metadata": {
        "colab": {
          "background_save": true
        },
        "id": "812XhPZNfm2B",
        "outputId": "82e87ebe-31f1-418a-e574-eb6046369d89"
      },
      "outputs": [
        {
          "name": "stdout",
          "output_type": "stream",
          "text": [
            "=====ON NORMAL TEST SET=====\n"
          ]
        },
        {
          "name": "stderr",
          "output_type": "stream",
          "text": [
            "100%|██████████| 8/8 [00:06<00:00,  1.22it/s]\n"
          ]
        },
        {
          "name": "stdout",
          "output_type": "stream",
          "text": [
            "\n",
            "Model Evaluation - Accuracy: 75.40% | Loss: 0.7191\n",
            "\n",
            "ResNet - Accuracy: 75.40% Loss: 0.7191\n",
            "=====\n",
            "ON Modified TEST SET=====\n"
          ]
        },
        {
          "name": "stderr",
          "output_type": "stream",
          "text": [
            "100%|██████████| 8/8 [00:07<00:00,  1.06it/s]"
          ]
        },
        {
          "name": "stdout",
          "output_type": "stream",
          "text": [
            "\n",
            "Model Evaluation - Accuracy: 10.00% | Loss: 810.4775\n",
            "\n",
            "ResNet - Accuracy: 10.00% Loss: 810.4775\n"
          ]
        },
        {
          "name": "stderr",
          "output_type": "stream",
          "text": [
            "\n"
          ]
        }
      ],
      "source": [
        "criterion = nn.CrossEntropyLoss()\n",
        "print(\"=====ON NORMAL TEST SET=====\")\n",
        "resnet_accuracy, resnet_avg_loss = evaluate_model(resnet_model, test_loader_CIFAR10, criterion, device)\n",
        "print(f\"\\nResNet - Accuracy: {resnet_accuracy:.2f}% Loss: {resnet_avg_loss:.4f}\")\n",
        "\n",
        "print(\"=====\\nON Modified TEST SET=====\")\n",
        "resnet_accuracy, resnet_avg_loss = evaluate_model(resnet_model, test_loader, criterion, device)\n",
        "print(f\"\\nResNet - Accuracy: {resnet_accuracy:.2f}% Loss: {resnet_avg_loss:.4f}\")"
      ]
    },
    {
      "cell_type": "markdown",
      "metadata": {
        "id": "DlRTQHPthR71"
      },
      "source": [
        "Clip-Vit-Base"
      ]
    },
    {
      "cell_type": "code",
      "execution_count": 23,
      "metadata": {
        "colab": {
          "base_uri": "https://localhost:8080/"
        },
        "id": "jmQEXyILhQ0Z",
        "outputId": "9e392301-14f3-481e-d72a-21cd3ee59990"
      },
      "outputs": [
        {
          "output_type": "stream",
          "name": "stderr",
          "text": [
            "Evaluating: 100%|██████████| 8/8 [00:50<00:00,  6.27s/it]"
          ]
        },
        {
          "output_type": "stream",
          "name": "stdout",
          "text": [
            "=====ON NORMAL TEST SET=====\n",
            "\n",
            "Zero-shot classification accuracy on NOISY CIFAR-10: 95.3000%\n",
            "=====\n",
            "ON Modified TEST SET=====\n",
            "\n",
            "Zero-shot classification accuracy on NOISY CIFAR-10: 79.9000%\n"
          ]
        },
        {
          "output_type": "stream",
          "name": "stderr",
          "text": [
            "\n"
          ]
        }
      ],
      "source": [
        "clip_model = CLIPModel.from_pretrained(\"openai/clip-vit-large-patch14\").to(device)\n",
        "cifar_processor = CLIPProcessor.from_pretrained(\"openai/clip-vit-large-patch14\")\n",
        "\n",
        "clip_model.eval()\n",
        "\n",
        "# Define class names for CIFAR-10\n",
        "class_names = ['airplane', 'automobile', 'bird', 'cat', 'deer', 'dog', 'frog', 'horse', 'ship', 'truck']\n",
        "labels = [f\"a photo of a {class_name}\" for class_name in class_names]\n",
        "\n",
        "# Zero-shot evaluation on the test dataset with accuracy computation\n",
        "correct = 0\n",
        "total = 0\n",
        "\n",
        "with torch.no_grad():\n",
        "    for images, targets in tqdm(test_loader, desc=\"Evaluating\", leave=True):\n",
        "        images = [img.to(device) for img in images]\n",
        "        targets = targets.to(device)\n",
        "\n",
        "        # Normalize and clamp images to ensure they are in the range [0, 1]\n",
        "        images = [img.clamp(0, 1) for img in images]\n",
        "\n",
        "        # Process inputs for the CLIP model\n",
        "        inputs = cifar_processor(text=labels, images=images, return_tensors=\"pt\", padding=True, do_rescale=False).to(device)\n",
        "\n",
        "        # Forward pass\n",
        "        outputs = clip_model(**inputs)\n",
        "\n",
        "        # Get image-text similarity scores\n",
        "        logits_per_image = outputs.logits_per_image\n",
        "\n",
        "        # Compute probabilities using softmax\n",
        "        probs = logits_per_image.softmax(dim=1)\n",
        "\n",
        "        # Get predicted labels (as indices)\n",
        "        preds = torch.argmax(probs, dim=1)\n",
        "\n",
        "        # Calculate accuracy\n",
        "        correct += (preds == targets).sum().item()\n",
        "        total += targets.size(0)\n",
        "\n",
        "print(\"=====ON NORMAL TEST SET=====\")\n",
        "print(f\"\\nZero-shot classification accuracy on NOISY CIFAR-10: {CLIP_Accuracy:.4f}%\")\n",
        "\n",
        "\n",
        "print(\"=====\\nON Modified TEST SET=====\")\n",
        "# Final accuracy\n",
        "accuracy = correct / total * 100\n",
        "print(f\"\\nZero-shot classification accuracy on NOISY CIFAR-10: {accuracy:.4f}%\")"
      ]
    },
    {
      "cell_type": "markdown",
      "metadata": {
        "id": "dr0cdzGJHjCx"
      },
      "source": [
        "# 2 - Global Style Changes in Dataset:"
      ]
    },
    {
      "cell_type": "code",
      "execution_count": null,
      "metadata": {
        "colab": {
          "background_save": true
        },
        "id": "7eQmnPJ_HiIG"
      },
      "outputs": [],
      "source": [
        "# # Load a pre-trained VGG model for style transfer\n",
        "# vgg = models.vgg19(pretrained=True).features.eval()\n",
        "\n",
        "# # Function to extract features from the VGG model\n",
        "# def get_features(image, model, layers=None):\n",
        "#     if layers is None:\n",
        "#         layers = {'0': 'conv1_1', '5': 'conv2_1', '10': 'conv3_1', '19': 'conv4_1', '21': 'conv4_2', '28': 'conv5_1'}\n",
        "\n",
        "#     features = {}\n",
        "#     x = image\n",
        "#     for name, layer in model._modules.items():\n",
        "#         x = layer(x)\n",
        "#         if name in layers:\n",
        "#             features[layers[name]] = x\n",
        "#     return features\n",
        "\n",
        "# # Function to compute the Gram matrix (used for style loss)\n",
        "# def gram_matrix(tensor):\n",
        "#     if len(tensor.size()) == 3:  # If the tensor is missing a batch dimension\n",
        "#         tensor = tensor.unsqueeze(0)  # Add a batch dimension\n",
        "#     _, d, h, w = tensor.size()  # Unpack the dimensions\n",
        "#     tensor = tensor.view(d, h * w)  # Reshape the tensor to (channels, height * width)\n",
        "#     gram = torch.mm(tensor, tensor.t())  # Compute the Gram matrix\n",
        "#     return gram\n",
        "\n",
        "\n",
        "# # Load a style image and transform it\n",
        "# style_image = Image.open(\"style.jpeg\")\n",
        "# transform = transforms.Compose([transforms.ToTensor(), transforms.Resize((32, 32))])\n",
        "# style_image = transform(style_image)\n",
        "\n",
        "# style_features = get_features(style_image, vgg)\n",
        "\n",
        "# # Function to apply style transfer\n",
        "# def apply_style_transfer(content_image, style_image, num_steps=50, style_weight=1000000, content_weight=1):\n",
        "#     # Ensure the images are 4D by adding a batch dimension if necessary\n",
        "#     if content_image.dim() == 3:\n",
        "#         content_image = content_image.unsqueeze(0)\n",
        "#     if style_image.dim() == 3:\n",
        "#         style_image = style_image.unsqueeze(0)\n",
        "\n",
        "#     # Pass the images through the VGG model to extract features\n",
        "#     content_features = get_features(content_image, vgg)\n",
        "#     style_features = get_features(style_image, vgg)\n",
        "\n",
        "#     # Compute the Gram matrices for the style image\n",
        "#     style_grams = {layer: gram_matrix(style_features[layer]) for layer in style_features}\n",
        "\n",
        "#     # Initialize the target image (content image to be optimized)\n",
        "#     target = content_image.clone().requires_grad_(True)\n",
        "#     optimizer = optim.Adam([target], lr=0.01)\n",
        "#     loss_fn = torch.nn.MSELoss()\n",
        "\n",
        "#     for step in range(num_steps):\n",
        "#         # Extract the target features\n",
        "#         target_features = get_features(target, vgg)\n",
        "\n",
        "#         # Compute the content loss\n",
        "#         content_loss = content_weight * loss_fn(target_features['conv4_2'], content_features['conv4_2'])\n",
        "\n",
        "#         # Compute the style loss\n",
        "#         style_loss = 0\n",
        "#         for layer in style_grams:\n",
        "#             target_gram = gram_matrix(target_features[layer])\n",
        "#             d, d_ = target_gram.size()  # Since it's a 2D matrix (channels, channels)\n",
        "#             style_loss += style_weight * loss_fn(target_gram, style_grams[layer]) / (d * d_)\n",
        "\n",
        "#         # Total loss\n",
        "#         total_loss = content_loss + style_loss\n",
        "\n",
        "#         # Backpropagation\n",
        "#         optimizer.zero_grad()\n",
        "#         total_loss.backward(retain_graph=True)\n",
        "#         optimizer.step()\n",
        "\n",
        "#         # Optionally, print the loss for each step\n",
        "#         print(f\"Step {step}, Total loss: {total_loss.item()}\")\n",
        "\n",
        "#     return target.squeeze(0)  # Remove the batch dimension after optimization\n",
        "\n",
        "\n",
        "\n",
        "# # Example: applying style transfer on CIFAR-10 images\n",
        "# def style_transfer_image(image, style_image):\n",
        "#     return apply_style_transfer(image, style_image)\n",
        "\n",
        "# # Function to apply a color shift\n",
        "# def apply_color_shift(image, shift_value=0.2):\n",
        "#     transform = transforms.ColorJitter(hue=shift_value)  # Adjust hue by the shift_value\n",
        "#     return transform(image)\n",
        "\n"
      ]
    },
    {
      "cell_type": "code",
      "execution_count": 26,
      "metadata": {
        "id": "gnD36bJNfRGg"
      },
      "outputs": [],
      "source": [
        "# Load a pre-trained VGG model for style transfer\n",
        "vgg = models.vgg19(pretrained=True).features\n",
        "\n",
        "def apply_style_transfer(content_image, style_image, num_steps=15, style_weight=100, content_weight=1):\n",
        "    content_image = content_image.unsqueeze(0)\n",
        "    style_image = style_image.unsqueeze(0)\n",
        "\n",
        "    optimizer = optim.Adam([content_image.requires_grad_()], lr=0.01)\n",
        "    loss_fn = torch.nn.MSELoss()\n",
        "\n",
        "    for step in range(num_steps):\n",
        "        # Compute style loss and content loss\n",
        "        content_loss = loss_fn(content_image, style_image)\n",
        "        style_loss = loss_fn(content_image, style_image)\n",
        "        loss = content_weight * content_loss + style_weight * style_loss\n",
        "\n",
        "        optimizer.zero_grad()\n",
        "        loss.backward()\n",
        "        optimizer.step()\n",
        "\n",
        "    return content_image.squeeze(0)\n",
        "\n",
        "def style_transfer_image(image, style_image):\n",
        "    return apply_style_transfer(image, style_image)\n",
        "\n",
        "def apply_color_shift(image, shift_value=0.2):\n",
        "    transform = transforms.ColorJitter(hue=shift_value)  # Adjust hue by the shift_value\n",
        "    return transform(image)\n",
        "\n",
        "style_image = Image.open(\"style.jpeg\")\n",
        "transform = transforms.Compose([transforms.ToTensor(), transforms.Resize((224, 224))])\n",
        "style_image = transform(style_image)"
      ]
    },
    {
      "cell_type": "code",
      "execution_count": 27,
      "metadata": {
        "id": "3iuzdT-AKvRX"
      },
      "outputs": [],
      "source": [
        "class StyledCIFAR10(Dataset):\n",
        "    def __init__(self, original_dataset, style_image=None, color_shift=False, shift_value=0.2):\n",
        "        self.dataset = original_dataset\n",
        "        self.style_image = style_image\n",
        "        self.color_shift = color_shift\n",
        "        self.shift_value = shift_value\n",
        "\n",
        "        #applying style transfer or color shift during initialization\n",
        "        self.processed_images = []\n",
        "        self.labels = []\n",
        "\n",
        "        for idx in tqdm(range(len(self.dataset)), desc=\"Processing Images\"):\n",
        "            image, label = self.dataset[idx]\n",
        "\n",
        "            # Apply style transfer or color shift during initialization\n",
        "            if self.style_image is not None:\n",
        "                image = style_transfer_image(image, self.style_image)\n",
        "            elif self.color_shift:\n",
        "                image = apply_color_shift(image, self.shift_value)\n",
        "\n",
        "            self.processed_images.append(image)\n",
        "            self.labels.append(label)\n",
        "\n",
        "    def __len__(self):\n",
        "        return len(self.dataset)\n",
        "\n",
        "    def __getitem__(self, idx):\n",
        "        return self.processed_images[idx], self.labels[idx]"
      ]
    },
    {
      "cell_type": "code",
      "execution_count": 28,
      "metadata": {
        "colab": {
          "base_uri": "https://localhost:8080/",
          "height": 580
        },
        "id": "v7S2vpWeK1bV",
        "outputId": "481b2da3-d035-4b2e-f2c8-57439374d0b4"
      },
      "outputs": [
        {
          "output_type": "stream",
          "name": "stderr",
          "text": [
            "Processing Images: 100%|██████████| 1000/1000 [00:29<00:00, 34.14it/s]\n"
          ]
        },
        {
          "output_type": "display_data",
          "data": {
            "text/plain": [
              "<Figure size 300x300 with 1 Axes>"
            ],
            "image/png": "[encoded data removed]"
          },
          "metadata": {}
        },
        {
          "output_type": "display_data",
          "data": {
            "text/plain": [
              "<Figure size 300x300 with 1 Axes>"
            ],
            "image/png": "[encoded data removed]"
          },
          "metadata": {}
        }
      ],
      "source": [
        "# Create a styled CIFAR-10 dataset (using style transfer or color shift)\n",
        "# styled_cifar10_data_train = StyledCIFAR10(train_dataset_CIFAR10, style_image=style_image)\n",
        "styled_cifar10_data_test  = StyledCIFAR10(test_dataset_CIFAR10, style_image=style_image)\n",
        "\n",
        "# color_shifted_cifar10_data_train = StyledCIFAR10(train_dataset_CIFAR10, color_shift=True, shift_value=0.2)\n",
        "# color_shifted_cifar10_data_test  = StyledCIFAR10(test_dataset_CIFAR10, color_shift=True, shift_value=0.2)\n",
        "\n",
        "# Create DataLoader for the new dataset\n",
        "# styled_cifar10_loader_train = DataLoader(styled_cifar10_data_train, batch_size=128, shuffle=True)\n",
        "styled_cifar10_loader_test  = DataLoader(styled_cifar10_data_test, batch_size=128, shuffle=True)\n",
        "\n",
        "# color_shifted_cifar10_loader_train = DataLoader(color_shifted_cifar10_data_train, batch_size=64, shuffle=True)\n",
        "# color_shifted_cifar10_loader_test  = DataLoader(color_shifted_cifar10_data_test, batch_size=64, shuffle=True)\n",
        "\n",
        "for images, labels in train_loader_CIFAR10:\n",
        "  for i in range(len(images)):\n",
        "    show_image(images[i], title=f'Original Image {i}')\n",
        "    styled_image = apply_style_transfer(images[i], style_image)\n",
        "\n",
        "    show_image(styled_image, title=f'Styled Image {i}')\n",
        "    break\n",
        "  break\n",
        "\n",
        "# for images, labels in color_shifted_cifar10_loader_train:\n",
        "#   for i in range(len(images)):\n",
        "#     show_image(images[i], title=f'Color Shifted Image {i}')\n",
        "#     break\n",
        "#   break"
      ]
    },
    {
      "cell_type": "markdown",
      "metadata": {
        "id": "tW8orpVvHuqw"
      },
      "source": [
        "### Testing on the Global Style Changes Dataset"
      ]
    },
    {
      "cell_type": "code",
      "execution_count": 29,
      "metadata": {
        "colab": {
          "base_uri": "https://localhost:8080/"
        },
        "id": "fupdprZwvso4",
        "outputId": "ef3bac1c-8328-46cf-ff77-a439e2198bbe"
      },
      "outputs": [
        {
          "output_type": "stream",
          "name": "stdout",
          "text": [
            "Total number of images in subset: 1000\n"
          ]
        }
      ],
      "source": [
        "# train_loader = noisy_cifar10_loader_train\n",
        "test_loader  = styled_cifar10_loader_test\n",
        "test_dataset = styled_cifar10_data_test #to be used in CLIP\n",
        "\n",
        "print(f\"Total number of images in subset: {len(test_loader.dataset)}\")"
      ]
    },
    {
      "cell_type": "markdown",
      "metadata": {
        "id": "wwDcuIsQv8w0"
      },
      "source": [
        "ViT"
      ]
    },
    {
      "cell_type": "code",
      "execution_count": null,
      "metadata": {
        "colab": {
          "background_save": true
        },
        "id": "q9a7E7wSIKHS",
        "outputId": "91f02d30-d939-45fa-8297-254170376934"
      },
      "outputs": [
        {
          "name": "stdout",
          "output_type": "stream",
          "text": [
            "=====ON NORMAL TEST SET=====\n"
          ]
        },
        {
          "name": "stderr",
          "output_type": "stream",
          "text": [
            "100%|██████████| 8/8 [00:12<00:00,  1.57s/it]\n"
          ]
        },
        {
          "name": "stdout",
          "output_type": "stream",
          "text": [
            "\n",
            "Model Evaluation - Accuracy: 97.40% | Loss: 0.0835\n",
            "\n",
            "ViT - Accuracy: 97.40% Loss: 0.0835\n",
            "=====\n",
            "ON Modified TEST SET=====\n"
          ]
        },
        {
          "name": "stderr",
          "output_type": "stream",
          "text": [
            "100%|██████████| 8/8 [00:11<00:00,  1.48s/it]"
          ]
        },
        {
          "name": "stdout",
          "output_type": "stream",
          "text": [
            "\n",
            "Model Evaluation - Accuracy: 96.20% | Loss: 0.1513\n",
            "\n",
            "ViT - Accuracy: 96.20% Loss: 0.1513\n"
          ]
        },
        {
          "name": "stderr",
          "output_type": "stream",
          "text": [
            "\n"
          ]
        }
      ],
      "source": [
        "#testing\n",
        "criterion = nn.CrossEntropyLoss()\n",
        "\n",
        "print(\"=====ON NORMAL TEST SET=====\")\n",
        "vit_accuracy, vit_avg_loss = evaluate_model(vit_model, test_loader_CIFAR10, criterion, device)\n",
        "print(f\"\\nViT - Accuracy: {vit_accuracy:.2f}% Loss: {vit_avg_loss:.4f}\")\n",
        "\n",
        "print(\"=====\\nON Modified TEST SET=====\")\n",
        "vit_accuracy, vit_avg_loss = evaluate_model(vit_model, test_loader, criterion, device)\n",
        "print(f\"\\nViT - Accuracy: {vit_accuracy:.2f}% Loss: {vit_avg_loss:.4f}\")"
      ]
    },
    {
      "cell_type": "markdown",
      "metadata": {
        "id": "XDVytRoLxhl_"
      },
      "source": [
        "VGG 16"
      ]
    },
    {
      "cell_type": "code",
      "execution_count": null,
      "metadata": {
        "colab": {
          "background_save": true
        },
        "id": "vq3QEoxpxjAj",
        "outputId": "ac8bc158-0c52-466b-a64b-11a8aef3ccd3"
      },
      "outputs": [
        {
          "name": "stdout",
          "output_type": "stream",
          "text": [
            "=====ON NORMAL TEST SET=====\n"
          ]
        },
        {
          "name": "stderr",
          "output_type": "stream",
          "text": [
            "100%|██████████| 8/8 [00:08<00:00,  1.04s/it]\n"
          ]
        },
        {
          "name": "stdout",
          "output_type": "stream",
          "text": [
            "\n",
            "Model Evaluation - Accuracy: 77.90% | Loss: 0.6605\n",
            "\n",
            "VGG - Accuracy: 77.90% Loss: 0.6605\n",
            "=====\n",
            "ON Modified TEST SET=====\n"
          ]
        },
        {
          "name": "stderr",
          "output_type": "stream",
          "text": [
            "100%|██████████| 8/8 [00:07<00:00,  1.13it/s]"
          ]
        },
        {
          "name": "stdout",
          "output_type": "stream",
          "text": [
            "\n",
            "Model Evaluation - Accuracy: 54.30% | Loss: 1.3278\n",
            "\n",
            "VGG - Accuracy: 54.30% Loss: 1.3278\n"
          ]
        },
        {
          "name": "stderr",
          "output_type": "stream",
          "text": [
            "\n"
          ]
        }
      ],
      "source": [
        "#testing\n",
        "criterion = nn.CrossEntropyLoss()\n",
        "print(\"=====ON NORMAL TEST SET=====\")\n",
        "vgg_accuracy, vgg_avg_loss = evaluate_model(vgg_model, test_loader_CIFAR10, criterion, device)\n",
        "print(f\"\\nVGG - Accuracy: {vgg_accuracy:.2f}% Loss: {vgg_avg_loss:.4f}\")\n",
        "\n",
        "print(\"=====\\nON Modified TEST SET=====\")\n",
        "vgg_accuracy, vgg_avg_loss = evaluate_model(vgg_model, test_loader, criterion, device)\n",
        "print(f\"\\nVGG - Accuracy: {vgg_accuracy:.2f}% Loss: {vgg_avg_loss:.4f}\")"
      ]
    },
    {
      "cell_type": "markdown",
      "metadata": {
        "id": "dtv6yz45xzwC"
      },
      "source": [
        "ResNet"
      ]
    },
    {
      "cell_type": "code",
      "execution_count": null,
      "metadata": {
        "colab": {
          "background_save": true
        },
        "id": "Jv1-0V7nxxxy",
        "outputId": "abe8b952-c442-43c6-9c17-99f84a9851bc"
      },
      "outputs": [
        {
          "name": "stdout",
          "output_type": "stream",
          "text": [
            "=====ON NORMAL TEST SET=====\n"
          ]
        },
        {
          "name": "stderr",
          "output_type": "stream",
          "text": [
            "100%|██████████| 8/8 [00:06<00:00,  1.20it/s]\n"
          ]
        },
        {
          "name": "stdout",
          "output_type": "stream",
          "text": [
            "\n",
            "Model Evaluation - Accuracy: 75.40% | Loss: 0.7191\n",
            "\n",
            "ResNet - Accuracy: 75.40% Loss: 0.7191\n",
            "=====\n",
            "ON Modified TEST SET=====\n"
          ]
        },
        {
          "name": "stderr",
          "output_type": "stream",
          "text": [
            "100%|██████████| 8/8 [00:05<00:00,  1.50it/s]"
          ]
        },
        {
          "name": "stdout",
          "output_type": "stream",
          "text": [
            "\n",
            "Model Evaluation - Accuracy: 19.90% | Loss: 7.7870\n",
            "\n",
            "ResNet - Accuracy: 19.90% Loss: 7.7870\n"
          ]
        },
        {
          "name": "stderr",
          "output_type": "stream",
          "text": [
            "\n"
          ]
        }
      ],
      "source": [
        "criterion = nn.CrossEntropyLoss()\n",
        "print(\"=====ON NORMAL TEST SET=====\")\n",
        "resnet_accuracy, resnet_avg_loss = evaluate_model(resnet_model, test_loader_CIFAR10, criterion, device)\n",
        "print(f\"\\nResNet - Accuracy: {resnet_accuracy:.2f}% Loss: {resnet_avg_loss:.4f}\")\n",
        "\n",
        "print(\"=====\\nON Modified TEST SET=====\")\n",
        "resnet_accuracy, resnet_avg_loss = evaluate_model(resnet_model, test_loader, criterion, device)\n",
        "print(f\"\\nResNet - Accuracy: {resnet_accuracy:.2f}% Loss: {resnet_avg_loss:.4f}\")"
      ]
    },
    {
      "cell_type": "markdown",
      "metadata": {
        "id": "egHO_dIByAC5"
      },
      "source": [
        "Clip-ViT-Base"
      ]
    },
    {
      "cell_type": "code",
      "execution_count": 30,
      "metadata": {
        "colab": {
          "base_uri": "https://localhost:8080/"
        },
        "id": "uUgYTjDwyBNX",
        "outputId": "2cc99136-ed75-4fec-d93c-5db2155fe466"
      },
      "outputs": [
        {
          "output_type": "stream",
          "name": "stderr",
          "text": [
            "Evaluating: 100%|██████████| 8/8 [00:50<00:00,  6.35s/it]"
          ]
        },
        {
          "output_type": "stream",
          "name": "stdout",
          "text": [
            "=====ON NORMAL TEST SET=====\n",
            "\n",
            "Zero-shot classification accuracy on NOISY CIFAR-10: 95.3000%\n",
            "=====\n",
            "ON Modified TEST SET=====\n",
            "\n",
            "Zero-shot classification accuracy on NOISY CIFAR-10: 25.8000%\n"
          ]
        },
        {
          "output_type": "stream",
          "name": "stderr",
          "text": [
            "\n"
          ]
        }
      ],
      "source": [
        "clip_model = CLIPModel.from_pretrained(\"openai/clip-vit-large-patch14\").to(device)\n",
        "cifar_processor = CLIPProcessor.from_pretrained(\"openai/clip-vit-large-patch14\")\n",
        "\n",
        "clip_model.eval()\n",
        "\n",
        "# Define class names for CIFAR-10\n",
        "class_names = ['airplane', 'automobile', 'bird', 'cat', 'deer', 'dog', 'frog', 'horse', 'ship', 'truck']\n",
        "labels = [f\"a photo of a {class_name}\" for class_name in class_names]\n",
        "\n",
        "# Zero-shot evaluation on the test dataset with accuracy computation\n",
        "correct = 0\n",
        "total = 0\n",
        "\n",
        "with torch.no_grad():\n",
        "    for images, targets in tqdm(test_loader, desc=\"Evaluating\", leave=True):\n",
        "        images = [img.to(device) for img in images]\n",
        "        targets = targets.to(device)\n",
        "\n",
        "        # Normalize and clamp images to ensure they are in the range [0, 1]\n",
        "        images = [img.clamp(0, 1) for img in images]\n",
        "\n",
        "        # Process inputs for the CLIP model\n",
        "        inputs = cifar_processor(text=labels, images=images, return_tensors=\"pt\", padding=True, do_rescale=False).to(device)\n",
        "\n",
        "        # Forward pass\n",
        "        outputs = clip_model(**inputs)\n",
        "\n",
        "        # Get image-text similarity scores\n",
        "        logits_per_image = outputs.logits_per_image\n",
        "\n",
        "        # Compute probabilities using softmax\n",
        "        probs = logits_per_image.softmax(dim=1)\n",
        "\n",
        "        # Get predicted labels (as indices)\n",
        "        preds = torch.argmax(probs, dim=1)\n",
        "\n",
        "        # Calculate accuracy\n",
        "        correct += (preds == targets).sum().item()\n",
        "        total += targets.size(0)\n",
        "\n",
        "print(\"=====ON NORMAL TEST SET=====\")\n",
        "print(f\"\\nZero-shot classification accuracy on NOISY CIFAR-10: {CLIP_Accuracy:.4f}%\")\n",
        "\n",
        "\n",
        "print(\"=====\\nON Modified TEST SET=====\")\n",
        "# Final accuracy\n",
        "accuracy = correct / total * 100\n",
        "print(f\"\\nZero-shot classification accuracy on NOISY CIFAR-10: {accuracy:.4f}%\")"
      ]
    },
    {
      "cell_type": "markdown",
      "metadata": {
        "id": "8wPA_6_bIKNg"
      },
      "source": [
        "# 3 - Scrambled Images in Dataset:"
      ]
    },
    {
      "cell_type": "code",
      "execution_count": 31,
      "metadata": {
        "id": "qZkqcmFAIRWA"
      },
      "outputs": [],
      "source": [
        "def scramble_image(image, patch_size=8):\n",
        "    c, h, w = image.shape\n",
        "    patches = []\n",
        "\n",
        "    # Split the image into patches\n",
        "    for i in range(0, h, patch_size):\n",
        "        for j in range(0, w, patch_size):\n",
        "            patch = image[:, i:i+patch_size, j:j+patch_size]\n",
        "            patches.append(patch)\n",
        "\n",
        "    # Shuffle patches randomly\n",
        "    np.random.shuffle(patches)\n",
        "\n",
        "    # Reassemble the scrambled image\n",
        "    scrambled_image = torch.zeros_like(image)\n",
        "    patch_idx = 0\n",
        "    for i in range(0, h, patch_size):\n",
        "        for j in range(0, w, patch_size):\n",
        "            scrambled_image[:, i:i+patch_size, j:j+patch_size] = patches[patch_idx]\n",
        "            patch_idx += 1\n",
        "\n",
        "    return scrambled_image\n",
        "\n",
        "class ScrambledCIFAR10(Dataset):\n",
        "    def __init__(self, original_dataset, patch_size=8):\n",
        "        self.dataset = original_dataset\n",
        "        self.patch_size = patch_size\n",
        "\n",
        "    def __len__(self):\n",
        "        return len(self.dataset)\n",
        "\n",
        "    def __getitem__(self, idx):\n",
        "        image, label = self.dataset[idx]\n",
        "        scrambled_image = scramble_image(image, patch_size=self.patch_size)\n",
        "        return scrambled_image, label\n",
        "\n",
        "\n",
        "scrambled_cifar10_data_test  = ScrambledCIFAR10(test_dataset_CIFAR10, patch_size=16)\n",
        "scrambled_cifar10_loader_test = DataLoader(scrambled_cifar10_data_test, batch_size=64, shuffle=True)"
      ]
    },
    {
      "cell_type": "code",
      "execution_count": 32,
      "metadata": {
        "colab": {
          "base_uri": "https://localhost:8080/",
          "height": 290
        },
        "id": "Y4aa75PhI-Wu",
        "outputId": "f81e139e-0890-4b05-83a7-a1dc364dd26c"
      },
      "outputs": [
        {
          "output_type": "display_data",
          "data": {
            "text/plain": [
              "<Figure size 300x300 with 1 Axes>"
            ],
            "image/png": "[encoded data removed]"
          },
          "metadata": {}
        }
      ],
      "source": [
        "for scrambled_images, labels in scrambled_cifar10_loader_test:\n",
        "    for i in range(len(scrambled_images)):\n",
        "        show_image(scrambled_images[i], title=f'Scrambled Image {i}')\n",
        "        break\n",
        "    break"
      ]
    },
    {
      "cell_type": "markdown",
      "metadata": {
        "id": "hxjhQOarIRpc"
      },
      "source": [
        "### Testing on the Scrambled Images Dataset"
      ]
    },
    {
      "cell_type": "code",
      "execution_count": 33,
      "metadata": {
        "colab": {
          "base_uri": "https://localhost:8080/"
        },
        "id": "iaotRBqPJYF7",
        "outputId": "c543dd52-eae5-4997-acfc-34bd0ca58590"
      },
      "outputs": [
        {
          "output_type": "stream",
          "name": "stdout",
          "text": [
            "Total number of images in subset: 1000\n"
          ]
        }
      ],
      "source": [
        "# train_loader = noisy_cifar10_loader_train\n",
        "test_loader = scrambled_cifar10_loader_test\n",
        "test_dataset = scrambled_cifar10_data_test #to be used in CLIP\n",
        "\n",
        "print(f\"Total number of images in subset: {len(test_loader.dataset)}\")"
      ]
    },
    {
      "cell_type": "markdown",
      "metadata": {
        "id": "Ub10yN8ppjDK"
      },
      "source": [
        "### Testing With 16 as Patch Size"
      ]
    },
    {
      "cell_type": "markdown",
      "metadata": {
        "id": "8kG40gimtfpO"
      },
      "source": [
        "ViT"
      ]
    },
    {
      "cell_type": "code",
      "execution_count": null,
      "metadata": {
        "colab": {
          "base_uri": "https://localhost:8080/"
        },
        "id": "p9uwC9wutesv",
        "outputId": "0a340359-40e7-4c4c-8f09-9348488ab5eb"
      },
      "outputs": [
        {
          "name": "stdout",
          "output_type": "stream",
          "text": [
            "=====ON NORMAL TEST SET=====\n"
          ]
        },
        {
          "name": "stderr",
          "output_type": "stream",
          "text": [
            "100%|██████████| 8/8 [00:13<00:00,  1.64s/it]\n"
          ]
        },
        {
          "name": "stdout",
          "output_type": "stream",
          "text": [
            "\n",
            "Model Evaluation - Accuracy: 97.40% | Loss: 0.0835\n",
            "\n",
            "ViT - Accuracy: 97.40% Loss: 0.0835\n",
            "=====\n",
            "ON Modified TEST SET=====\n"
          ]
        },
        {
          "name": "stderr",
          "output_type": "stream",
          "text": [
            "100%|██████████| 16/16 [00:16<00:00,  1.05s/it]"
          ]
        },
        {
          "name": "stdout",
          "output_type": "stream",
          "text": [
            "\n",
            "Model Evaluation - Accuracy: 27.00% | Loss: 2.1634\n",
            "\n",
            "ViT - Accuracy: 27.00% Loss: 2.1634\n"
          ]
        },
        {
          "name": "stderr",
          "output_type": "stream",
          "text": [
            "\n"
          ]
        }
      ],
      "source": [
        "#testing\n",
        "criterion = nn.CrossEntropyLoss()\n",
        "\n",
        "print(\"=====ON NORMAL TEST SET=====\")\n",
        "vit_accuracy, vit_avg_loss = evaluate_model(vit_model, test_loader_CIFAR10, criterion, device)\n",
        "print(f\"\\nViT - Accuracy: {vit_accuracy:.2f}% Loss: {vit_avg_loss:.4f}\")\n",
        "\n",
        "print(\"=====\\nON Modified TEST SET=====\")\n",
        "vit_accuracy, vit_avg_loss = evaluate_model(vit_model, test_loader, criterion, device)\n",
        "print(f\"\\nViT - Accuracy: {vit_accuracy:.2f}% Loss: {vit_avg_loss:.4f}\")"
      ]
    },
    {
      "cell_type": "markdown",
      "metadata": {
        "id": "mh-s15hGtgtj"
      },
      "source": [
        "VGG"
      ]
    },
    {
      "cell_type": "code",
      "execution_count": null,
      "metadata": {
        "colab": {
          "base_uri": "https://localhost:8080/"
        },
        "id": "0Gp_nEYftez6",
        "outputId": "c3574947-011e-4c09-b108-b5d48408a5dd"
      },
      "outputs": [
        {
          "name": "stdout",
          "output_type": "stream",
          "text": [
            "=====ON NORMAL TEST SET=====\n"
          ]
        },
        {
          "name": "stderr",
          "output_type": "stream",
          "text": [
            "100%|██████████| 8/8 [00:07<00:00,  1.01it/s]\n"
          ]
        },
        {
          "name": "stdout",
          "output_type": "stream",
          "text": [
            "\n",
            "Model Evaluation - Accuracy: 77.90% | Loss: 0.6605\n",
            "\n",
            "VGG - Accuracy: 77.90% Loss: 0.6605\n",
            "=====\n",
            "ON Modified TEST SET=====\n"
          ]
        },
        {
          "name": "stderr",
          "output_type": "stream",
          "text": [
            "100%|██████████| 16/16 [00:12<00:00,  1.29it/s]"
          ]
        },
        {
          "name": "stdout",
          "output_type": "stream",
          "text": [
            "\n",
            "Model Evaluation - Accuracy: 12.00% | Loss: 3.8176\n",
            "\n",
            "VGG - Accuracy: 12.00% Loss: 3.8176\n"
          ]
        },
        {
          "name": "stderr",
          "output_type": "stream",
          "text": [
            "\n"
          ]
        }
      ],
      "source": [
        "#testing\n",
        "criterion = nn.CrossEntropyLoss()\n",
        "print(\"=====ON NORMAL TEST SET=====\")\n",
        "vgg_accuracy, vgg_avg_loss = evaluate_model(vgg_model, test_loader_CIFAR10, criterion, device)\n",
        "print(f\"\\nVGG - Accuracy: {vgg_accuracy:.2f}% Loss: {vgg_avg_loss:.4f}\")\n",
        "\n",
        "print(\"=====\\nON Modified TEST SET=====\")\n",
        "vgg_accuracy, vgg_avg_loss = evaluate_model(vgg_model, test_loader, criterion, device)\n",
        "print(f\"\\nVGG - Accuracy: {vgg_accuracy:.2f}% Loss: {vgg_avg_loss:.4f}\")"
      ]
    },
    {
      "cell_type": "markdown",
      "metadata": {
        "id": "sRa1yOCxtiBq"
      },
      "source": [
        "ResNet"
      ]
    },
    {
      "cell_type": "code",
      "execution_count": null,
      "metadata": {
        "colab": {
          "base_uri": "https://localhost:8080/"
        },
        "id": "hJ3drP1rte6k",
        "outputId": "0f3fd512-1eb6-4020-a184-53d92bb076d5"
      },
      "outputs": [
        {
          "name": "stdout",
          "output_type": "stream",
          "text": [
            "=====ON NORMAL TEST SET=====\n"
          ]
        },
        {
          "name": "stderr",
          "output_type": "stream",
          "text": [
            "100%|██████████| 8/8 [00:07<00:00,  1.04it/s]\n"
          ]
        },
        {
          "name": "stdout",
          "output_type": "stream",
          "text": [
            "\n",
            "Model Evaluation - Accuracy: 75.40% | Loss: 0.7191\n",
            "\n",
            "ResNet - Accuracy: 75.40% Loss: 0.7191\n",
            "=====\n",
            "ON Modified TEST SET=====\n"
          ]
        },
        {
          "name": "stderr",
          "output_type": "stream",
          "text": [
            "100%|██████████| 16/16 [00:10<00:00,  1.50it/s]"
          ]
        },
        {
          "name": "stdout",
          "output_type": "stream",
          "text": [
            "\n",
            "Model Evaluation - Accuracy: 12.70% | Loss: 2.5639\n",
            "\n",
            "ResNet - Accuracy: 12.70% Loss: 2.5639\n"
          ]
        },
        {
          "name": "stderr",
          "output_type": "stream",
          "text": [
            "\n"
          ]
        }
      ],
      "source": [
        "criterion = nn.CrossEntropyLoss()\n",
        "print(\"=====ON NORMAL TEST SET=====\")\n",
        "resnet_accuracy, resnet_avg_loss = evaluate_model(resnet_model, test_loader_CIFAR10, criterion, device)\n",
        "print(f\"\\nResNet - Accuracy: {resnet_accuracy:.2f}% Loss: {resnet_avg_loss:.4f}\")\n",
        "\n",
        "print(\"=====\\nON Modified TEST SET=====\")\n",
        "resnet_accuracy, resnet_avg_loss = evaluate_model(resnet_model, test_loader, criterion, device)\n",
        "print(f\"\\nResNet - Accuracy: {resnet_accuracy:.2f}% Loss: {resnet_avg_loss:.4f}\")"
      ]
    },
    {
      "cell_type": "markdown",
      "metadata": {
        "id": "o0SYZYeCtjJk"
      },
      "source": [
        "CLIP"
      ]
    },
    {
      "cell_type": "code",
      "execution_count": 34,
      "metadata": {
        "colab": {
          "base_uri": "https://localhost:8080/"
        },
        "id": "ib2mBOBDtfIp",
        "outputId": "6f09a2ad-8a79-496e-c7c2-29770ce891bb"
      },
      "outputs": [
        {
          "output_type": "stream",
          "name": "stderr",
          "text": [
            "Evaluating: 100%|██████████| 16/16 [00:55<00:00,  3.49s/it]"
          ]
        },
        {
          "output_type": "stream",
          "name": "stdout",
          "text": [
            "=====ON NORMAL TEST SET=====\n",
            "\n",
            "Zero-shot classification accuracy on NOISY CIFAR-10: 95.3000%\n",
            "=====\n",
            "ON Modified TEST SET=====\n",
            "\n",
            "Zero-shot classification accuracy on NOISY CIFAR-10: 26.5000%\n"
          ]
        },
        {
          "output_type": "stream",
          "name": "stderr",
          "text": [
            "\n"
          ]
        }
      ],
      "source": [
        "clip_model = CLIPModel.from_pretrained(\"openai/clip-vit-large-patch14\").to(device)\n",
        "cifar_processor = CLIPProcessor.from_pretrained(\"openai/clip-vit-large-patch14\")\n",
        "\n",
        "clip_model.eval()\n",
        "\n",
        "# Define class names for CIFAR-10\n",
        "class_names = ['airplane', 'automobile', 'bird', 'cat', 'deer', 'dog', 'frog', 'horse', 'ship', 'truck']\n",
        "labels = [f\"a photo of a {class_name}\" for class_name in class_names]\n",
        "\n",
        "# Zero-shot evaluation on the test dataset with accuracy computation\n",
        "correct = 0\n",
        "total = 0\n",
        "\n",
        "with torch.no_grad():\n",
        "    for images, targets in tqdm(test_loader, desc=\"Evaluating\", leave=True):\n",
        "        images = [img.to(device) for img in images]\n",
        "        targets = targets.to(device)\n",
        "\n",
        "        # Normalize and clamp images to ensure they are in the range [0, 1]\n",
        "        images = [img.clamp(0, 1) for img in images]\n",
        "\n",
        "        # Process inputs for the CLIP model\n",
        "        inputs = cifar_processor(text=labels, images=images, return_tensors=\"pt\", padding=True, do_rescale=False).to(device)\n",
        "\n",
        "        # Forward pass\n",
        "        outputs = clip_model(**inputs)\n",
        "\n",
        "        # Get image-text similarity scores\n",
        "        logits_per_image = outputs.logits_per_image\n",
        "\n",
        "        # Compute probabilities using softmax\n",
        "        probs = logits_per_image.softmax(dim=1)\n",
        "\n",
        "        # Get predicted labels (as indices)\n",
        "        preds = torch.argmax(probs, dim=1)\n",
        "\n",
        "        # Calculate accuracy\n",
        "        correct += (preds == targets).sum().item()\n",
        "        total += targets.size(0)\n",
        "\n",
        "print(\"=====ON NORMAL TEST SET=====\")\n",
        "print(f\"\\nZero-shot classification accuracy on NOISY CIFAR-10: {CLIP_Accuracy:.4f}%\")\n",
        "\n",
        "\n",
        "print(\"=====\\nON Modified TEST SET=====\")\n",
        "# Final accuracy\n",
        "accuracy = correct / total * 100\n",
        "print(f\"\\nZero-shot classification accuracy on NOISY CIFAR-10: {accuracy:.4f}%\")"
      ]
    },
    {
      "cell_type": "markdown",
      "metadata": {
        "id": "sINPRlKKGLdw"
      },
      "source": [
        "### Testing With 32 as Patch Size"
      ]
    },
    {
      "cell_type": "code",
      "execution_count": 35,
      "metadata": {
        "colab": {
          "base_uri": "https://localhost:8080/",
          "height": 307
        },
        "id": "1vbJXmX4GO_m",
        "outputId": "bc55a129-58dc-4a79-efbf-b6ba02dbf12e"
      },
      "outputs": [
        {
          "output_type": "display_data",
          "data": {
            "text/plain": [
              "<Figure size 300x300 with 1 Axes>"
            ],
            "image/png": "[encoded data removed]"
          },
          "metadata": {}
        },
        {
          "output_type": "stream",
          "name": "stdout",
          "text": [
            "Total number of images in subset: 1000\n"
          ]
        }
      ],
      "source": [
        "scrambled_cifar10_data_test  = ScrambledCIFAR10(test_dataset_CIFAR10, patch_size=32)\n",
        "scrambled_cifar10_loader_test = DataLoader(scrambled_cifar10_data_test, batch_size=64, shuffle=True)\n",
        "\n",
        "for scrambled_images, labels in scrambled_cifar10_loader_test:\n",
        "    for i in range(len(scrambled_images)):\n",
        "        show_image(scrambled_images[i], title=f'Scrambled Image {i}')\n",
        "        break\n",
        "    break\n",
        "\n",
        "# train_loader = noisy_cifar10_loader_train\n",
        "test_loader = scrambled_cifar10_loader_test\n",
        "test_dataset = scrambled_cifar10_data_test #to be used in CLIP\n",
        "\n",
        "print(f\"Total number of images in subset: {len(test_loader.dataset)}\")"
      ]
    },
    {
      "cell_type": "markdown",
      "metadata": {
        "id": "sp_J-6DEGc58"
      },
      "source": [
        "ViT"
      ]
    },
    {
      "cell_type": "code",
      "execution_count": null,
      "metadata": {
        "colab": {
          "base_uri": "https://localhost:8080/"
        },
        "id": "pol415A0GZ_N",
        "outputId": "42dfbcdc-21ce-474a-e319-50f39ec2546a"
      },
      "outputs": [
        {
          "name": "stdout",
          "output_type": "stream",
          "text": [
            "=====ON NORMAL TEST SET=====\n"
          ]
        },
        {
          "name": "stderr",
          "output_type": "stream",
          "text": [
            "100%|██████████| 8/8 [00:12<00:00,  1.59s/it]\n"
          ]
        },
        {
          "name": "stdout",
          "output_type": "stream",
          "text": [
            "\n",
            "Model Evaluation - Accuracy: 97.40% | Loss: 0.0835\n",
            "\n",
            "ViT - Accuracy: 97.40% Loss: 0.0835\n",
            "=====\n",
            "ON Modified TEST SET=====\n"
          ]
        },
        {
          "name": "stderr",
          "output_type": "stream",
          "text": [
            "100%|██████████| 16/16 [00:15<00:00,  1.06it/s]"
          ]
        },
        {
          "name": "stdout",
          "output_type": "stream",
          "text": [
            "\n",
            "Model Evaluation - Accuracy: 53.50% | Loss: 1.4588\n",
            "\n",
            "ViT - Accuracy: 53.50% Loss: 1.4588\n"
          ]
        },
        {
          "name": "stderr",
          "output_type": "stream",
          "text": [
            "\n"
          ]
        }
      ],
      "source": [
        "#testing\n",
        "criterion = nn.CrossEntropyLoss()\n",
        "\n",
        "print(\"=====ON NORMAL TEST SET=====\")\n",
        "vit_accuracy, vit_avg_loss = evaluate_model(vit_model, test_loader_CIFAR10, criterion, device)\n",
        "print(f\"\\nViT - Accuracy: {vit_accuracy:.2f}% Loss: {vit_avg_loss:.4f}\")\n",
        "\n",
        "print(\"=====\\nON Modified TEST SET=====\")\n",
        "vit_accuracy, vit_avg_loss = evaluate_model(vit_model, test_loader, criterion, device)\n",
        "print(f\"\\nViT - Accuracy: {vit_accuracy:.2f}% Loss: {vit_avg_loss:.4f}\")"
      ]
    },
    {
      "cell_type": "markdown",
      "metadata": {
        "id": "uGx8SBXuGlHK"
      },
      "source": [
        "Vgg"
      ]
    },
    {
      "cell_type": "code",
      "execution_count": null,
      "metadata": {
        "colab": {
          "base_uri": "https://localhost:8080/"
        },
        "id": "ncs77Vh-Glob",
        "outputId": "87d374f3-fd90-4381-8e88-d54adef4d438"
      },
      "outputs": [
        {
          "name": "stdout",
          "output_type": "stream",
          "text": [
            "=====ON NORMAL TEST SET=====\n"
          ]
        },
        {
          "name": "stderr",
          "output_type": "stream",
          "text": [
            "100%|██████████| 8/8 [00:08<00:00,  1.03s/it]\n"
          ]
        },
        {
          "name": "stdout",
          "output_type": "stream",
          "text": [
            "\n",
            "Model Evaluation - Accuracy: 77.90% | Loss: 0.6605\n",
            "\n",
            "VGG - Accuracy: 77.90% Loss: 0.6605\n",
            "=====\n",
            "ON Modified TEST SET=====\n"
          ]
        },
        {
          "name": "stderr",
          "output_type": "stream",
          "text": [
            "100%|██████████| 16/16 [00:08<00:00,  1.82it/s]"
          ]
        },
        {
          "name": "stdout",
          "output_type": "stream",
          "text": [
            "\n",
            "Model Evaluation - Accuracy: 11.90% | Loss: 4.2885\n",
            "\n",
            "VGG - Accuracy: 11.90% Loss: 4.2885\n"
          ]
        },
        {
          "name": "stderr",
          "output_type": "stream",
          "text": [
            "\n"
          ]
        }
      ],
      "source": [
        "#testing\n",
        "criterion = nn.CrossEntropyLoss()\n",
        "print(\"=====ON NORMAL TEST SET=====\")\n",
        "vgg_accuracy, vgg_avg_loss = evaluate_model(vgg_model, test_loader_CIFAR10, criterion, device)\n",
        "print(f\"\\nVGG - Accuracy: {vgg_accuracy:.2f}% Loss: {vgg_avg_loss:.4f}\")\n",
        "\n",
        "print(\"=====\\nON Modified TEST SET=====\")\n",
        "vgg_accuracy, vgg_avg_loss = evaluate_model(vgg_model, test_loader, criterion, device)\n",
        "print(f\"\\nVGG - Accuracy: {vgg_accuracy:.2f}% Loss: {vgg_avg_loss:.4f}\")"
      ]
    },
    {
      "cell_type": "markdown",
      "metadata": {
        "id": "S9OkOSV7GmA5"
      },
      "source": [
        "ResNet"
      ]
    },
    {
      "cell_type": "code",
      "execution_count": null,
      "metadata": {
        "colab": {
          "base_uri": "https://localhost:8080/"
        },
        "id": "SeJsgU5-GmsJ",
        "outputId": "33ae9c5f-381b-45a3-8a81-beccf2009fcb"
      },
      "outputs": [
        {
          "name": "stdout",
          "output_type": "stream",
          "text": [
            "=====ON NORMAL TEST SET=====\n"
          ]
        },
        {
          "name": "stderr",
          "output_type": "stream",
          "text": [
            "100%|██████████| 8/8 [00:07<00:00,  1.12it/s]\n"
          ]
        },
        {
          "name": "stdout",
          "output_type": "stream",
          "text": [
            "\n",
            "Model Evaluation - Accuracy: 75.40% | Loss: 0.7191\n",
            "\n",
            "ResNet - Accuracy: 75.40% Loss: 0.7191\n",
            "=====\n",
            "ON Modified TEST SET=====\n"
          ]
        },
        {
          "name": "stderr",
          "output_type": "stream",
          "text": [
            "100%|██████████| 16/16 [00:07<00:00,  2.14it/s]"
          ]
        },
        {
          "name": "stdout",
          "output_type": "stream",
          "text": [
            "\n",
            "Model Evaluation - Accuracy: 23.70% | Loss: 2.1670\n",
            "\n",
            "ResNet - Accuracy: 23.70% Loss: 2.1670\n"
          ]
        },
        {
          "name": "stderr",
          "output_type": "stream",
          "text": [
            "\n"
          ]
        }
      ],
      "source": [
        "criterion = nn.CrossEntropyLoss()\n",
        "print(\"=====ON NORMAL TEST SET=====\")\n",
        "resnet_accuracy, resnet_avg_loss = evaluate_model(resnet_model, test_loader_CIFAR10, criterion, device)\n",
        "print(f\"\\nResNet - Accuracy: {resnet_accuracy:.2f}% Loss: {resnet_avg_loss:.4f}\")\n",
        "\n",
        "print(\"=====\\nON Modified TEST SET=====\")\n",
        "resnet_accuracy, resnet_avg_loss = evaluate_model(resnet_model, test_loader, criterion, device)\n",
        "print(f\"\\nResNet - Accuracy: {resnet_accuracy:.2f}% Loss: {resnet_avg_loss:.4f}\")"
      ]
    },
    {
      "cell_type": "markdown",
      "metadata": {
        "id": "fD5TQCWKGm0M"
      },
      "source": [
        "CLIP"
      ]
    },
    {
      "cell_type": "code",
      "execution_count": 36,
      "metadata": {
        "colab": {
          "base_uri": "https://localhost:8080/"
        },
        "id": "th3hQHSaGnhY",
        "outputId": "8728d920-3d26-45ea-c298-3fc745e0c9ab"
      },
      "outputs": [
        {
          "output_type": "stream",
          "name": "stderr",
          "text": [
            "Evaluating: 100%|██████████| 16/16 [00:52<00:00,  3.26s/it]"
          ]
        },
        {
          "output_type": "stream",
          "name": "stdout",
          "text": [
            "=====ON NORMAL TEST SET=====\n",
            "\n",
            "Zero-shot classification accuracy on NOISY CIFAR-10: 95.3000%\n",
            "=====\n",
            "ON Modified TEST SET=====\n",
            "\n",
            "Zero-shot classification accuracy on NOISY CIFAR-10: 46.0000%\n"
          ]
        },
        {
          "output_type": "stream",
          "name": "stderr",
          "text": [
            "\n"
          ]
        }
      ],
      "source": [
        "clip_model = CLIPModel.from_pretrained(\"openai/clip-vit-large-patch14\").to(device)\n",
        "cifar_processor = CLIPProcessor.from_pretrained(\"openai/clip-vit-large-patch14\")\n",
        "\n",
        "clip_model.eval()\n",
        "\n",
        "# Define class names for CIFAR-10\n",
        "class_names = ['airplane', 'automobile', 'bird', 'cat', 'deer', 'dog', 'frog', 'horse', 'ship', 'truck']\n",
        "labels = [f\"a photo of a {class_name}\" for class_name in class_names]\n",
        "\n",
        "# Zero-shot evaluation on the test dataset with accuracy computation\n",
        "correct = 0\n",
        "total = 0\n",
        "\n",
        "with torch.no_grad():\n",
        "    for images, targets in tqdm(test_loader, desc=\"Evaluating\", leave=True):\n",
        "        images = [img.to(device) for img in images]\n",
        "        targets = targets.to(device)\n",
        "\n",
        "        # Normalize and clamp images to ensure they are in the range [0, 1]\n",
        "        images = [img.clamp(0, 1) for img in images]\n",
        "\n",
        "        # Process inputs for the CLIP model\n",
        "        inputs = cifar_processor(text=labels, images=images, return_tensors=\"pt\", padding=True, do_rescale=False).to(device)\n",
        "\n",
        "        # Forward pass\n",
        "        outputs = clip_model(**inputs)\n",
        "\n",
        "        # Get image-text similarity scores\n",
        "        logits_per_image = outputs.logits_per_image\n",
        "\n",
        "        # Compute probabilities using softmax\n",
        "        probs = logits_per_image.softmax(dim=1)\n",
        "\n",
        "        # Get predicted labels (as indices)\n",
        "        preds = torch.argmax(probs, dim=1)\n",
        "\n",
        "        # Calculate accuracy\n",
        "        correct += (preds == targets).sum().item()\n",
        "        total += targets.size(0)\n",
        "\n",
        "print(\"=====ON NORMAL TEST SET=====\")\n",
        "print(f\"\\nZero-shot classification accuracy on NOISY CIFAR-10: {CLIP_Accuracy:.4f}%\")\n",
        "\n",
        "\n",
        "print(\"=====\\nON Modified TEST SET=====\")\n",
        "# Final accuracy\n",
        "accuracy = correct / total * 100\n",
        "print(f\"\\nZero-shot classification accuracy on NOISY CIFAR-10: {accuracy:.4f}%\")"
      ]
    },
    {
      "cell_type": "markdown",
      "metadata": {
        "id": "Op8rS0p3Hdf3"
      },
      "source": [
        "Saving the Weights"
      ]
    },
    {
      "cell_type": "code",
      "execution_count": null,
      "metadata": {
        "colab": {
          "base_uri": "https://localhost:8080/"
        },
        "id": "sk_IPEtrHepT",
        "outputId": "9b394946-10f2-4d03-dd56-537cdf652cad"
      },
      "outputs": [
        {
          "name": "stdout",
          "output_type": "stream",
          "text": [
            "Model weights saved successfully.\n"
          ]
        }
      ],
      "source": [
        "# Save only the classifier parameters\n",
        "torch.save(vit_model.head.state_dict(), \"vit_finetuned_classifier.pth\")\n",
        "torch.save(vgg_model.head.state_dict(), \"vgg_finetuned_classifier.pth\")\n",
        "torch.save(resnet_model.fc.state_dict(), \"resnet_finetuned_classifier.pth\")\n",
        "\n",
        "print(\"Model weights saved successfully.\")\n",
        "\n",
        "#Reuse Weights Via\n",
        "# # Initialize the model (same architecture)\n",
        "# vit_model = timm.create_model('vit_base_patch16_224', pretrained=False)\n",
        "# vit_model.head = nn.Linear(vit_model.head.in_features, 10)\n",
        "\n",
        "# # Load the saved weights\n",
        "# vit_model.head.load_state_dict(torch.load(\"vit_finetuned_classifier.pth\"))\n",
        "\n",
        "# # Move the model to the appropriate device (e.g., GPU)\n",
        "# vit_model = vit_model.to(device)\n",
        "\n",
        "# print(\"Model weights loaded successfully.\")"
      ]
    },
    {
      "cell_type": "code",
      "execution_count": null,
      "metadata": {
        "colab": {
          "base_uri": "https://localhost:8080/",
          "height": 35
        },
        "id": "8TALZA10IC1b",
        "outputId": "264a7619-defb-44f0-dfc3-41467d0f3560"
      },
      "outputs": [
        {
          "data": {
            "application/vnd.google.colaboratory.intrinsic+json": {
              "type": "string"
            },
            "text/plain": [
              "'/content/fine_tuned_models.zip'"
            ]
          },
          "execution_count": 53,
          "metadata": {},
          "output_type": "execute_result"
        }
      ],
      "source": [
        "import zipfile\n",
        "\n",
        "# File names to zip\n",
        "files_to_zip = [\"vit_finetuned_classifier.pth\", \"vgg_finetuned_classifier.pth\", \"resnet_finetuned_classifier.pth\"]\n",
        "zip_filename = \"/content/fine_tuned_models.zip\"\n",
        "\n",
        "# Create a zip file and add the model files\n",
        "with zipfile.ZipFile(zip_filename, 'w') as zipf:\n",
        "    for file in files_to_zip:\n",
        "        zipf.write(file)\n",
        "\n",
        "zip_filename"
      ]
    },
    {
      "cell_type": "code",
      "execution_count": null,
      "metadata": {
        "colab": {
          "base_uri": "https://localhost:8080/"
        },
        "id": "gu3N3Go0IX6u",
        "outputId": "45446725-9c06-4cc7-c11d-f5804ee987d6"
      },
      "outputs": [
        {
          "name": "stdout",
          "output_type": "stream",
          "text": [
            "Size of the zip file: 282228 bytes\n"
          ]
        }
      ],
      "source": [
        "import os\n",
        "# print size of zip file in mbs\n",
        "# print size of zip file in mbs\n",
        "print(\"Size of the zip file:\", os.path.getsize(zip_filename), \"bytes\")"
      ]
    }
  ],
  "metadata": {
    "accelerator": "GPU",
    "colab": {
      "gpuType": "T4",
      "provenance": []
    },
    "kernelspec": {
      "display_name": "Python 3",
      "name": "python3"
    },
    "language_info": {
      "name": "python"
    },
    "widgets": {
      "application/vnd.jupyter.widget-state+json": {
        "1937528544c444c9bfc4e8ffde40d750": {
          "model_module": "@jupyter-widgets/controls",
          "model_module_version": "1.5.0",
          "model_name": "HBoxModel",
          "state": {
            "_dom_classes": [],
            "_model_module": "@jupyter-widgets/controls",
            "_model_module_version": "1.5.0",
            "_model_name": "HBoxModel",
            "_view_count": null,
            "_view_module": "@jupyter-widgets/controls",
            "_view_module_version": "1.5.0",
            "_view_name": "HBoxView",
            "box_style": "",
            "children": [
              "IPY_MODEL_5b22ab1e3c4040b5873f4959a6ade195",
              "IPY_MODEL_48daf323824848f681192c6c4f728623",
              "IPY_MODEL_75ceb7cd74e14096a8d80cfc0e87dabd"
            ],
            "layout": "IPY_MODEL_b6fe2574b6724a28b54e266b91849ca0"
          }
        },
        "20ff68366c464391a36b045a8764ce4e": {
          "model_module": "@jupyter-widgets/controls",
          "model_module_version": "1.5.0",
          "model_name": "ProgressStyleModel",
          "state": {
            "_model_module": "@jupyter-widgets/controls",
            "_model_module_version": "1.5.0",
            "_model_name": "ProgressStyleModel",
            "_view_count": null,
            "_view_module": "@jupyter-widgets/base",
            "_view_module_version": "1.2.0",
            "_view_name": "StyleView",
            "bar_color": null,
            "description_width": ""
          }
        },
        "26d1801483f74c5b85df1607c64e0e60": {
          "model_module": "@jupyter-widgets/base",
          "model_module_version": "1.2.0",
          "model_name": "LayoutModel",
          "state": {
            "_model_module": "@jupyter-widgets/base",
            "_model_module_version": "1.2.0",
            "_model_name": "LayoutModel",
            "_view_count": null,
            "_view_module": "@jupyter-widgets/base",
            "_view_module_version": "1.2.0",
            "_view_name": "LayoutView",
            "align_content": null,
            "align_items": null,
            "align_self": null,
            "border": null,
            "bottom": null,
            "display": null,
            "flex": null,
            "flex_flow": null,
            "grid_area": null,
            "grid_auto_columns": null,
            "grid_auto_flow": null,
            "grid_auto_rows": null,
            "grid_column": null,
            "grid_gap": null,
            "grid_row": null,
            "grid_template_areas": null,
            "grid_template_columns": null,
            "grid_template_rows": null,
            "height": null,
            "justify_content": null,
            "justify_items": null,
            "left": null,
            "margin": null,
            "max_height": null,
            "max_width": null,
            "min_height": null,
            "min_width": null,
            "object_fit": null,
            "object_position": null,
            "order": null,
            "overflow": null,
            "overflow_x": null,
            "overflow_y": null,
            "padding": null,
            "right": null,
            "top": null,
            "visibility": null,
            "width": null
          }
        },
        "3c4b2855615341f6b769bd3c98233788": {
          "model_module": "@jupyter-widgets/controls",
          "model_module_version": "1.5.0",
          "model_name": "DescriptionStyleModel",
          "state": {
            "_model_module": "@jupyter-widgets/controls",
            "_model_module_version": "1.5.0",
            "_model_name": "DescriptionStyleModel",
            "_view_count": null,
            "_view_module": "@jupyter-widgets/base",
            "_view_module_version": "1.2.0",
            "_view_name": "StyleView",
            "description_width": ""
          }
        },
        "48daf323824848f681192c6c4f728623": {
          "model_module": "@jupyter-widgets/controls",
          "model_module_version": "1.5.0",
          "model_name": "FloatProgressModel",
          "state": {
            "_dom_classes": [],
            "_model_module": "@jupyter-widgets/controls",
            "_model_module_version": "1.5.0",
            "_model_name": "FloatProgressModel",
            "_view_count": null,
            "_view_module": "@jupyter-widgets/controls",
            "_view_module_version": "1.5.0",
            "_view_name": "ProgressView",
            "bar_style": "success",
            "description": "",
            "description_tooltip": null,
            "layout": "IPY_MODEL_63848239e7694a6a9ec84df2fa3f6989",
            "max": 346284714,
            "min": 0,
            "orientation": "horizontal",
            "style": "IPY_MODEL_20ff68366c464391a36b045a8764ce4e",
            "value": 346284714
          }
        },
        "57cfa4f90e8e4733b96bcf29e99cad48": {
          "model_module": "@jupyter-widgets/base",
          "model_module_version": "1.2.0",
          "model_name": "LayoutModel",
          "state": {
            "_model_module": "@jupyter-widgets/base",
            "_model_module_version": "1.2.0",
            "_model_name": "LayoutModel",
            "_view_count": null,
            "_view_module": "@jupyter-widgets/base",
            "_view_module_version": "1.2.0",
            "_view_name": "LayoutView",
            "align_content": null,
            "align_items": null,
            "align_self": null,
            "border": null,
            "bottom": null,
            "display": null,
            "flex": null,
            "flex_flow": null,
            "grid_area": null,
            "grid_auto_columns": null,
            "grid_auto_flow": null,
            "grid_auto_rows": null,
            "grid_column": null,
            "grid_gap": null,
            "grid_row": null,
            "grid_template_areas": null,
            "grid_template_columns": null,
            "grid_template_rows": null,
            "height": null,
            "justify_content": null,
            "justify_items": null,
            "left": null,
            "margin": null,
            "max_height": null,
            "max_width": null,
            "min_height": null,
            "min_width": null,
            "object_fit": null,
            "object_position": null,
            "order": null,
            "overflow": null,
            "overflow_x": null,
            "overflow_y": null,
            "padding": null,
            "right": null,
            "top": null,
            "visibility": null,
            "width": null
          }
        },
        "5b22ab1e3c4040b5873f4959a6ade195": {
          "model_module": "@jupyter-widgets/controls",
          "model_module_version": "1.5.0",
          "model_name": "HTMLModel",
          "state": {
            "_dom_classes": [],
            "_model_module": "@jupyter-widgets/controls",
            "_model_module_version": "1.5.0",
            "_model_name": "HTMLModel",
            "_view_count": null,
            "_view_module": "@jupyter-widgets/controls",
            "_view_module_version": "1.5.0",
            "_view_name": "HTMLView",
            "description": "",
            "description_tooltip": null,
            "layout": "IPY_MODEL_57cfa4f90e8e4733b96bcf29e99cad48",
            "placeholder": "​",
            "style": "IPY_MODEL_3c4b2855615341f6b769bd3c98233788",
            "value": "model.safetensors: 100%"
          }
        },
        "63848239e7694a6a9ec84df2fa3f6989": {
          "model_module": "@jupyter-widgets/base",
          "model_module_version": "1.2.0",
          "model_name": "LayoutModel",
          "state": {
            "_model_module": "@jupyter-widgets/base",
            "_model_module_version": "1.2.0",
            "_model_name": "LayoutModel",
            "_view_count": null,
            "_view_module": "@jupyter-widgets/base",
            "_view_module_version": "1.2.0",
            "_view_name": "LayoutView",
            "align_content": null,
            "align_items": null,
            "align_self": null,
            "border": null,
            "bottom": null,
            "display": null,
            "flex": null,
            "flex_flow": null,
            "grid_area": null,
            "grid_auto_columns": null,
            "grid_auto_flow": null,
            "grid_auto_rows": null,
            "grid_column": null,
            "grid_gap": null,
            "grid_row": null,
            "grid_template_areas": null,
            "grid_template_columns": null,
            "grid_template_rows": null,
            "height": null,
            "justify_content": null,
            "justify_items": null,
            "left": null,
            "margin": null,
            "max_height": null,
            "max_width": null,
            "min_height": null,
            "min_width": null,
            "object_fit": null,
            "object_position": null,
            "order": null,
            "overflow": null,
            "overflow_x": null,
            "overflow_y": null,
            "padding": null,
            "right": null,
            "top": null,
            "visibility": null,
            "width": null
          }
        },
        "6917155a0336469aaaef7931a1c498cf": {
          "model_module": "@jupyter-widgets/controls",
          "model_module_version": "1.5.0",
          "model_name": "DescriptionStyleModel",
          "state": {
            "_model_module": "@jupyter-widgets/controls",
            "_model_module_version": "1.5.0",
            "_model_name": "DescriptionStyleModel",
            "_view_count": null,
            "_view_module": "@jupyter-widgets/base",
            "_view_module_version": "1.2.0",
            "_view_name": "StyleView",
            "description_width": ""
          }
        },
        "75ceb7cd74e14096a8d80cfc0e87dabd": {
          "model_module": "@jupyter-widgets/controls",
          "model_module_version": "1.5.0",
          "model_name": "HTMLModel",
          "state": {
            "_dom_classes": [],
            "_model_module": "@jupyter-widgets/controls",
            "_model_module_version": "1.5.0",
            "_model_name": "HTMLModel",
            "_view_count": null,
            "_view_module": "@jupyter-widgets/controls",
            "_view_module_version": "1.5.0",
            "_view_name": "HTMLView",
            "description": "",
            "description_tooltip": null,
            "layout": "IPY_MODEL_26d1801483f74c5b85df1607c64e0e60",
            "placeholder": "​",
            "style": "IPY_MODEL_6917155a0336469aaaef7931a1c498cf",
            "value": " 346M/346M [00:03&lt;00:00, 120MB/s]"
          }
        },
        "b6fe2574b6724a28b54e266b91849ca0": {
          "model_module": "@jupyter-widgets/base",
          "model_module_version": "1.2.0",
          "model_name": "LayoutModel",
          "state": {
            "_model_module": "@jupyter-widgets/base",
            "_model_module_version": "1.2.0",
            "_model_name": "LayoutModel",
            "_view_count": null,
            "_view_module": "@jupyter-widgets/base",
            "_view_module_version": "1.2.0",
            "_view_name": "LayoutView",
            "align_content": null,
            "align_items": null,
            "align_self": null,
            "border": null,
            "bottom": null,
            "display": null,
            "flex": null,
            "flex_flow": null,
            "grid_area": null,
            "grid_auto_columns": null,
            "grid_auto_flow": null,
            "grid_auto_rows": null,
            "grid_column": null,
            "grid_gap": null,
            "grid_row": null,
            "grid_template_areas": null,
            "grid_template_columns": null,
            "grid_template_rows": null,
            "height": null,
            "justify_content": null,
            "justify_items": null,
            "left": null,
            "margin": null,
            "max_height": null,
            "max_width": null,
            "min_height": null,
            "min_width": null,
            "object_fit": null,
            "object_position": null,
            "order": null,
            "overflow": null,
            "overflow_x": null,
            "overflow_y": null,
            "padding": null,
            "right": null,
            "top": null,
            "visibility": null,
            "width": null
          }
        }
      }
    }
  },
  "nbformat": 4,
  "nbformat_minor": 0
}